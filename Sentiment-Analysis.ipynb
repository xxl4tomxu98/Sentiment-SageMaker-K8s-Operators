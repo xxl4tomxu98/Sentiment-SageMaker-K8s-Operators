{
 "cells": [
  {
   "cell_type": "markdown",
   "metadata": {},
   "source": [
    "# Creating a Sentiment Analysis Web App\n",
    "## Using PyTorch and SageMaker\n",
    "\n",
    "\n",
    "---\n",
    "\n",
    "We are building a sentiment analyzer for a movie review. Build and deploy model as an endpoint in AWS SageMaker. Create a simple web page where a user can type-in a movie review. The web page will then send the review off to our deployed model which will predict the sentiment (positive or negative) of the entered review.\n",
    "\n",
    "Steps followed for this project:\n",
    "\n",
    "1. Download or otherwise retrieve the data.\n",
    "2. Process / Prepare the data.\n",
    "3. Upload the processed data to S3.\n",
    "4. Train a chosen model.\n",
    "5. Test the trained model (typically using a batch transform job).\n",
    "6. Deploy the trained model.\n",
    "7. Use the deployed model.\n",
    "\n",
    "\n",
    "We will not be testing the model in its own step but by deploying the model and then using the deployed model by sending the test data to it. One of the reasons for doing this is so that we can make sure that the deployed model is working correctly before moving forward.\n",
    "\n",
    "In addition, we will deploy and use the trained model a second time. In the second iteration we will customize the way that the trained model is deployed by including some of additional code. The newly deployed model will be used in the sentiment analysis web app."
   ]
  },
  {
   "cell_type": "markdown",
   "metadata": {},
   "source": [
    "## Step 1: Downloading the data\n",
    "\n",
    "We will be using the [IMDb dataset](http://ai.stanford.edu/~amaas/data/sentiment/)\n",
    "\n",
    "> Maas, Andrew L., et al. [Learning Word Vectors for Sentiment Analysis](http://ai.stanford.edu/~amaas/data/sentiment/). In _Proceedings of the 49th Annual Meeting of the Association for Computational Linguistics: Human Language Technologies_. Association for Computational Linguistics, 2011."
   ]
  },
  {
   "cell_type": "code",
   "execution_count": 90,
   "metadata": {},
   "outputs": [
    {
     "name": "stdout",
     "output_type": "stream",
     "text": [
      "mkdir: cannot create directory ‘../data’: File exists\n",
      "--2021-08-10 19:41:02--  http://ai.stanford.edu/~amaas/data/sentiment/aclImdb_v1.tar.gz\n",
      "Resolving ai.stanford.edu (ai.stanford.edu)... 171.64.68.10\n",
      "Connecting to ai.stanford.edu (ai.stanford.edu)|171.64.68.10|:80... connected.\n",
      "HTTP request sent, awaiting response... 200 OK\n",
      "Length: 84125825 (80M) [application/x-gzip]\n",
      "Saving to: ‘../data/aclImdb_v1.tar.gz’\n",
      "\n",
      "../data/aclImdb_v1. 100%[===================>]  80.23M  19.9MB/s    in 5.5s    \n",
      "\n",
      "2021-08-10 19:41:08 (14.5 MB/s) - ‘../data/aclImdb_v1.tar.gz’ saved [84125825/84125825]\n",
      "\n"
     ]
    }
   ],
   "source": [
    "%mkdir ../data\n",
    "!wget -O ../data/aclImdb_v1.tar.gz http://ai.stanford.edu/~amaas/data/sentiment/aclImdb_v1.tar.gz\n",
    "!tar -zxf ../data/aclImdb_v1.tar.gz -C ../data"
   ]
  },
  {
   "cell_type": "markdown",
   "metadata": {},
   "source": [
    "## Step 2: Preparing and Processing the data\n",
    "\n",
    "We will read in each of the reviews and combine them into a single input structure. Then, we will split the dataset into a training set and a testing set."
   ]
  },
  {
   "cell_type": "code",
   "execution_count": 91,
   "metadata": {},
   "outputs": [],
   "source": [
    "import os\n",
    "import glob\n",
    "\n",
    "def read_imdb_data(data_dir='../data/aclImdb'):\n",
    "    data = {}\n",
    "    labels = {}\n",
    "    \n",
    "    for data_type in ['train', 'test']:\n",
    "        data[data_type] = {}\n",
    "        labels[data_type] = {}\n",
    "        \n",
    "        for sentiment in ['pos', 'neg']:\n",
    "            data[data_type][sentiment] = []\n",
    "            labels[data_type][sentiment] = []\n",
    "            \n",
    "            path = os.path.join(data_dir, data_type, sentiment, '*.txt')\n",
    "            files = glob.glob(path)\n",
    "            \n",
    "            for f in files:\n",
    "                with open(f) as review:\n",
    "                    data[data_type][sentiment].append(review.read())\n",
    "                    # Here we represent a positive review by '1' and a negative review by '0'\n",
    "                    labels[data_type][sentiment].append(1 if sentiment == 'pos' else 0)\n",
    "                    \n",
    "            assert len(data[data_type][sentiment]) == len(labels[data_type][sentiment]), \\\n",
    "                    \"{}/{} data size does not match labels size\".format(data_type, sentiment)\n",
    "                \n",
    "    return data, labels"
   ]
  },
  {
   "cell_type": "code",
   "execution_count": 92,
   "metadata": {},
   "outputs": [
    {
     "name": "stdout",
     "output_type": "stream",
     "text": [
      "IMDB reviews: train = 12500 pos / 12500 neg, test = 12500 pos / 12500 neg\n"
     ]
    }
   ],
   "source": [
    "data, labels = read_imdb_data()\n",
    "print(\"IMDB reviews: train = {} pos / {} neg, test = {} pos / {} neg\".format(\n",
    "            len(data['train']['pos']), len(data['train']['neg']),\n",
    "            len(data['test']['pos']), len(data['test']['neg'])))"
   ]
  },
  {
   "cell_type": "markdown",
   "metadata": {},
   "source": [
    "Now that we've read the raw training and testing data from the downloaded dataset, we will combine the positive and negative reviews and shuffle the resulting records."
   ]
  },
  {
   "cell_type": "code",
   "execution_count": 93,
   "metadata": {},
   "outputs": [],
   "source": [
    "from sklearn.utils import shuffle\n",
    "\n",
    "def prepare_imdb_data(data, labels):\n",
    "    \"\"\"Prepare training and test sets from IMDb movie reviews.\"\"\"\n",
    "    \n",
    "    #Combine positive and negative reviews and labels\n",
    "    data_train = data['train']['pos'] + data['train']['neg']\n",
    "    data_test = data['test']['pos'] + data['test']['neg']\n",
    "    labels_train = labels['train']['pos'] + labels['train']['neg']\n",
    "    labels_test = labels['test']['pos'] + labels['test']['neg']\n",
    "    \n",
    "    #Shuffle reviews and corresponding labels within training and test sets\n",
    "    data_train, labels_train = shuffle(data_train, labels_train)\n",
    "    data_test, labels_test = shuffle(data_test, labels_test)\n",
    "    \n",
    "    # Return a unified training data, test data, training labels, test labets\n",
    "    return data_train, data_test, labels_train, labels_test"
   ]
  },
  {
   "cell_type": "code",
   "execution_count": 94,
   "metadata": {},
   "outputs": [
    {
     "name": "stdout",
     "output_type": "stream",
     "text": [
      "IMDb reviews (combined): train = 25000, test = 25000\n"
     ]
    }
   ],
   "source": [
    "train_X, test_X, train_y, test_y = prepare_imdb_data(data, labels)\n",
    "print(\"IMDb reviews (combined): train = {}, test = {}\".format(len(train_X), len(test_X)))"
   ]
  },
  {
   "cell_type": "markdown",
   "metadata": {},
   "source": [
    "Now that we have our training and testing sets unified and prepared, we should do a quick check and see an example of the data our model will be trained on. This is generally a good idea as it allows you to see how each of the further processing steps affects the reviews and it also ensures that the data has been loaded correctly."
   ]
  },
  {
   "cell_type": "code",
   "execution_count": 95,
   "metadata": {},
   "outputs": [
    {
     "name": "stdout",
     "output_type": "stream",
     "text": [
      "Dane tries to hard and is to extreme with all of his yelling and going crazy, spilling water on himself and rolling on the floor. To much. Calm down, get yourself together and make us laugh. I didn't quite understand his comparison toward comics and rock stars. Just because there both up on stage or something? He said that every comedian wants to be a rock star. I'm sure Rodney Dangerfield was really into that when he was alive. He had a few good jokes like the Burger King joke where people yell at the drive thru. I also liked the Reese's Pieces joke. If Dane just didn't act so mental he might be funnier and I might have given this a higher rating, as high as maybe an eight.\n",
      "0\n"
     ]
    }
   ],
   "source": [
    "print(train_X[100])\n",
    "print(train_y[100])"
   ]
  },
  {
   "cell_type": "markdown",
   "metadata": {},
   "source": [
    "The first step in processing the reviews is to make sure that any html tags that appear should be removed. In addition we wish to tokenize our input, that way words such as *entertained* and *entertaining* are considered the same with regard to sentiment analysis."
   ]
  },
  {
   "cell_type": "code",
   "execution_count": 96,
   "metadata": {},
   "outputs": [],
   "source": [
    "import nltk\n",
    "from nltk.corpus import stopwords\n",
    "from nltk.stem.porter import *\n",
    "\n",
    "import re\n",
    "from bs4 import BeautifulSoup\n",
    "\n",
    "def review_to_words(review):\n",
    "    nltk.download(\"stopwords\", quiet=True)\n",
    "    stemmer = PorterStemmer()\n",
    "    \n",
    "    text = BeautifulSoup(review, \"html.parser\").get_text() # Remove HTML tags\n",
    "    text = re.sub(r\"[^a-zA-Z0-9]\", \" \", text.lower()) # Convert to lower case\n",
    "    words = text.split() # Split string into words\n",
    "    words = [w for w in words if w not in stopwords.words(\"english\")] # Remove stopwords\n",
    "    words = [PorterStemmer().stem(w) for w in words] # stem\n",
    "    \n",
    "    return words"
   ]
  },
  {
   "cell_type": "markdown",
   "metadata": {},
   "source": [
    "The `review_to_words` method defined above uses `BeautifulSoup` to remove any html tags that appear and uses the `nltk` package to tokenize the reviews. As a check to ensure we know how everything is working, try applying `review_to_words` to one of the reviews in the training set."
   ]
  },
  {
   "cell_type": "code",
   "execution_count": 97,
   "metadata": {},
   "outputs": [
    {
     "data": {
      "text/plain": [
       "['dane',\n",
       " 'tri',\n",
       " 'hard',\n",
       " 'extrem',\n",
       " 'yell',\n",
       " 'go',\n",
       " 'crazi',\n",
       " 'spill',\n",
       " 'water',\n",
       " 'roll',\n",
       " 'floor',\n",
       " 'much',\n",
       " 'calm',\n",
       " 'get',\n",
       " 'togeth',\n",
       " 'make',\n",
       " 'us',\n",
       " 'laugh',\n",
       " 'quit',\n",
       " 'understand',\n",
       " 'comparison',\n",
       " 'toward',\n",
       " 'comic',\n",
       " 'rock',\n",
       " 'star',\n",
       " 'stage',\n",
       " 'someth',\n",
       " 'said',\n",
       " 'everi',\n",
       " 'comedian',\n",
       " 'want',\n",
       " 'rock',\n",
       " 'star',\n",
       " 'sure',\n",
       " 'rodney',\n",
       " 'dangerfield',\n",
       " 'realli',\n",
       " 'aliv',\n",
       " 'good',\n",
       " 'joke',\n",
       " 'like',\n",
       " 'burger',\n",
       " 'king',\n",
       " 'joke',\n",
       " 'peopl',\n",
       " 'yell',\n",
       " 'drive',\n",
       " 'thru',\n",
       " 'also',\n",
       " 'like',\n",
       " 'rees',\n",
       " 'piec',\n",
       " 'joke',\n",
       " 'dane',\n",
       " 'act',\n",
       " 'mental',\n",
       " 'might',\n",
       " 'funnier',\n",
       " 'might',\n",
       " 'given',\n",
       " 'higher',\n",
       " 'rate',\n",
       " 'high',\n",
       " 'mayb',\n",
       " 'eight']"
      ]
     },
     "execution_count": 97,
     "metadata": {},
     "output_type": "execute_result"
    }
   ],
   "source": [
    "# TODO: Apply review_to_words to a review (train_X[100] or any other review)\n",
    "review_to_words(train_X[100])"
   ]
  },
  {
   "cell_type": "code",
   "execution_count": 98,
   "metadata": {},
   "outputs": [],
   "source": [
    "import pickle\n",
    "\n",
    "cache_dir = os.path.join(\"../cache\", \"sentiment_analysis\")  # where to store cache files\n",
    "os.makedirs(cache_dir, exist_ok=True)  # ensure cache directory exists\n",
    "\n",
    "def preprocess_data(data_train, data_test, labels_train, labels_test,\n",
    "                    cache_dir=cache_dir, cache_file=\"preprocessed_data.pkl\"):\n",
    "    \"\"\"Convert each review to words; read from cache if available.\"\"\"\n",
    "\n",
    "    # If cache_file is not None, try to read from it first\n",
    "    cache_data = None\n",
    "    if cache_file is not None:\n",
    "        try:\n",
    "            with open(os.path.join(cache_dir, cache_file), \"rb\") as f:\n",
    "                cache_data = pickle.load(f)\n",
    "            print(\"Read preprocessed data from cache file:\", cache_file)\n",
    "        except:\n",
    "            pass  # unable to read from cache, but that's okay\n",
    "    \n",
    "    # If cache is missing, then do the heavy lifting\n",
    "    if cache_data is None:\n",
    "        # Preprocess training and test data to obtain words for each review\n",
    "        #words_train = list(map(review_to_words, data_train))\n",
    "        #words_test = list(map(review_to_words, data_test))\n",
    "        words_train = [review_to_words(review) for review in data_train]\n",
    "        words_test = [review_to_words(review) for review in data_test]\n",
    "        \n",
    "        # Write to cache file for future runs\n",
    "        if cache_file is not None:\n",
    "            cache_data = dict(words_train=words_train, words_test=words_test,\n",
    "                              labels_train=labels_train, labels_test=labels_test)\n",
    "            with open(os.path.join(cache_dir, cache_file), \"wb\") as f:\n",
    "                pickle.dump(cache_data, f)\n",
    "            print(\"Wrote preprocessed data to cache file:\", cache_file)\n",
    "    else:\n",
    "        # Unpack data loaded from cache file\n",
    "        words_train, words_test, labels_train, labels_test = (cache_data['words_train'],\n",
    "                cache_data['words_test'], cache_data['labels_train'], cache_data['labels_test'])\n",
    "    \n",
    "    return words_train, words_test, labels_train, labels_test"
   ]
  },
  {
   "cell_type": "code",
   "execution_count": 99,
   "metadata": {},
   "outputs": [
    {
     "name": "stdout",
     "output_type": "stream",
     "text": [
      "Read preprocessed data from cache file: preprocessed_data.pkl\n"
     ]
    }
   ],
   "source": [
    "# Preprocess data\n",
    "train_X, test_X, train_y, test_y = preprocess_data(train_X, test_X, train_y, test_y)"
   ]
  },
  {
   "cell_type": "markdown",
   "metadata": {},
   "source": [
    "## Transform the data\n",
    "\n",
    "We will transform the data from its word representation to a bag-of-words featurea representation. To start, we will represent each word as an integer. Of course, some of the words that appear in the reviews occur very infrequently and so likely don't contain much information for the purposes of sentiment analysis. The way we will deal with this problem is that we will fix the size of our working vocabulary and we will only include the words that appear most frequently. We will then combine all of the infrequent words into a single category and, in our case, we will label it as `1`.\n",
    "\n",
    "Since we will be using a recurrent neural network, it will be convenient if the length of each review is the same. To do this, we will fix a size for our reviews and then pad short reviews with the category 'no word' (which we will label `0`) and truncate long reviews."
   ]
  },
  {
   "cell_type": "markdown",
   "metadata": {},
   "source": [
    "### Create a word dictionary\n",
    "\n",
    "To begin with, we need to construct a way to map words that appear in the reviews to integers. Here we fix the size of our vocabulary (including the 'no word' and 'infrequent' categories) to be `5000` but you may wish to change this to see how it affects the model.\n"
   ]
  },
  {
   "cell_type": "code",
   "execution_count": 100,
   "metadata": {},
   "outputs": [],
   "source": [
    "import numpy as np\n",
    "\n",
    "def build_dict(data, vocab_size = 5000):\n",
    "    \"\"\"Construct and return a dictionary mapping each of the most frequently appearing words to a unique integer.\"\"\"\n",
    "    \n",
    "    # Determine how often each word appears in `data`. Note that `data` \n",
    "    # is a list of sentences and that a sentence is a list of words.\n",
    "    \n",
    "    word_count = {} # A dict storing the words that appear in the reviews along with how often they occur\n",
    "    for phrase in data:\n",
    "        for word in phrase:\n",
    "            if word in word_count:\n",
    "                word_count[word] += 1\n",
    "            else:\n",
    "                word_count[word] = 1\n",
    " \n",
    "    \n",
    "    # Sort the words found in `data` so that sorted_words[0] is the most frequently \n",
    "    # appearing word and sorted_words[-1] is the least frequently appearing word.\n",
    "    \n",
    "    sorted_words = None\n",
    "    sorted_words = sorted(word_count, key=word_count.get, reverse=True)\n",
    "  \n",
    "    \n",
    "    word_dict = {} # This is what we are building, a dictionary that translates words into integers\n",
    "    for idx, word in enumerate(sorted_words[:vocab_size - 2]): # The -2 is so that we save room for the 'no word'\n",
    "        word_dict[word] = idx + 2                              # 'infrequent' labels\n",
    "        \n",
    "    return word_dict"
   ]
  },
  {
   "cell_type": "code",
   "execution_count": 101,
   "metadata": {},
   "outputs": [],
   "source": [
    "word_dict = build_dict(train_X)"
   ]
  },
  {
   "cell_type": "code",
   "execution_count": 102,
   "metadata": {
    "scrolled": true
   },
   "outputs": [
    {
     "name": "stdout",
     "output_type": "stream",
     "text": [
      "{'movi': 2, 'film': 3, 'one': 4, 'like': 5, 'time': 6, 'good': 7, 'make': 8, 'charact': 9, 'get': 10, 'see': 11, 'watch': 12, 'stori': 13, 'even': 14, 'would': 15, 'realli': 16, 'well': 17, 'scene': 18, 'look': 19, 'show': 20, 'much': 21, 'end': 22, 'peopl': 23, 'bad': 24, 'go': 25, 'great': 26, 'also': 27, 'first': 28, 'love': 29, 'think': 30, 'way': 31, 'act': 32, 'play': 33, 'made': 34, 'thing': 35, 'could': 36, 'know': 37, 'say': 38, 'seem': 39, 'work': 40, 'plot': 41, 'two': 42, 'actor': 43, 'year': 44, 'come': 45, 'mani': 46, 'seen': 47, 'take': 48, 'life': 49, 'want': 50, 'never': 51, 'littl': 52, 'best': 53, 'tri': 54, 'man': 55, 'ever': 56, 'give': 57, 'better': 58, 'still': 59, 'perform': 60, 'find': 61, 'feel': 62, 'part': 63, 'back': 64, 'use': 65, 'someth': 66, 'director': 67, 'actual': 68, 'interest': 69, 'lot': 70, 'real': 71, 'old': 72, 'cast': 73, 'though': 74, 'live': 75, 'star': 76, 'enjoy': 77, 'guy': 78, 'anoth': 79, 'new': 80, 'role': 81, 'noth': 82, '10': 83, 'funni': 84, 'music': 85, 'point': 86, 'start': 87, 'set': 88, 'girl': 89, 'origin': 90, 'day': 91, 'world': 92, 'everi': 93, 'believ': 94, 'turn': 95, 'quit': 96, 'direct': 97, 'us': 98, 'thought': 99, 'fact': 100, 'minut': 101, 'horror': 102, 'kill': 103, 'action': 104, 'comedi': 105, 'pretti': 106, 'young': 107, 'wonder': 108, 'happen': 109, 'around': 110, 'got': 111, 'effect': 112, 'right': 113, 'long': 114, 'howev': 115, 'big': 116, 'line': 117, 'famili': 118, 'enough': 119, 'seri': 120, 'may': 121, 'need': 122, 'fan': 123, 'bit': 124, 'script': 125, 'beauti': 126, 'person': 127, 'becom': 128, 'without': 129, 'must': 130, 'alway': 131, 'friend': 132, 'tell': 133, 'reason': 134, 'saw': 135, 'last': 136, 'final': 137, 'kid': 138, 'almost': 139, 'put': 140, 'least': 141, 'sure': 142, 'done': 143, 'whole': 144, 'place': 145, 'complet': 146, 'kind': 147, 'expect': 148, 'differ': 149, 'shot': 150, 'far': 151, 'mean': 152, 'anyth': 153, 'book': 154, 'laugh': 155, 'might': 156, 'name': 157, 'sinc': 158, 'begin': 159, '2': 160, 'probabl': 161, 'woman': 162, 'help': 163, 'entertain': 164, 'let': 165, 'screen': 166, 'call': 167, 'tv': 168, 'moment': 169, 'away': 170, 'read': 171, 'yet': 172, 'rather': 173, 'worst': 174, 'run': 175, 'fun': 176, 'lead': 177, 'hard': 178, 'audienc': 179, 'idea': 180, 'anyon': 181, 'episod': 182, 'american': 183, 'found': 184, 'appear': 185, 'bore': 186, 'especi': 187, 'although': 188, 'hope': 189, 'cours': 190, 'keep': 191, 'anim': 192, 'job': 193, 'goe': 194, 'move': 195, 'sens': 196, 'version': 197, 'dvd': 198, 'war': 199, 'money': 200, 'someon': 201, 'mind': 202, 'mayb': 203, 'problem': 204, 'true': 205, 'hous': 206, 'everyth': 207, 'nice': 208, 'second': 209, 'rate': 210, 'three': 211, 'night': 212, 'face': 213, 'follow': 214, 'recommend': 215, 'product': 216, 'main': 217, 'worth': 218, 'leav': 219, 'human': 220, 'special': 221, 'excel': 222, 'togeth': 223, 'wast': 224, 'everyon': 225, 'sound': 226, 'john': 227, 'hand': 228, '1': 229, 'father': 230, 'later': 231, 'eye': 232, 'said': 233, 'view': 234, 'instead': 235, 'review': 236, 'boy': 237, 'high': 238, 'hour': 239, 'miss': 240, 'classic': 241, 'talk': 242, 'wife': 243, 'understand': 244, 'left': 245, 'care': 246, 'black': 247, 'death': 248, 'open': 249, 'murder': 250, 'write': 251, 'half': 252, 'head': 253, 'rememb': 254, 'chang': 255, 'viewer': 256, 'fight': 257, 'gener': 258, 'surpris': 259, 'short': 260, 'includ': 261, 'die': 262, 'fall': 263, 'less': 264, 'els': 265, 'entir': 266, 'piec': 267, 'involv': 268, 'pictur': 269, 'simpli': 270, 'power': 271, 'home': 272, 'top': 273, 'total': 274, 'usual': 275, 'budget': 276, 'attempt': 277, 'suppos': 278, 'releas': 279, 'hollywood': 280, 'terribl': 281, 'song': 282, 'men': 283, 'possibl': 284, 'featur': 285, 'portray': 286, 'disappoint': 287, 'poor': 288, '3': 289, 'coupl': 290, 'stupid': 291, 'camera': 292, 'dead': 293, 'wrong': 294, 'low': 295, 'produc': 296, 'video': 297, 'either': 298, 'aw': 299, 'definit': 300, 'except': 301, 'rest': 302, 'given': 303, 'absolut': 304, 'women': 305, 'lack': 306, 'word': 307, 'writer': 308, 'titl': 309, 'talent': 310, 'decid': 311, 'full': 312, 'perfect': 313, 'along': 314, 'style': 315, 'close': 316, 'truli': 317, 'school': 318, 'emot': 319, 'save': 320, 'sex': 321, 'age': 322, 'next': 323, 'bring': 324, 'mr': 325, 'case': 326, 'killer': 327, 'heart': 328, 'comment': 329, 'sort': 330, 'creat': 331, 'perhap': 332, 'came': 333, 'brother': 334, 'sever': 335, 'joke': 336, 'art': 337, 'dialogu': 338, 'game': 339, 'small': 340, 'base': 341, 'flick': 342, 'written': 343, 'sequenc': 344, 'meet': 345, 'earli': 346, 'often': 347, 'other': 348, 'mother': 349, 'develop': 350, 'humor': 351, 'actress': 352, 'consid': 353, 'dark': 354, 'guess': 355, 'amaz': 356, 'unfortun': 357, 'light': 358, 'lost': 359, 'exampl': 360, 'cinema': 361, 'drama': 362, 'white': 363, 'ye': 364, 'experi': 365, 'imagin': 366, 'mention': 367, 'stop': 368, 'natur': 369, 'forc': 370, 'manag': 371, 'felt': 372, 'present': 373, 'cut': 374, 'children': 375, 'fail': 376, 'son': 377, 'qualiti': 378, 'support': 379, 'car': 380, 'ask': 381, 'hit': 382, 'side': 383, 'voic': 384, 'extrem': 385, 'impress': 386, 'evil': 387, 'wors': 388, 'went': 389, 'stand': 390, 'certainli': 391, 'basic': 392, 'oh': 393, 'overal': 394, 'favorit': 395, 'horribl': 396, 'mysteri': 397, 'number': 398, 'type': 399, 'danc': 400, 'wait': 401, 'hero': 402, 'alreadi': 403, '5': 404, 'learn': 405, 'matter': 406, '4': 407, 'michael': 408, 'genr': 409, 'fine': 410, 'despit': 411, 'throughout': 412, 'walk': 413, 'success': 414, 'histori': 415, 'question': 416, 'zombi': 417, 'town': 418, 'realiz': 419, 'relationship': 420, 'child': 421, 'past': 422, 'daughter': 423, 'late': 424, 'b': 425, 'wish': 426, 'credit': 427, 'hate': 428, 'event': 429, 'theme': 430, 'touch': 431, 'citi': 432, 'today': 433, 'sometim': 434, 'behind': 435, 'god': 436, 'twist': 437, 'sit': 438, 'deal': 439, 'stay': 440, 'annoy': 441, 'abl': 442, 'rent': 443, 'pleas': 444, 'edit': 445, 'blood': 446, 'deserv': 447, 'comic': 448, 'anyway': 449, 'appar': 450, 'soon': 451, 'gave': 452, 'etc': 453, 'level': 454, 'slow': 455, 'chanc': 456, 'score': 457, 'bodi': 458, 'brilliant': 459, 'incred': 460, 'figur': 461, 'situat': 462, 'major': 463, 'self': 464, 'stuff': 465, 'decent': 466, 'element': 467, 'dream': 468, 'return': 469, 'obvious': 470, 'order': 471, 'continu': 472, 'pace': 473, 'ridicul': 474, 'happi': 475, 'group': 476, 'highli': 477, 'add': 478, 'thank': 479, 'ladi': 480, 'novel': 481, 'speak': 482, 'pain': 483, 'career': 484, 'shoot': 485, 'strang': 486, 'heard': 487, 'sad': 488, 'polic': 489, 'husband': 490, 'import': 491, 'break': 492, 'took': 493, 'cannot': 494, 'strong': 495, 'predict': 496, 'robert': 497, 'violenc': 498, 'hilari': 499, 'recent': 500, 'countri': 501, 'known': 502, 'particularli': 503, 'pick': 504, 'documentari': 505, 'season': 506, 'critic': 507, 'jame': 508, 'compar': 509, 'alon': 510, 'obviou': 511, 'told': 512, 'state': 513, 'visual': 514, 'rock': 515, 'offer': 516, 'exist': 517, 'theater': 518, 'opinion': 519, 'gore': 520, 'hold': 521, 'crap': 522, 'result': 523, 'room': 524, 'realiti': 525, 'hear': 526, 'effort': 527, 'clich': 528, 'thriller': 529, 'caus': 530, 'serious': 531, 'explain': 532, 'sequel': 533, 'king': 534, 'local': 535, 'ago': 536, 'hell': 537, 'none': 538, 'note': 539, 'allow': 540, 'david': 541, 'sister': 542, 'simpl': 543, 'femal': 544, 'deliv': 545, 'ok': 546, 'class': 547, 'convinc': 548, 'check': 549, 'suspens': 550, 'win': 551, 'buy': 552, 'oscar': 553, 'huge': 554, 'valu': 555, 'sexual': 556, 'cool': 557, 'scari': 558, 'similar': 559, 'excit': 560, 'apart': 561, 'provid': 562, 'exactli': 563, 'avoid': 564, 'shown': 565, 'seriou': 566, 'english': 567, 'whose': 568, 'taken': 569, 'cinematographi': 570, 'shock': 571, 'polit': 572, 'spoiler': 573, 'offic': 574, 'across': 575, 'middl': 576, 'pass': 577, 'street': 578, 'messag': 579, 'charm': 580, 'somewhat': 581, 'silli': 582, 'modern': 583, 'filmmak': 584, 'confus': 585, 'form': 586, 'tale': 587, 'singl': 588, 'jack': 589, 'mostli': 590, 'carri': 591, 'william': 592, 'attent': 593, 'sing': 594, 'five': 595, 'subject': 596, 'prove': 597, 'richard': 598, 'stage': 599, 'team': 600, 'unlik': 601, 'cop': 602, 'georg': 603, 'televis': 604, 'monster': 605, 'earth': 606, 'cover': 607, 'villain': 608, 'pay': 609, 'marri': 610, 'toward': 611, 'build': 612, 'parent': 613, 'pull': 614, 'due': 615, 'respect': 616, 'fill': 617, 'four': 618, 'dialog': 619, 'remind': 620, 'futur': 621, 'weak': 622, 'typic': 623, '7': 624, 'cheap': 625, 'intellig': 626, 'atmospher': 627, 'british': 628, 'clearli': 629, '80': 630, 'paul': 631, 'dog': 632, 'non': 633, 'fast': 634, 'knew': 635, 'artist': 636, '8': 637, 'crime': 638, 'easili': 639, 'escap': 640, 'doubt': 641, 'adult': 642, 'detail': 643, 'date': 644, 'fire': 645, 'romant': 646, 'member': 647, 'drive': 648, 'gun': 649, 'straight': 650, 'beyond': 651, 'fit': 652, 'attack': 653, 'imag': 654, 'upon': 655, 'posit': 656, 'whether': 657, 'peter': 658, 'fantast': 659, 'captur': 660, 'aspect': 661, 'appreci': 662, 'ten': 663, 'plan': 664, 'discov': 665, 'remain': 666, 'period': 667, 'near': 668, 'air': 669, 'realist': 670, 'mark': 671, 'red': 672, 'dull': 673, 'adapt': 674, 'within': 675, 'spend': 676, 'lose': 677, 'materi': 678, 'color': 679, 'chase': 680, 'mari': 681, 'storylin': 682, 'forget': 683, 'bunch': 684, 'clear': 685, 'lee': 686, 'victim': 687, 'nearli': 688, 'box': 689, 'york': 690, 'match': 691, 'inspir': 692, 'finish': 693, 'mess': 694, 'standard': 695, 'easi': 696, 'truth': 697, 'suffer': 698, 'busi': 699, 'space': 700, 'bill': 701, 'dramat': 702, 'western': 703, 'e': 704, 'list': 705, 'battl': 706, 'notic': 707, 'de': 708, 'french': 709, 'ad': 710, '9': 711, 'tom': 712, 'larg': 713, 'among': 714, 'eventu': 715, 'accept': 716, 'train': 717, 'agre': 718, 'spirit': 719, 'soundtrack': 720, 'third': 721, 'teenag': 722, 'soldier': 723, 'adventur': 724, 'famou': 725, 'suggest': 726, 'sorri': 727, 'drug': 728, 'babi': 729, 'cri': 730, 'normal': 731, 'troubl': 732, 'ultim': 733, 'contain': 734, 'certain': 735, 'cultur': 736, 'romanc': 737, 'rare': 738, 'lame': 739, 'somehow': 740, 'disney': 741, 'mix': 742, 'gone': 743, 'cartoon': 744, 'student': 745, 'reveal': 746, 'fear': 747, 'suck': 748, 'kept': 749, 'attract': 750, 'appeal': 751, 'premis': 752, 'secret': 753, 'greatest': 754, 'design': 755, 'shame': 756, 'throw': 757, 'copi': 758, 'scare': 759, 'wit': 760, 'admit': 761, 'america': 762, 'particular': 763, 'brought': 764, 'relat': 765, 'screenplay': 766, 'whatev': 767, 'pure': 768, '70': 769, 'harri': 770, 'averag': 771, 'master': 772, 'describ': 773, 'male': 774, 'treat': 775, '20': 776, 'issu': 777, 'fantasi': 778, 'warn': 779, 'inde': 780, 'forward': 781, 'background': 782, 'project': 783, 'free': 784, 'japanes': 785, 'memor': 786, 'poorli': 787, 'award': 788, 'locat': 789, 'potenti': 790, 'amus': 791, 'struggl': 792, 'magic': 793, 'weird': 794, 'societi': 795, 'okay': 796, 'doctor': 797, 'imdb': 798, 'accent': 799, 'hot': 800, 'water': 801, 'express': 802, 'dr': 803, '30': 804, 'alien': 805, 'odd': 806, 'choic': 807, 'crazi': 808, 'fiction': 809, 'studio': 810, 'becam': 811, 'control': 812, 'masterpiec': 813, 'difficult': 814, 'fli': 815, 'joe': 816, 'scream': 817, 'costum': 818, 'lover': 819, 'refer': 820, 'uniqu': 821, 'remak': 822, 'girlfriend': 823, 'vampir': 824, 'prison': 825, 'execut': 826, 'wear': 827, 'jump': 828, 'unless': 829, 'wood': 830, 'creepi': 831, 'cheesi': 832, 'superb': 833, 'otherwis': 834, 'parti': 835, 'roll': 836, 'ghost': 837, 'public': 838, 'mad': 839, 'depict': 840, 'jane': 841, 'badli': 842, 'moral': 843, 'week': 844, 'earlier': 845, 'fi': 846, 'dumb': 847, 'grow': 848, 'flaw': 849, 'sci': 850, 'deep': 851, 'maker': 852, 'cat': 853, 'footag': 854, 'older': 855, 'connect': 856, 'bother': 857, 'plenti': 858, 'outsid': 859, 'stick': 860, 'gay': 861, 'catch': 862, 'plu': 863, 'co': 864, 'popular': 865, 'equal': 866, 'social': 867, 'disturb': 868, 'quickli': 869, 'perfectli': 870, 'dress': 871, 'era': 872, '90': 873, 'mistak': 874, 'lie': 875, 'previou': 876, 'ride': 877, 'combin': 878, 'concept': 879, 'band': 880, 'rich': 881, 'answer': 882, 'surviv': 883, 'front': 884, 'christma': 885, 'sweet': 886, 'insid': 887, 'concern': 888, 'eat': 889, 'bare': 890, 'listen': 891, 'beat': 892, 'ben': 893, 'c': 894, 'serv': 895, 'term': 896, 'meant': 897, 'la': 898, 'german': 899, 'stereotyp': 900, 'hardli': 901, 'innoc': 902, 'law': 903, 'desper': 904, 'promis': 905, 'memori': 906, 'intent': 907, 'cute': 908, 'variou': 909, 'inform': 910, 'steal': 911, 'brain': 912, 'post': 913, 'tone': 914, 'island': 915, 'amount': 916, 'compani': 917, 'nuditi': 918, 'track': 919, 'claim': 920, 'store': 921, 'hair': 922, '50': 923, 'flat': 924, 'univers': 925, 'land': 926, 'scott': 927, 'danger': 928, 'fairli': 929, 'kick': 930, 'player': 931, 'crew': 932, 'plain': 933, 'step': 934, 'toni': 935, 'share': 936, 'centuri': 937, 'tast': 938, 'engag': 939, 'achiev': 940, 'cold': 941, 'travel': 942, 'record': 943, 'suit': 944, 'rip': 945, 'sadli': 946, 'manner': 947, 'wrote': 948, 'spot': 949, 'tension': 950, 'intens': 951, 'fascin': 952, 'familiar': 953, 'remark': 954, 'depth': 955, 'burn': 956, 'destroy': 957, 'histor': 958, 'sleep': 959, 'purpos': 960, 'languag': 961, 'ruin': 962, 'ignor': 963, 'delight': 964, 'unbeliev': 965, 'italian': 966, 'soul': 967, 'abil': 968, 'collect': 969, 'detect': 970, 'clever': 971, 'violent': 972, 'rape': 973, 'reach': 974, 'door': 975, 'liter': 976, 'scienc': 977, 'trash': 978, 'caught': 979, 'reveng': 980, 'commun': 981, 'creatur': 982, 'approach': 983, 'trip': 984, 'fashion': 985, 'intrigu': 986, 'introduc': 987, 'paint': 988, 'skill': 989, 'complex': 990, 'channel': 991, 'camp': 992, 'christian': 993, 'hole': 994, 'extra': 995, 'limit': 996, 'immedi': 997, 'mental': 998, 'ann': 999, '6': 1000, 'slightli': 1001, 'mere': 1002, 'comput': 1003, 'million': 1004, 'slasher': 1005, 'conclus': 1006, 'imposs': 1007, 'suddenli': 1008, 'teen': 1009, 'neither': 1010, 'crimin': 1011, 'spent': 1012, 'nation': 1013, 'physic': 1014, 'respons': 1015, 'planet': 1016, 'fake': 1017, 'receiv': 1018, 'blue': 1019, 'sick': 1020, 'bizarr': 1021, 'embarrass': 1022, 'indian': 1023, 'ring': 1024, '15': 1025, 'drop': 1026, 'pop': 1027, 'drag': 1028, 'haunt': 1029, 'suspect': 1030, 'pointless': 1031, 'search': 1032, 'edg': 1033, 'handl': 1034, 'common': 1035, 'biggest': 1036, 'faith': 1037, 'hurt': 1038, 'arriv': 1039, 'technic': 1040, 'angel': 1041, 'dad': 1042, 'genuin': 1043, 'f': 1044, 'solid': 1045, 'awesom': 1046, 'focu': 1047, 'colleg': 1048, 'former': 1049, 'van': 1050, 'count': 1051, 'heavi': 1052, 'tear': 1053, 'rais': 1054, 'wall': 1055, 'younger': 1056, 'visit': 1057, 'laughabl': 1058, 'excus': 1059, 'fair': 1060, 'sign': 1061, 'cult': 1062, 'key': 1063, 'tough': 1064, 'motion': 1065, 'desir': 1066, 'super': 1067, 'stun': 1068, 'addit': 1069, 'exploit': 1070, 'cloth': 1071, 'smith': 1072, 'tortur': 1073, 'race': 1074, 'davi': 1075, 'author': 1076, 'cross': 1077, 'jim': 1078, 'compel': 1079, 'minor': 1080, 'focus': 1081, 'consist': 1082, 'pathet': 1083, 'chemistri': 1084, 'commit': 1085, 'park': 1086, 'frank': 1087, 'tradit': 1088, 'obsess': 1089, 'grade': 1090, 'asid': 1091, '60': 1092, 'brutal': 1093, 'somewher': 1094, 'steve': 1095, 'rule': 1096, 'opportun': 1097, 'depress': 1098, 'explor': 1099, 'u': 1100, 'grant': 1101, 'honest': 1102, 'besid': 1103, 'anti': 1104, 'dub': 1105, 'trailer': 1106, 'intend': 1107, 'bar': 1108, 'longer': 1109, 'regard': 1110, 'scientist': 1111, 'west': 1112, 'judg': 1113, 'decad': 1114, 'silent': 1115, 'creativ': 1116, 'armi': 1117, 'wild': 1118, 'stewart': 1119, 'south': 1120, 'g': 1121, 'draw': 1122, 'road': 1123, 'govern': 1124, 'boss': 1125, 'ex': 1126, 'practic': 1127, 'surprisingli': 1128, 'gang': 1129, 'festiv': 1130, 'motiv': 1131, 'club': 1132, 'page': 1133, 'green': 1134, 'redeem': 1135, 'london': 1136, 'militari': 1137, 'machin': 1138, 'display': 1139, 'idiot': 1140, 'aliv': 1141, 'thrill': 1142, 'repeat': 1143, 'yeah': 1144, 'folk': 1145, 'nobodi': 1146, '100': 1147, '40': 1148, 'garbag': 1149, 'journey': 1150, 'ground': 1151, 'smile': 1152, 'tire': 1153, 'mood': 1154, 'bought': 1155, 'cost': 1156, 'stone': 1157, 'sam': 1158, 'mouth': 1159, 'noir': 1160, 'agent': 1161, 'terrif': 1162, 'utterli': 1163, 'requir': 1164, 'honestli': 1165, 'area': 1166, 'sexi': 1167, 'report': 1168, 'geniu': 1169, 'enter': 1170, 'glad': 1171, 'humour': 1172, 'investig': 1173, 'serial': 1174, 'passion': 1175, 'occasion': 1176, 'narr': 1177, 'marriag': 1178, 'climax': 1179, 'industri': 1180, 'studi': 1181, 'center': 1182, 'demon': 1183, 'nowher': 1184, 'ship': 1185, 'charli': 1186, 'bear': 1187, 'loos': 1188, 'hors': 1189, 'hang': 1190, 'wow': 1191, 'graphic': 1192, 'admir': 1193, 'giant': 1194, 'send': 1195, 'loud': 1196, 'damn': 1197, 'subtl': 1198, 'rel': 1199, 'nake': 1200, 'profession': 1201, 'blow': 1202, 'bottom': 1203, 'batman': 1204, 'insult': 1205, 'r': 1206, 'doubl': 1207, 'boyfriend': 1208, 'kelli': 1209, 'initi': 1210, 'frame': 1211, 'opera': 1212, 'gem': 1213, 'challeng': 1214, 'drawn': 1215, 'church': 1216, 'cinemat': 1217, 'affect': 1218, 'fulli': 1219, 'j': 1220, 'seek': 1221, 'evid': 1222, 'l': 1223, 'nightmar': 1224, 'arm': 1225, 'conflict': 1226, 'essenti': 1227, 'grace': 1228, 'henri': 1229, 'wind': 1230, 'christoph': 1231, 'assum': 1232, 'witch': 1233, 'narrat': 1234, 'push': 1235, 'hunt': 1236, 'wise': 1237, 'chri': 1238, 'month': 1239, 'nomin': 1240, 'repres': 1241, 'hide': 1242, 'sceneri': 1243, 'affair': 1244, 'avail': 1245, 'thu': 1246, 'bond': 1247, 'smart': 1248, 'justic': 1249, 'outstand': 1250, 'flashback': 1251, 'interview': 1252, 'satisfi': 1253, 'presenc': 1254, 'constantli': 1255, 'central': 1256, 'bed': 1257, 'content': 1258, 'iron': 1259, 'sell': 1260, 'everybodi': 1261, 'gag': 1262, 'slowli': 1263, 'hotel': 1264, 'hire': 1265, 'system': 1266, 'thrown': 1267, 'hey': 1268, 'individu': 1269, 'charl': 1270, 'adam': 1271, 'mediocr': 1272, 'allen': 1273, 'jone': 1274, 'lesson': 1275, 'billi': 1276, 'ray': 1277, 'cameo': 1278, 'photographi': 1279, 'fellow': 1280, 'pari': 1281, 'strike': 1282, 'brief': 1283, 'absurd': 1284, 'rise': 1285, 'independ': 1286, 'neg': 1287, 'impact': 1288, 'phone': 1289, 'model': 1290, 'born': 1291, 'ill': 1292, 'angl': 1293, 'spoil': 1294, 'fresh': 1295, 'abus': 1296, 'likabl': 1297, 'hill': 1298, 'discuss': 1299, 'sight': 1300, 'ahead': 1301, 'sent': 1302, 'photograph': 1303, 'shine': 1304, 'occur': 1305, 'blame': 1306, 'logic': 1307, 'bruce': 1308, 'mainli': 1309, 'commerci': 1310, 'skip': 1311, 'forev': 1312, 'surround': 1313, 'held': 1314, 'segment': 1315, 'teacher': 1316, 'blond': 1317, 'zero': 1318, 'trap': 1319, 'resembl': 1320, 'summer': 1321, 'satir': 1322, 'ball': 1323, 'six': 1324, 'fool': 1325, 'queen': 1326, 'twice': 1327, 'tragedi': 1328, 'sub': 1329, 'reaction': 1330, 'pack': 1331, 'bomb': 1332, 'protagonist': 1333, 'will': 1334, 'hospit': 1335, 'sport': 1336, 'mile': 1337, 'mom': 1338, 'drink': 1339, 'vote': 1340, 'trust': 1341, 'jerri': 1342, 'encount': 1343, 'plane': 1344, 'current': 1345, 'al': 1346, 'program': 1347, 'station': 1348, 'martin': 1349, 'celebr': 1350, 'choos': 1351, 'join': 1352, 'round': 1353, 'tragic': 1354, 'field': 1355, 'favourit': 1356, 'lord': 1357, 'vision': 1358, 'jean': 1359, 'robot': 1360, 'tie': 1361, 'arthur': 1362, 'random': 1363, 'fortun': 1364, 'roger': 1365, 'intern': 1366, 'psycholog': 1367, 'dread': 1368, 'epic': 1369, 'prefer': 1370, 'nonsens': 1371, 'improv': 1372, 'formula': 1373, 'pleasur': 1374, 'legend': 1375, 'highlight': 1376, 'tape': 1377, '11': 1378, 'dollar': 1379, 'porn': 1380, 'object': 1381, 'gorgeou': 1382, 'thin': 1383, 'wide': 1384, 'fox': 1385, 'ugli': 1386, 'influenc': 1387, 'buddi': 1388, 'nasti': 1389, 'prepar': 1390, 'ii': 1391, 'warm': 1392, 'progress': 1393, 'supposedli': 1394, 'reflect': 1395, 'worthi': 1396, 'youth': 1397, 'unusu': 1398, 'latter': 1399, 'length': 1400, 'crash': 1401, 'superior': 1402, 'seven': 1403, 'shop': 1404, 'childhood': 1405, 'remot': 1406, 'theatr': 1407, 'funniest': 1408, 'disgust': 1409, 'pilot': 1410, 'paid': 1411, 'trick': 1412, 'fell': 1413, 'convers': 1414, 'castl': 1415, 'establish': 1416, 'gangster': 1417, 'rob': 1418, 'disast': 1419, 'disappear': 1420, 'mine': 1421, 'heaven': 1422, 'ident': 1423, 'suicid': 1424, 'decis': 1425, 'forgotten': 1426, 'heroin': 1427, 'mask': 1428, 'singer': 1429, 'tend': 1430, 'brian': 1431, 'partner': 1432, 'desert': 1433, 'recogn': 1434, 'alan': 1435, 'thoroughli': 1436, 'ms': 1437, 'sky': 1438, 'p': 1439, 'stuck': 1440, 'replac': 1441, 'accur': 1442, 'market': 1443, 'danni': 1444, 'eddi': 1445, 'clue': 1446, 'commentari': 1447, 'seemingli': 1448, 'uncl': 1449, 'andi': 1450, 'jackson': 1451, 'devil': 1452, 'that': 1453, 'pair': 1454, 'therefor': 1455, 'refus': 1456, 'fate': 1457, 'fault': 1458, 'accid': 1459, 'unit': 1460, 'ed': 1461, 'river': 1462, 'tune': 1463, 'afraid': 1464, 'stephen': 1465, 'clean': 1466, 'hidden': 1467, 'russian': 1468, 'test': 1469, 'irrit': 1470, 'convey': 1471, 'readi': 1472, 'captain': 1473, 'quick': 1474, 'instanc': 1475, 'european': 1476, 'frustrat': 1477, 'daniel': 1478, 'insan': 1479, 'wed': 1480, '1950': 1481, 'chines': 1482, 'food': 1483, 'rescu': 1484, 'angri': 1485, 'dirti': 1486, 'lock': 1487, 'joy': 1488, 'price': 1489, 'steven': 1490, 'bland': 1491, 'cage': 1492, 'anymor': 1493, 'rang': 1494, 'wooden': 1495, 'news': 1496, 'rush': 1497, 'n': 1498, 'jason': 1499, 'twenti': 1500, 'led': 1501, 'martial': 1502, '12': 1503, 'board': 1504, 'worri': 1505, 'transform': 1506, 'symbol': 1507, 'cgi': 1508, 'hunter': 1509, 'x': 1510, 'sentiment': 1511, 'johnni': 1512, 'piti': 1513, 'invent': 1514, 'onto': 1515, 'explan': 1516, 'process': 1517, 'attitud': 1518, 'awar': 1519, 'owner': 1520, 'aim': 1521, 'energi': 1522, 'necessari': 1523, 'floor': 1524, 'favor': 1525, 'target': 1526, 'religi': 1527, 'opposit': 1528, 'window': 1529, 'insight': 1530, 'chick': 1531, 'blind': 1532, 'movement': 1533, 'deepli': 1534, 'possess': 1535, 'comparison': 1536, 'mountain': 1537, 'research': 1538, 'whatsoev': 1539, 'grand': 1540, 'comed': 1541, 'rain': 1542, 'began': 1543, 'shadow': 1544, 'bank': 1545, 'mid': 1546, 'princ': 1547, 'parodi': 1548, 'friendship': 1549, 'pre': 1550, 'credibl': 1551, 'weapon': 1552, 'taylor': 1553, 'dougla': 1554, 'teach': 1555, 'flesh': 1556, 'bloodi': 1557, 'hint': 1558, 'terror': 1559, 'protect': 1560, 'marvel': 1561, 'load': 1562, 'watchabl': 1563, 'leader': 1564, 'anybodi': 1565, 'accord': 1566, 'drunk': 1567, 'superman': 1568, 'brown': 1569, 'freddi': 1570, 'appropri': 1571, 'seat': 1572, 'tim': 1573, 'jeff': 1574, 'hitler': 1575, 'unknown': 1576, 'charg': 1577, 'villag': 1578, 'knock': 1579, 'keaton': 1580, 'media': 1581, 'enemi': 1582, 'england': 1583, 'unnecessari': 1584, 'empti': 1585, 'utter': 1586, 'strength': 1587, 'buck': 1588, 'perspect': 1589, 'dare': 1590, 'craft': 1591, 'wave': 1592, 'kiss': 1593, 'contrast': 1594, 'correct': 1595, 'ford': 1596, 'nativ': 1597, 'anywher': 1598, 'knowledg': 1599, 'soap': 1600, 'distract': 1601, 'magnific': 1602, 'nazi': 1603, 'speed': 1604, 'chill': 1605, 'breath': 1606, '1980': 1607, 'fred': 1608, 'ice': 1609, 'mission': 1610, 'jr': 1611, 'crowd': 1612, 'moon': 1613, 'joan': 1614, '000': 1615, 'frighten': 1616, 'kate': 1617, 'soft': 1618, 'hundr': 1619, 'dick': 1620, 'dan': 1621, 'nick': 1622, 'radio': 1623, 'somebodi': 1624, 'dozen': 1625, 'simon': 1626, 'academi': 1627, 'shakespear': 1628, 'loss': 1629, 'thousand': 1630, 'andrew': 1631, 'quot': 1632, 'root': 1633, 'sum': 1634, 'vehicl': 1635, 'account': 1636, 'convent': 1637, '1970': 1638, 'leg': 1639, 'behavior': 1640, 'regular': 1641, 'gold': 1642, 'demand': 1643, 'compet': 1644, 'worker': 1645, 'pretenti': 1646, 'explos': 1647, 'lynch': 1648, 'notabl': 1649, 'japan': 1650, 'stretch': 1651, 'candi': 1652, 'privat': 1653, 'interpret': 1654, 'constant': 1655, 'debut': 1656, 'tarzan': 1657, 'spi': 1658, 'prais': 1659, 'translat': 1660, 'sea': 1661, 'revolv': 1662, 'ass': 1663, 'threaten': 1664, 'technolog': 1665, 'jesu': 1666, 'franc': 1667, 'sat': 1668, 'failur': 1669, 'quiet': 1670, 'higher': 1671, 'punch': 1672, 'aid': 1673, 'toy': 1674, 'met': 1675, 'kevin': 1676, 'vh': 1677, 'abandon': 1678, 'mike': 1679, 'interact': 1680, 'bet': 1681, 'separ': 1682, 'command': 1683, 'confront': 1684, 'techniqu': 1685, 'servic': 1686, 'site': 1687, 'belong': 1688, 'stunt': 1689, 'gotten': 1690, 'recal': 1691, 'cabl': 1692, 'freak': 1693, 'bug': 1694, 'foot': 1695, 'bright': 1696, 'african': 1697, 'capabl': 1698, 'jimmi': 1699, 'fu': 1700, 'presid': 1701, 'clark': 1702, 'stock': 1703, 'fat': 1704, 'boat': 1705, 'succeed': 1706, 'structur': 1707, 'spanish': 1708, 'gene': 1709, 'paper': 1710, 'kidnap': 1711, 'belief': 1712, 'factor': 1713, 'whilst': 1714, 'attend': 1715, 'realis': 1716, 'bob': 1717, 'tree': 1718, 'realism': 1719, 'complic': 1720, 'educ': 1721, 'witti': 1722, 'finest': 1723, 'assist': 1724, 'broken': 1725, 'santa': 1726, 'smoke': 1727, 'determin': 1728, 'depart': 1729, 'v': 1730, 'observ': 1731, 'up': 1732, 'oper': 1733, 'hat': 1734, 'domin': 1735, 'rubbish': 1736, 'lewi': 1737, 'routin': 1738, 'fame': 1739, 'lone': 1740, 'morgan': 1741, 'advanc': 1742, 'kinda': 1743, 'safe': 1744, 'hook': 1745, 'foreign': 1746, 'numer': 1747, 'rank': 1748, 'shape': 1749, 'werewolf': 1750, 'shallow': 1751, 'rose': 1752, 'civil': 1753, 'vs': 1754, 'washington': 1755, 'morn': 1756, 'gari': 1757, 'kong': 1758, 'accomplish': 1759, 'ordinari': 1760, 'winner': 1761, 'peac': 1762, 'virtual': 1763, 'grab': 1764, 'whenev': 1765, 'luck': 1766, 'h': 1767, 'offens': 1768, 'patient': 1769, 'complain': 1770, 'unfunni': 1771, 'activ': 1772, 'welcom': 1773, 'contriv': 1774, 'bigger': 1775, 'trek': 1776, 'pretend': 1777, 'dimension': 1778, 'con': 1779, 'wake': 1780, 'code': 1781, 'dri': 1782, 'flash': 1783, 'eric': 1784, 'lesbian': 1785, 'cain': 1786, 'manipul': 1787, 'guard': 1788, 'albert': 1789, 'corrupt': 1790, 'dancer': 1791, 'statu': 1792, 'gain': 1793, 'speech': 1794, 'context': 1795, 'awkward': 1796, 'sourc': 1797, 'signific': 1798, 'psycho': 1799, 'clip': 1800, 'anthoni': 1801, '13': 1802, 'sean': 1803, 'corni': 1804, 'theatric': 1805, 'priest': 1806, 'advic': 1807, 'religion': 1808, 'reli': 1809, 'curiou': 1810, 'w': 1811, 'flow': 1812, 'addict': 1813, 'asian': 1814, 'skin': 1815, 'secur': 1816, 'jennif': 1817, 'howard': 1818, 'specif': 1819, 'organ': 1820, 'promot': 1821, 'golden': 1822, 'luke': 1823, 'core': 1824, 'comfort': 1825, 'lucki': 1826, 'cheat': 1827, 'cash': 1828, 'dislik': 1829, 'lower': 1830, 'associ': 1831, 'contribut': 1832, 'devic': 1833, 'degre': 1834, 'frankli': 1835, 'regret': 1836, 'frequent': 1837, 'balanc': 1838, 'wing': 1839, 'spell': 1840, 'forgiv': 1841, 'sake': 1842, 'lake': 1843, 'print': 1844, 'betti': 1845, 'thoma': 1846, 'mass': 1847, 'crack': 1848, 'gordon': 1849, 'unexpect': 1850, 'amateur': 1851, 'depend': 1852, 'construct': 1853, 'grown': 1854, 'categori': 1855, 'invit': 1856, 'unfold': 1857, 'honor': 1858, 'walter': 1859, 'condit': 1860, 'matur': 1861, 'grew': 1862, 'intellectu': 1863, 'anna': 1864, 'sudden': 1865, 'sole': 1866, 'spectacular': 1867, 'mirror': 1868, 'veteran': 1869, 'card': 1870, 'freedom': 1871, 'demonstr': 1872, 'overli': 1873, 'experienc': 1874, 'gift': 1875, 'meanwhil': 1876, 'robin': 1877, 'liner': 1878, 'grip': 1879, 'circumst': 1880, 'brilliantli': 1881, 'section': 1882, 'subtitl': 1883, 'oliv': 1884, 'colour': 1885, 'drew': 1886, 'crappi': 1887, 'unabl': 1888, 'theori': 1889, 'sheriff': 1890, 'sheer': 1891, 'laughter': 1892, 'path': 1893, 'parker': 1894, 'cook': 1895, 'pile': 1896, 'matt': 1897, 'altern': 1898, 'wander': 1899, 'hall': 1900, 'defin': 1901, 'treatment': 1902, 'relief': 1903, 'accident': 1904, 'lawyer': 1905, 'sinatra': 1906, 'captiv': 1907, 'dragon': 1908, 'hank': 1909, 'gratuit': 1910, 'moor': 1911, 'halloween': 1912, 'broadway': 1913, 'barbara': 1914, 'wayn': 1915, 'unintent': 1916, 'jacki': 1917, 'k': 1918, 'wound': 1919, 'cowboy': 1920, 'kung': 1921, 'canadian': 1922, 'spoof': 1923, 'surreal': 1924, 'statement': 1925, 'winter': 1926, 'gonna': 1927, 'cheer': 1928, 'compos': 1929, 'fare': 1930, 'treasur': 1931, 'fish': 1932, 'woodi': 1933, 'sensit': 1934, 'victor': 1935, 'unrealist': 1936, 'emerg': 1937, 'sympathet': 1938, 'driven': 1939, 'ran': 1940, 'neighbor': 1941, 'expos': 1942, 'menac': 1943, 'authent': 1944, 'topic': 1945, 'glass': 1946, 'overlook': 1947, 'handsom': 1948, 'chief': 1949, 'ancient': 1950, 'gross': 1951, 'michel': 1952, 'contemporari': 1953, 'built': 1954, 'feet': 1955, 'cinderella': 1956, 'comedian': 1957, 'nevertheless': 1958, 'stranger': 1959, 'russel': 1960, 'network': 1961, 'pleasant': 1962, 'gori': 1963, 'underr': 1964, 'consider': 1965, 'miser': 1966, 'blockbust': 1967, 'endless': 1968, 'earn': 1969, 'letter': 1970, 'switch': 1971, 'brook': 1972, 'solv': 1973, 'joseph': 1974, 'bullet': 1975, 'convict': 1976, 'virgin': 1977, 'edward': 1978, 'victoria': 1979, '0': 1980, 'alex': 1981, 'scenario': 1982, 'chosen': 1983, 'scale': 1984, 'cynic': 1985, 'curs': 1986, 'gut': 1987, 'sword': 1988, 'com': 1989, 'outrag': 1990, 'driver': 1991, 'substanc': 1992, 'proper': 1993, 'wrap': 1994, 'uk': 1995, 'juli': 1996, 'screenwrit': 1997, 'monkey': 1998, 'bird': 1999, 'remov': 2000, 'indic': 2001, 'par': 2002, 'court': 2003, 'consequ': 2004, 'rental': 2005, 'roy': 2006, 'advertis': 2007, 'inevit': 2008, 'loser': 2009, 'naiv': 2010, 'grave': 2011, 'nanci': 2012, 'invis': 2013, 'brave': 2014, 'bridg': 2015, 'fatal': 2016, 'slap': 2017, 'le': 2018, 'germani': 2019, 'anger': 2020, 'provok': 2021, 'footbal': 2022, 'ador': 2023, 'loui': 2024, 'anderson': 2025, 'chan': 2026, 'alcohol': 2027, 'professor': 2028, 'ryan': 2029, 'stumbl': 2030, 'willi': 2031, '1930': 2032, 'sharp': 2033, 'patrick': 2034, 'assassin': 2035, 'australian': 2036, 'bat': 2037, 'deni': 2038, 'heck': 2039, 'refresh': 2040, 'trilog': 2041, 'strongli': 2042, 'cell': 2043, 'amateurish': 2044, 'lousi': 2045, 'eight': 2046, 'liber': 2047, 'saturday': 2048, 'ape': 2049, 'sin': 2050, 'san': 2051, 'vagu': 2052, 'resid': 2053, 'justifi': 2054, 'indi': 2055, 'mini': 2056, 'creator': 2057, 'terrifi': 2058, 'sympathi': 2059, 'defeat': 2060, 'reput': 2061, 'tabl': 2062, 'tediou': 2063, 'prevent': 2064, 'endur': 2065, 'expert': 2066, 'task': 2067, 'basebal': 2068, 'imit': 2069, 'trial': 2070, 'offend': 2071, 'rival': 2072, 'employ': 2073, 'che': 2074, 'max': 2075, 'weekend': 2076, 'pitch': 2077, 'complaint': 2078, 'dig': 2079, 'beach': 2080, 'europ': 2081, 'fairi': 2082, 'murphi': 2083, 'risk': 2084, 'purchas': 2085, 'format': 2086, 'bite': 2087, 'nois': 2088, 'tini': 2089, 'reminisc': 2090, 'hype': 2091, 'glimps': 2092, 'titan': 2093, 'harsh': 2094, 'powel': 2095, '14': 2096, 'asleep': 2097, 'till': 2098, 'fals': 2099, 'north': 2100, 'prime': 2101, 'strip': 2102, 'descript': 2103, 'revel': 2104, 'africa': 2105, 'destruct': 2106, 'texa': 2107, 'inner': 2108, 'semi': 2109, 'surfac': 2110, 'excess': 2111, 'sitcom': 2112, 'uninterest': 2113, 'spin': 2114, 'arrest': 2115, 'maintain': 2116, 'argu': 2117, 'massiv': 2118, 'controversi': 2119, 'twin': 2120, 'hitchcock': 2121, 'makeup': 2122, 'dinosaur': 2123, 'ideal': 2124, 'reject': 2125, 'insist': 2126, 'ludicr': 2127, 'expens': 2128, 'melodrama': 2129, 'stare': 2130, 'kim': 2131, 'supernatur': 2132, 'host': 2133, 'press': 2134, 'ala': 2135, 'erot': 2136, 'subplot': 2137, 'ga': 2138, 'nail': 2139, 'columbo': 2140, 'atroci': 2141, 'forest': 2142, 'dude': 2143, 'presum': 2144, 'cant': 2145, 'notch': 2146, 'identifi': 2147, 'method': 2148, 'character': 2149, 'closer': 2150, 'crude': 2151, 'guest': 2152, 'plagu': 2153, 'forgett': 2154, 'border': 2155, 'landscap': 2156, 'ear': 2157, 'beast': 2158, 'lion': 2159, 'foster': 2160, 'princess': 2161, 'urban': 2162, 'bound': 2163, 'birth': 2164, 'jungl': 2165, 'aunt': 2166, 'previous': 2167, 'storytel': 2168, 'pacino': 2169, 'accus': 2170, 'damag': 2171, 'doll': 2172, 'thirti': 2173, 'emma': 2174, 'chose': 2175, 'nude': 2176, 'guid': 2177, 'jess': 2178, 'propaganda': 2179, 'mainstream': 2180, '25': 2181, 'warrior': 2182, 'pet': 2183, 'whoever': 2184, 'mate': 2185, 'size': 2186, 'gritti': 2187, 'poster': 2188, 'latest': 2189, 'friday': 2190, 'upset': 2191, 'cooper': 2192, 'deadli': 2193, 'exact': 2194, 'merit': 2195, 'settl': 2196, 'popul': 2197, 'ton': 2198, 'citizen': 2199, 'rough': 2200, 'warner': 2201, 'buff': 2202, 'sun': 2203, 'corps': 2204, '1990': 2205, 'wilson': 2206, 'contact': 2207, 'blend': 2208, 'contest': 2209, 'rat': 2210, 'pitt': 2211, 'metal': 2212, 'mgm': 2213, 'overcom': 2214, 'select': 2215, 'environ': 2216, 'alic': 2217, 'bu': 2218, 'widow': 2219, 'ted': 2220, 'particip': 2221, 'lift': 2222, 'guilti': 2223, 'revolut': 2224, 'link': 2225, 'moron': 2226, 'accompani': 2227, 'corner': 2228, '1960': 2229, 'matrix': 2230, 'corpor': 2231, 'prostitut': 2232, 'johnson': 2233, 'afternoon': 2234, 'exagger': 2235, 'hood': 2236, 'sincer': 2237, 'doom': 2238, 'multipl': 2239, 'holm': 2240, 'friendli': 2241, 'leagu': 2242, 'instal': 2243, 'clair': 2244, 'irish': 2245, 'junk': 2246, 'defend': 2247, 'hip': 2248, 'lugosi': 2249, 'grim': 2250, 'campi': 2251, 'string': 2252, 'blah': 2253, 'advis': 2254, 'aka': 2255, 'examin': 2256, 'sunday': 2257, 'confid': 2258, 'shut': 2259, 'pro': 2260, 'tight': 2261, 'shake': 2262, 'icon': 2263, 'rachel': 2264, 'varieti': 2265, 'medic': 2266, 'attach': 2267, 'goal': 2268, 'denni': 2269, 'sullivan': 2270, 'jaw': 2271, 'mexican': 2272, 'directli': 2273, 'prior': 2274, 'duke': 2275, 'sentenc': 2276, 'courag': 2277, 'breast': 2278, 'legendari': 2279, 'truck': 2280, 'terrorist': 2281, 'bourn': 2282, 'vietnam': 2283, 'dean': 2284, 'sarah': 2285, 'nose': 2286, 'proceed': 2287, 'hong': 2288, 'split': 2289, 'entri': 2290, 'behav': 2291, 'yell': 2292, 'un': 2293, 'donald': 2294, 'concentr': 2295, 'buri': 2296, 'forth': 2297, 'everywher': 2298, 'swim': 2299, 'lifetim': 2300, 'jerk': 2301, 'gather': 2302, 'crush': 2303, 'stolen': 2304, 'confess': 2305, 'borrow': 2306, 'unconvinc': 2307, 'spite': 2308, 'lip': 2309, 'california': 2310, 'deliveri': 2311, 'pan': 2312, 'julia': 2313, 'turkey': 2314, 'reward': 2315, 'proud': 2316, 'offici': 2317, 'quest': 2318, 'flight': 2319, 'hoffman': 2320, 'downright': 2321, 'china': 2322, 'freeman': 2323, 'encourag': 2324, 'jail': 2325, 'fade': 2326, 'jon': 2327, 'betray': 2328, 'worthwhil': 2329, 'sir': 2330, 'sink': 2331, 'lazi': 2332, 'notori': 2333, 'fabul': 2334, 'inept': 2335, 'teeth': 2336, 'lisa': 2337, 'storm': 2338, 'bell': 2339, 'branagh': 2340, 'relev': 2341, 'imageri': 2342, 'survivor': 2343, 'cousin': 2344, 'bag': 2345, 'susan': 2346, 'shower': 2347, 'retard': 2348, 'trade': 2349, 'alright': 2350, 'mexico': 2351, 'stab': 2352, 'bride': 2353, 'quirki': 2354, 'facial': 2355, 'summari': 2356, 'tremend': 2357, 'toler': 2358, 'hugh': 2359, 'shark': 2360, 'finger': 2361, 'ha': 2362, 'hyster': 2363, 'bitter': 2364, 'blown': 2365, 'pose': 2366, 'von': 2367, 'address': 2368, 'scheme': 2369, 'christ': 2370, 'cruel': 2371, 'ron': 2372, 'larri': 2373, 'bone': 2374, 'afterward': 2375, 'ned': 2376, 'beg': 2377, 'screw': 2378, 'pursu': 2379, 'thumb': 2380, 'traci': 2381, 'feed': 2382, 'tour': 2383, 'distinct': 2384, 'snake': 2385, 'swear': 2386, 'obscur': 2387, 'chair': 2388, 'mechan': 2389, 'occas': 2390, 'stomach': 2391, 'photo': 2392, 'raw': 2393, 'heavili': 2394, 'chain': 2395, 'argument': 2396, 'holiday': 2397, 'southern': 2398, 'gruesom': 2399, 'resist': 2400, 'render': 2401, 'hardi': 2402, 'cabin': 2403, 'necessarili': 2404, 'sidney': 2405, 'india': 2406, 'philip': 2407, 'racist': 2408, 'indulg': 2409, 'satan': 2410, 'understood': 2411, 'forgot': 2412, 'belov': 2413, 'integr': 2414, 'obnoxi': 2415, 'outfit': 2416, 'midnight': 2417, 'fourth': 2418, 'tongu': 2419, 'lay': 2420, 'pregnant': 2421, 'stalk': 2422, 'ticket': 2423, 'deeper': 2424, 'magazin': 2425, '17': 2426, 'inhabit': 2427, 'restor': 2428, 'slapstick': 2429, 'garden': 2430, 'carol': 2431, 'devot': 2432, 'shoe': 2433, 'incid': 2434, 'brad': 2435, 'lincoln': 2436, 'anticip': 2437, 'benefit': 2438, 'guarante': 2439, 'lili': 2440, 'underground': 2441, 'sandler': 2442, 'maria': 2443, 'elizabeth': 2444, 'disbelief': 2445, 'divorc': 2446, 'bbc': 2447, 'princip': 2448, 'mildli': 2449, 'creation': 2450, 'greater': 2451, 'amazingli': 2452, 'explod': 2453, 'capit': 2454, 'cring': 2455, 'slave': 2456, 'extraordinari': 2457, 'lesli': 2458, 'halfway': 2459, 'introduct': 2460, 'funnier': 2461, 'text': 2462, 'transfer': 2463, 'punish': 2464, 'advantag': 2465, 'enhanc': 2466, 'tap': 2467, 'overwhelm': 2468, 'wreck': 2469, 'extent': 2470, 'preview': 2471, 'deliber': 2472, 'error': 2473, 'horrif': 2474, 'dynam': 2475, 'plant': 2476, 'lo': 2477, 'east': 2478, 'jessica': 2479, 'lane': 2480, 'appli': 2481, 'miscast': 2482, 'ensu': 2483, 'homosexu': 2484, 'basi': 2485, '2000': 2486, 'miller': 2487, 'sophist': 2488, 'vincent': 2489, 'vacat': 2490, 'spoken': 2491, 'sleazi': 2492, 'mansion': 2493, 'extend': 2494, 'uncomfort': 2495, 'reed': 2496, 'steel': 2497, 'bollywood': 2498, 'measur': 2499, 'elev': 2500, 'via': 2501, 'cathol': 2502, 'goofi': 2503, 'beer': 2504, 'conceiv': 2505, 'daili': 2506, 'fix': 2507, 'savag': 2508, 'assign': 2509, 'overact': 2510, 'breathtak': 2511, 'alter': 2512, 'melt': 2513, 'blair': 2514, 'mous': 2515, 'stanley': 2516, 'dentist': 2517, 'hippi': 2518, 'succe': 2519, 'oppos': 2520, 'properli': 2521, 'everyday': 2522, 'inspector': 2523, 'carpent': 2524, 'nowaday': 2525, 'sacrific': 2526, 'burt': 2527, 'subsequ': 2528, 'neck': 2529, 'circl': 2530, 'block': 2531, 'massacr': 2532, 'laura': 2533, 'portrait': 2534, 'mob': 2535, 'access': 2536, 'fallen': 2537, 'grey': 2538, 'fay': 2539, 'concert': 2540, 'pool': 2541, 'lesser': 2542, 'christi': 2543, 'seagal': 2544, 'jewish': 2545, 'sinist': 2546, 'chees': 2547, 'usa': 2548, 'relax': 2549, 'jake': 2550, 'competit': 2551, 'react': 2552, 'isol': 2553, '2006': 2554, 'immens': 2555, 'lyric': 2556, 'spiritu': 2557, 'nonetheless': 2558, 'stink': 2559, 'ironi': 2560, 'suitabl': 2561, 'creep': 2562, 'chop': 2563, 'nine': 2564, 'appal': 2565, 'shirt': 2566, 'rage': 2567, 'franchis': 2568, 'user': 2569, 'spring': 2570, 'adopt': 2571, 'sold': 2572, 'nut': 2573, 'retir': 2574, 'reduc': 2575, 'showcas': 2576, 'luci': 2577, 'navi': 2578, 'needless': 2579, 'stanwyck': 2580, 'asham': 2581, 'bath': 2582, 'digit': 2583, 'bulli': 2584, 'nurs': 2585, 'jay': 2586, 'per': 2587, 'uninspir': 2588, 'zone': 2589, 'illustr': 2590, 'upper': 2591, 'oddli': 2592, '1940': 2593, 'amongst': 2594, '2001': 2595, 'laid': 2596, 'broadcast': 2597, 'sutherland': 2598, 'aspir': 2599, 'throat': 2600, 'baker': 2601, 'stylish': 2602, 'brando': 2603, 'disguis': 2604, 'fulfil': 2605, '18': 2606, 'impli': 2607, 'nobl': 2608, 'wanna': 2609, 'thief': 2610, 'endear': 2611, 'pride': 2612, 'pound': 2613, 'neighborhood': 2614, 'wwii': 2615, 'em': 2616, 'rochest': 2617, 'albeit': 2618, 'coher': 2619, 'tens': 2620, 'dawn': 2621, 'prop': 2622, '16': 2623, 'shift': 2624, 'bett': 2625, 'diseas': 2626, 'cinematograph': 2627, 'shoulder': 2628, 'distribut': 2629, 'bo': 2630, 'dinner': 2631, 'rebel': 2632, 'wash': 2633, 'shout': 2634, 'function': 2635, 'forti': 2636, 'matthau': 2637, 'silenc': 2638, 'snow': 2639, 'knife': 2640, 'poignant': 2641, 'surf': 2642, 'contract': 2643, 'duti': 2644, 'proof': 2645, 'cancel': 2646, 'cannib': 2647, 'silver': 2648, 'chuck': 2649, 'henc': 2650, 'elvira': 2651, 'internet': 2652, 'heat': 2653, 'mindless': 2654, 'reunion': 2655, 'height': 2656, 'horrend': 2657, 'eeri': 2658, 'instinct': 2659, 'derek': 2660, 'widmark': 2661, 'torn': 2662, 'pie': 2663, 'greatli': 2664, 'etern': 2665, 'premier': 2666, 'innov': 2667, 'absorb': 2668, 'glori': 2669, 'alik': 2670, 'neat': 2671, 'elvi': 2672, 'repetit': 2673, 'mill': 2674, 'incoher': 2675, 'musician': 2676, 'spielberg': 2677, 'redempt': 2678, 'trite': 2679, 'lovabl': 2680, 'infam': 2681, 'blank': 2682, 'precis': 2683, 'bang': 2684, 'announc': 2685, 'horrifi': 2686, 'crisi': 2687, 'diamond': 2688, 'fbi': 2689, 'burton': 2690, 'britain': 2691, 'homag': 2692, 'itali': 2693, 'wealthi': 2694, 'racism': 2695, 'nelson': 2696, 'resolut': 2697, 'pat': 2698, 'helen': 2699, 'parallel': 2700, 'chaplin': 2701, 'happili': 2702, 'ensembl': 2703, 'flop': 2704, 'wilder': 2705, 'streisand': 2706, 'hammer': 2707, 'dedic': 2708, 'oil': 2709, 'st': 2710, 'broke': 2711, 'disagre': 2712, 'plastic': 2713, 'mar': 2714, 'carter': 2715, 'cube': 2716, 'conclud': 2717, 'factori': 2718, 'triumph': 2719, 'climb': 2720, 'march': 2721, 'rocket': 2722, 'chuckl': 2723, 'weight': 2724, 'own': 2725, 'fighter': 2726, 'row': 2727, 'vega': 2728, 'bush': 2729, 'unforgett': 2730, 'enorm': 2731, 'sensibl': 2732, 'lust': 2733, 'spare': 2734, 'mst3k': 2735, 'meaning': 2736, 'thug': 2737, 'dane': 2738, 'boot': 2739, 'dump': 2740, 'kurt': 2741, 'luca': 2742, 'wherea': 2743, 'threat': 2744, 'difficulti': 2745, 'karloff': 2746, 'engin': 2747, 'stress': 2748, 'adequ': 2749, 'butt': 2750, 'dear': 2751, 'arnold': 2752, 'rap': 2753, 'bobbi': 2754, 'fifti': 2755, 'caricatur': 2756, 'brand': 2757, 'polish': 2758, 'arrog': 2759, 'elabor': 2760, 'homeless': 2761, 'swing': 2762, 'hamlet': 2763, 'ego': 2764, 'ralph': 2765, 'barri': 2766, 'secretari': 2767, 'journalist': 2768, 'flynn': 2769, 'fest': 2770, 'arrang': 2771, 'float': 2772, 'spike': 2773, 'unbear': 2774, 'grate': 2775, 'induc': 2776, 'fanci': 2777, 'puppet': 2778, 'conspiraci': 2779, 'tool': 2780, 'resort': 2781, 'simpson': 2782, 'boll': 2783, 'guilt': 2784, 'exercis': 2785, 'cruis': 2786, 'choreograph': 2787, 'phillip': 2788, 'pig': 2789, 'tribut': 2790, 'muppet': 2791, 'basement': 2792, '24': 2793, 'file': 2794, 'korean': 2795, 'ward': 2796, 'ham': 2797, 'document': 2798, 'item': 2799, 'tower': 2800, 'puzzl': 2801, 'slip': 2802, 'medium': 2803, 'babe': 2804, 'toilet': 2805, 'editor': 2806, 'layer': 2807, 'fianc': 2808, 'stan': 2809, 'scarecrow': 2810, 'inexplic': 2811, 'librari': 2812, 'transit': 2813, 'glover': 2814, 'larger': 2815, 'territori': 2816, 'persona': 2817, 'philosoph': 2818, 'superfici': 2819, 'portion': 2820, 'minim': 2821, 'spark': 2822, 'doc': 2823, 'orient': 2824, 'denzel': 2825, 'assur': 2826, 'catherin': 2827, 'slaughter': 2828, 'ban': 2829, 'shi': 2830, 'jeremi': 2831, 'sneak': 2832, 'wolf': 2833, 'curti': 2834, 'boredom': 2835, 'jet': 2836, 'dorothi': 2837, 'pg': 2838, 'financi': 2839, 'owe': 2840, 'walken': 2841, 'ambigu': 2842, 'cusack': 2843, 'metaphor': 2844, 'hudson': 2845, 'profound': 2846, 'eleph': 2847, 'whale': 2848, 'backdrop': 2849, 'multi': 2850, '2005': 2851, 'birthday': 2852, 'ultra': 2853, 'union': 2854, 'viru': 2855, 'rave': 2856, 'notion': 2857, 'implaus': 2858, 'hack': 2859, 'stiff': 2860, 'elsewher': 2861, 'gadget': 2862, 'afford': 2863, 'canada': 2864, 'newspap': 2865, 'slight': 2866, 'urg': 2867, 'eastwood': 2868, 'reader': 2869, 'lloyd': 2870, 'pad': 2871, '1st': 2872, 'hawk': 2873, 'disc': 2874, 'squar': 2875, 'deriv': 2876, 'superhero': 2877, 'poison': 2878, 'distanc': 2879, 'bibl': 2880, 'eva': 2881, 'spread': 2882, 'drown': 2883, 'sadist': 2884, 'essenc': 2885, 'huh': 2886, 'charisma': 2887, 'button': 2888, 'restaur': 2889, 'heston': 2890, 'skit': 2891, 'health': 2892, 'cure': 2893, 'montag': 2894, 'companion': 2895, 'lab': 2896, 'dealt': 2897, 'peak': 2898, 'godfath': 2899, 'invest': 2900, 'scoobi': 2901, 'fetch': 2902, 'estat': 2903, 'muslim': 2904, 'maniac': 2905, 'gradual': 2906, 'gothic': 2907, 'ritter': 2908, 'cup': 2909, 'subtleti': 2910, 'countless': 2911, 'alli': 2912, 'kane': 2913, 'tea': 2914, 'servant': 2915, 'miik': 2916, 'electr': 2917, 'charismat': 2918, 'heroic': 2919, 'salli': 2920, 'elect': 2921, 'briefli': 2922, 'iii': 2923, 'toss': 2924, 'reel': 2925, 'ingredi': 2926, 'nuanc': 2927, 'wannab': 2928, 'bud': 2929, 'resourc': 2930, 'grandmoth': 2931, 'admittedli': 2932, 'tender': 2933, 'cole': 2934, 'neil': 2935, 'pit': 2936, 'shall': 2937, 'poverti': 2938, 'punk': 2939, 'carrey': 2940, 'mild': 2941, 'dawson': 2942, 'gate': 2943, 'reev': 2944, 'label': 2945, 'stronger': 2946, 'pauli': 2947, 'mafia': 2948, 'kubrick': 2949, 'stood': 2950, 'easier': 2951, 'burst': 2952, 'smooth': 2953, 'tag': 2954, 'ian': 2955, 'useless': 2956, 'updat': 2957, 'smash': 2958, 'fond': 2959, 'assault': 2960, 'astair': 2961, 'outcom': 2962, 'cardboard': 2963, 'terri': 2964, 'cox': 2965, 'bakshi': 2966, 'vulner': 2967, 'vari': 2968, 'qualifi': 2969, 'rex': 2970, 'sketch': 2971, 'exchang': 2972, 'coincid': 2973, 'fist': 2974, 'divers': 2975, 'increasingli': 2976, 'resolv': 2977, '2002': 2978, 'samurai': 2979, 'melodramat': 2980, 'suspend': 2981, 'brillianc': 2982, 'luckili': 2983, 'scratch': 2984, 'reynold': 2985, 'templ': 2986, 'insert': 2987, 'conveni': 2988, 'blast': 2989, 'be': 2990, 'tame': 2991, 'meat': 2992, 'seventi': 2993, 'strictli': 2994, 'soprano': 2995, 'fisher': 2996, 'gotta': 2997, 'walker': 2998, 'nuclear': 2999, 'farm': 3000, 'ambiti': 3001, 'matthew': 3002, 'hamilton': 3003, 'coach': 3004, 'jami': 3005, 'pin': 3006, 'instantli': 3007, 'cave': 3008, 'worthless': 3009, 'revers': 3010, 'brosnan': 3011, 'clock': 3012, 'kudo': 3013, 'grasp': 3014, 'closet': 3015, 'struck': 3016, 'timeless': 3017, 'recreat': 3018, 'convolut': 3019, 'discoveri': 3020, 'spooki': 3021, 'joey': 3022, 'eccentr': 3023, 'butcher': 3024, 'ninja': 3025, 'empir': 3026, 'monk': 3027, 'importantli': 3028, 'declar': 3029, 'sidekick': 3030, 'seller': 3031, 'communist': 3032, 'partli': 3033, 'evok': 3034, 'sloppi': 3035, 'norman': 3036, 'mitchel': 3037, 'gray': 3038, 'wipe': 3039, 'selfish': 3040, 'miracl': 3041, 'bleak': 3042, 'inconsist': 3043, 'pal': 3044, 'cliff': 3045, 'eighti': 3046, 'clown': 3047, 'fifteen': 3048, 'piano': 3049, 'enthusiast': 3050, 'chew': 3051, 'websit': 3052, 'flawless': 3053, 'farc': 3054, '45': 3055, 'aforement': 3056, 'cheek': 3057, 'destin': 3058, 'superbl': 3059, 'seed': 3060, 'ho': 3061, 'lifestyl': 3062, 'stoog': 3063, 'debat': 3064, 'psychiatrist': 3065, 'australia': 3066, 'splatter': 3067, 'anni': 3068, 'wick': 3069, 'pressur': 3070, 'bash': 3071, 'dire': 3072, 'directori': 3073, 'soviet': 3074, 'incompet': 3075, 'regardless': 3076, 'dash': 3077, 'abc': 3078, 'slice': 3079, 'emili': 3080, 'drivel': 3081, 'wrestl': 3082, 'kitchen': 3083, 'akshay': 3084, 'distant': 3085, 'mann': 3086, 'recov': 3087, 'suppli': 3088, 'seduc': 3089, 'increas': 3090, 'beaten': 3091, 'cameron': 3092, 'chapter': 3093, 'curios': 3094, 'doo': 3095, 'judi': 3096, 'pleasantli': 3097, 'cia': 3098, 'boil': 3099, 'duo': 3100, 'cagney': 3101, 'lou': 3102, 'dave': 3103, 'glow': 3104, 'jar': 3105, 'prize': 3106, 'artifici': 3107, 'helicopt': 3108, 'ken': 3109, 'flower': 3110, 'blob': 3111, 'favour': 3112, 'goldberg': 3113, 'eleg': 3114, 'drunken': 3115, 'combat': 3116, 'turner': 3117, 'laurel': 3118, 'ellen': 3119, 'hop': 3120, 'web': 3121, 'francisco': 3122, 'perri': 3123, 'panic': 3124, 'craig': 3125, 'psychot': 3126, 'glenn': 3127, 'splendid': 3128, 'ranger': 3129, 'craven': 3130, 'ruth': 3131, 'gandhi': 3132, 'plausibl': 3133, 'wizard': 3134, 'rid': 3135, 'gentl': 3136, 'slightest': 3137, '20th': 3138, 'graduat': 3139, 'min': 3140, 'alexand': 3141, 'philosophi': 3142, 'shortli': 3143, 'greek': 3144, 'fx': 3145, 'hatr': 3146, 'modesti': 3147, 'flip': 3148, 'falk': 3149, 'holi': 3150, 'knight': 3151, 'unpleas': 3152, 'lend': 3153, 'ocean': 3154, 'legal': 3155, 'dracula': 3156, 'manhattan': 3157, 'felix': 3158, 'fund': 3159, 'futurist': 3160, 'preciou': 3161, 'tall': 3162, 'we': 3163, 'jealou': 3164, 'harm': 3165, 'scientif': 3166, 'ami': 3167, 'explicit': 3168, 'thread': 3169, 'tank': 3170, 'nod': 3171, 'bless': 3172, 'childish': 3173, 'giallo': 3174, 'reviv': 3175, 'mock': 3176, 'forbidden': 3177, 'overdon': 3178, 'digniti': 3179, 'awaken': 3180, 'broad': 3181, 'repeatedli': 3182, 'margaret': 3183, 'yesterday': 3184, 'thick': 3185, '99': 3186, 'pirat': 3187, 'elderli': 3188, 'nerv': 3189, 'torment': 3190, 'awe': 3191, 'verhoeven': 3192, 'fever': 3193, 'eve': 3194, 'unwatch': 3195, 'mel': 3196, '2004': 3197, 'romero': 3198, 'ah': 3199, 'absenc': 3200, 'timothi': 3201, 'roman': 3202, 'bin': 3203, 'lean': 3204, 'uniform': 3205, 'custom': 3206, 'kay': 3207, 'griffith': 3208, 'automat': 3209, 'acclaim': 3210, 'stiller': 3211, 'rivet': 3212, 'royal': 3213, 'eas': 3214, 'publish': 3215, 'launch': 3216, 'ambit': 3217, 'politician': 3218, 'phrase': 3219, 'pierc': 3220, 'termin': 3221, 'stinker': 3222, 'pulp': 3223, 'crook': 3224, 'transport': 3225, 'foul': 3226, 'purpl': 3227, 'antic': 3228, 'bathroom': 3229, 'warren': 3230, 'darker': 3231, 'gabriel': 3232, 'sunshin': 3233, 'homicid': 3234, 'tomato': 3235, 'wallac': 3236, 'eyr': 3237, '2003': 3238, 'contrari': 3239, 'coloni': 3240, 'q': 3241, 'ought': 3242, 'saint': 3243, 'viciou': 3244, 'pray': 3245, 'choreographi': 3246, 'juvenil': 3247, 'horrid': 3248, 'kenneth': 3249, 'evolv': 3250, 'packag': 3251, 'album': 3252, 'marin': 3253, 'revolutionari': 3254, 'donna': 3255, 'prom': 3256, 'rambo': 3257, 'awak': 3258, 'li': 3259, 'sixti': 3260, 'hollow': 3261, 'karen': 3262, 'brazil': 3263, 'option': 3264, 'ramon': 3265, 'mummi': 3266, 'boast': 3267, 'defi': 3268, 'ireland': 3269, 'mildr': 3270, 'stole': 3271, 'twelv': 3272, 'beatti': 3273, 'blade': 3274, 'candid': 3275, 'nerd': 3276, 'overr': 3277, 'kapoor': 3278, 'dose': 3279, 'conserv': 3280, 'collabor': 3281, 'altman': 3282, 'detract': 3283, 'kirk': 3284, 'jazz': 3285, 'flame': 3286, 'global': 3287, 'trio': 3288, 'natali': 3289, 'funer': 3290, 'astonish': 3291, 'protest': 3292, 'confirm': 3293, 'fulci': 3294, 'audio': 3295, 'bottl': 3296, 'enterpris': 3297, 'tommi': 3298, 'bull': 3299, 'mystic': 3300, 'delici': 3301, 'destini': 3302, 'spit': 3303, 'leap': 3304, 'yellow': 3305, 'shade': 3306, 'nicholson': 3307, 'blake': 3308, 'racial': 3309, 'whip': 3310, 'fonda': 3311, 'pseudo': 3312, 'merci': 3313, 'swedish': 3314, 'threw': 3315, 'enchant': 3316, 'reunit': 3317, 'staff': 3318, 'adolesc': 3319, 'bedroom': 3320, 'meaningless': 3321, 'neo': 3322, 'visibl': 3323, 'todd': 3324, 'altogeth': 3325, 'popcorn': 3326, 'harder': 3327, 'vivid': 3328, 'inherit': 3329, 'uneven': 3330, 'synopsi': 3331, 'reserv': 3332, 'wire': 3333, 'jew': 3334, 'tip': 3335, 'exhibit': 3336, 'lawrenc': 3337, 'atlanti': 3338, 'await': 3339, 'fanat': 3340, 'crocodil': 3341, 'madonna': 3342, 'lemmon': 3343, 'suspici': 3344, 'ruthless': 3345, 'moodi': 3346, 'decor': 3347, 'leonard': 3348, 'befriend': 3349, 'kennedi': 3350, 'bust': 3351, 'voight': 3352, 'roommat': 3353, 'respond': 3354, 'edi': 3355, 'chao': 3356, 'incident': 3357, 'garner': 3358, 'ventur': 3359, 'unsettl': 3360, 'clumsi': 3361, 'voyag': 3362, 'clint': 3363, 'rural': 3364, 'holli': 3365, 'palma': 3366, 'audit': 3367, 'carl': 3368, 'bold': 3369, 'bargain': 3370, 'abysm': 3371, 'centr': 3372, '2007': 3373, 'bradi': 3374, 'dimens': 3375, 'daddi': 3376, 'trail': 3377, 'acknowledg': 3378, 'humili': 3379, 'wealth': 3380, 'neglect': 3381, 'cd': 3382, 'mall': 3383, 'elimin': 3384, 'echo': 3385, 'poetic': 3386, '2nd': 3387, 'cari': 3388, 'nearbi': 3389, 'troop': 3390, 'imperson': 3391, 'hart': 3392, 'versu': 3393, 'timon': 3394, 'lit': 3395, 'characterist': 3396, 'ant': 3397, 'tiger': 3398, 'immigr': 3399, 'cuba': 3400, 'infect': 3401, 'domest': 3402, 'collaps': 3403, 'prejudic': 3404, 'celluloid': 3405, 'saga': 3406, 'repuls': 3407, 'solo': 3408, 'paus': 3409, 'mickey': 3410, 'marshal': 3411, 'pun': 3412, 'mistaken': 3413, 'homer': 3414, 'jeffrey': 3415, 'assembl': 3416, 'coat': 3417, 'tribe': 3418, 'apolog': 3419, 'undoubtedli': 3420, 'coffe': 3421, 'hbo': 3422, 'milk': 3423, 'sore': 3424, 'inappropri': 3425, 'pant': 3426, 'ginger': 3427, 'harvey': 3428, 'promin': 3429, 'inan': 3430, 'gear': 3431, 'equip': 3432, '1996': 3433, 'interrupt': 3434, 'olivi': 3435, 'cake': 3436, 'chest': 3437, 'leon': 3438, 'brooklyn': 3439, 'colonel': 3440, 'exot': 3441, 'pot': 3442, 'highest': 3443, 'trace': 3444, 'consum': 3445, 'jenni': 3446, 'instant': 3447, 'humbl': 3448, 'pen': 3449, 'retain': 3450, 'devast': 3451, 'embrac': 3452, 'vulgar': 3453, 'furthermor': 3454, 'primari': 3455, 'solut': 3456, 'florida': 3457, 'maggi': 3458, 'colleagu': 3459, 'institut': 3460, 'polanski': 3461, 'airplan': 3462, 'aveng': 3463, 'descend': 3464, 'strain': 3465, 'smaller': 3466, 'wive': 3467, 'rick': 3468, 'seduct': 3469, 'dutch': 3470, '3rd': 3471, 'sale': 3472, 'bowl': 3473, 'poke': 3474, 'outer': 3475, 'ya': 3476, 'cope': 3477, 'gender': 3478, 'dian': 3479, 'disabl': 3480, 'godzilla': 3481, 'illog': 3482, 'linda': 3483, '1999': 3484, 'principl': 3485, 'vast': 3486, 'mixtur': 3487, 'glamor': 3488, 'yard': 3489, 'devoid': 3490, 'cue': 3491, 'bubbl': 3492, 'rabbit': 3493, 'gloriou': 3494, 'dive': 3495, 'beneath': 3496, 'scope': 3497, 'blatant': 3498, 'secondli': 3499, 'lol': 3500, 'predecessor': 3501, 'dud': 3502, 'inferior': 3503, 'primarili': 3504, 'gundam': 3505, 'hal': 3506, 'disjoint': 3507, 'countrysid': 3508, 'alfr': 3509, 'museum': 3510, 'pearl': 3511, 'senseless': 3512, 'talki': 3513, 'alert': 3514, 'breed': 3515, 'shirley': 3516, 'shelf': 3517, 'streep': 3518, 'aggress': 3519, 'simplist': 3520, 'hideou': 3521, 'april': 3522, 'domino': 3523, 'et': 3524, 'casual': 3525, 'arab': 3526, 'trademark': 3527, 'z': 3528, 'invas': 3529, 'grinch': 3530, 'myer': 3531, 'garbo': 3532, 'experiment': 3533, 'sh': 3534, 'illeg': 3535, 'rendit': 3536, 'maci': 3537, 'loyal': 3538, 'uwe': 3539, 'defens': 3540, 'unhappi': 3541, 'hopeless': 3542, 'mail': 3543, 'obtain': 3544, 'khan': 3545, 'robinson': 3546, 'acid': 3547, 'boom': 3548, 'robberi': 3549, 'disgrac': 3550, 'stellar': 3551, 'applaud': 3552, 'vanish': 3553, 'stir': 3554, 'stack': 3555, 'hardcor': 3556, 'oz': 3557, 'slide': 3558, 'mayor': 3559, 'diana': 3560, 'blew': 3561, 'counter': 3562, 'amanda': 3563, 'topless': 3564, 'grandfath': 3565, 'soccer': 3566, 'emphasi': 3567, 'span': 3568, 'psychic': 3569, 'recruit': 3570, 'wont': 3571, 'hartley': 3572, 'fri': 3573, 'craze': 3574, 'incomprehens': 3575, 'rifl': 3576, 'dicken': 3577, 'berlin': 3578, 'spider': 3579, 'tempt': 3580, 'tenant': 3581, 'dismiss': 3582, 'declin': 3583, 'scroog': 3584, 'justin': 3585, 'ethnic': 3586, 'woo': 3587, 'porno': 3588, 'ration': 3589, 'riot': 3590, 'wet': 3591, 'resurrect': 3592, 'goer': 3593, 'shed': 3594, 'trashi': 3595, 'intim': 3596, 'parad': 3597, 'niro': 3598, 'sibl': 3599, 'sympath': 3600, 'faster': 3601, 'bitch': 3602, 'lumet': 3603, 'revolt': 3604, 'shaw': 3605, 'ensur': 3606, 'gap': 3607, 'choru': 3608, 'eager': 3609, 'biographi': 3610, 'weakest': 3611, 'patriot': 3612, 'nephew': 3613, 'commend': 3614, 'rider': 3615, 'immort': 3616, 'steam': 3617, 'hesit': 3618, 'worm': 3619, 'honesti': 3620, 'lena': 3621, '00': 3622, 'hopper': 3623, 'mario': 3624, 'region': 3625, 'unreal': 3626, 'slick': 3627, 'jonathan': 3628, 'enlighten': 3629, 'wheel': 3630, 'partial': 3631, 'farmer': 3632, 'dealer': 3633, 'andr': 3634, 'feminist': 3635, 'wendi': 3636, 'ballet': 3637, 'charlott': 3638, 'skull': 3639, 'prequel': 3640, 'victori': 3641, 'psychopath': 3642, 'util': 3643, 'wore': 3644, 'kingdom': 3645, 'vice': 3646, 'leo': 3647, 'nostalg': 3648, 'confin': 3649, 'composit': 3650, 'franco': 3651, 'snap': 3652, 'mutant': 3653, 'sandra': 3654, 'blunt': 3655, 'hung': 3656, 'repress': 3657, 'morri': 3658, 'properti': 3659, 'similarli': 3660, 'sappi': 3661, 'safeti': 3662, 'owen': 3663, 'macarthur': 3664, 'repli': 3665, 'dalton': 3666, 'despair': 3667, 'bonu': 3668, 'tad': 3669, 'rocki': 3670, 'whoopi': 3671, '1972': 3672, 'deed': 3673, 'nervou': 3674, 'exit': 3675, 'valuabl': 3676, 'miseri': 3677, 'bergman': 3678, 'recycl': 3679, 'acquir': 3680, 'thru': 3681, 'farrel': 3682, 'drum': 3683, 'pattern': 3684, 'strand': 3685, 'bumbl': 3686, 'speci': 3687, 'latin': 3688, 'compens': 3689, 'dust': 3690, 'kyle': 3691, 'montana': 3692, 'bow': 3693, 'cg': 3694, 'drain': 3695, 'compass': 3696, 'tail': 3697, 'rope': 3698, 'emperor': 3699, 'del': 3700, 'rambl': 3701, 'campbel': 3702, 'snl': 3703, 'heartbreak': 3704, 'hyde': 3705, 'orson': 3706, 'percept': 3707, 'bleed': 3708, 'gimmick': 3709, 'gal': 3710, 'mistress': 3711, 'slug': 3712, 'wacki': 3713, 'romp': 3714, 'da': 3715, 'rotten': 3716, 'rapist': 3717, 'tonight': 3718, 'carradin': 3719, 'chess': 3720, 'downhil': 3721, 'radic': 3722, 'airport': 3723, 'oppress': 3724, 'pour': 3725, '35': 3726, 'olli': 3727, 'martian': 3728, 'contempl': 3729, 'roth': 3730, 'pursuit': 3731, '1983': 3732, 'arc': 3733, 'pervert': 3734, 'arguabl': 3735, 'stilt': 3736, 'tackl': 3737, 'shelley': 3738, 'heal': 3739, 'champion': 3740, 'slash': 3741, 'belt': 3742, 'unpredict': 3743, 'edgar': 3744, 'paltrow': 3745, 'attorney': 3746, 'programm': 3747, 'preach': 3748, 'melodi': 3749, 'dazzl': 3750, 'pervers': 3751, 'taught': 3752, 'banal': 3753, 'mislead': 3754, 'tooth': 3755, 'vengeanc': 3756, 'mesmer': 3757, 'sensat': 3758, 'vocal': 3759, 'chicken': 3760, 'bela': 3761, 'conneri': 3762, 'plight': 3763, 'passeng': 3764, 'tiresom': 3765, 'cleverli': 3766, 'graham': 3767, 'orang': 3768, 'raymond': 3769, 'poem': 3770, 'rubi': 3771, 'gambl': 3772, 'uplift': 3773, 'duval': 3774, 'closest': 3775, 'dixon': 3776, 'virginia': 3777, 'franki': 3778, 'employe': 3779, 'marti': 3780, 'maid': 3781, 'inject': 3782, 'whine': 3783, 'profan': 3784, 'iran': 3785, 'convincingli': 3786, 'calm': 3787, 'climact': 3788, 'abraham': 3789, 'gerard': 3790, 'suffic': 3791, 'outing': 3792, 'giggl': 3793, 'swallow': 3794, 'volum': 3795, 'crystal': 3796, 'pokemon': 3797, 'yawn': 3798, 'habit': 3799, '1968': 3800, 'amitabh': 3801, 'tube': 3802, 'engross': 3803, 'mute': 3804, 'monologu': 3805, 'extens': 3806, 'numb': 3807, 'paranoia': 3808, 'clone': 3809, 'bay': 3810, 'sirk': 3811, 'secretli': 3812, 'quarter': 3813, 'scottish': 3814, 'lundgren': 3815, 'profess': 3816, 'surpass': 3817, 'bend': 3818, 'im': 3819, 'meander': 3820, 'chicago': 3821, 'septemb': 3822, 'abort': 3823, 'grotesqu': 3824, 'linger': 3825, 'plod': 3826, 'ethan': 3827, 'richardson': 3828, 'austen': 3829, 'lowest': 3830, 'taxi': 3831, 'frankenstein': 3832, 'dispos': 3833, 'franci': 3834, 'expand': 3835, 'trend': 3836, 'junior': 3837, 'fed': 3838, 'nichola': 3839, 'poetri': 3840, 'backward': 3841, 'underst': 3842, 'spock': 3843, 'earl': 3844, 'econom': 3845, 'literatur': 3846, 'catchi': 3847, 'simplic': 3848, 'compliment': 3849, 'waitress': 3850, 'myth': 3851, 'nostalgia': 3852, 'der': 3853, 'rubber': 3854, 'eugen': 3855, 'lure': 3856, 'greedi': 3857, 'cannon': 3858, 'dysfunct': 3859, 'descent': 3860, 'sue': 3861, 'tourist': 3862, 'hum': 3863, 'instrument': 3864, 'stallon': 3865, 'spoke': 3866, 'muddl': 3867, 'household': 3868, 'rant': 3869, 'mundan': 3870, 'recognis': 3871, 'firstli': 3872, 'june': 3873, 'crucial': 3874, 'molli': 3875, 'irrelev': 3876, 'coast': 3877, 'map': 3878, 'mortal': 3879, 'louis': 3880, 'flee': 3881, 'equival': 3882, 'stale': 3883, 'sissi': 3884, 'phoni': 3885, 'cent': 3886, 'lang': 3887, 'occupi': 3888, 'alongsid': 3889, 'randi': 3890, 'dement': 3891, 'eaten': 3892, 'hello': 3893, 'deaf': 3894, 'omen': 3895, 'bacal': 3896, 'insur': 3897, 'duck': 3898, 'carel': 3899, 'furi': 3900, 'mankind': 3901, 'recognit': 3902, 'damon': 3903, 'dictat': 3904, 'phantom': 3905, 'wisdom': 3906, 'newli': 3907, 'heel': 3908, 'freez': 3909, '1973': 3910, 'daisi': 3911, 'bump': 3912, 'likewis': 3913, 'bike': 3914, 'dreari': 3915, 'blackmail': 3916, 'lengthi': 3917, 'rude': 3918, 'onlin': 3919, 'drake': 3920, 'ashley': 3921, 'twilight': 3922, 'grayson': 3923, 'damm': 3924, 'distinguish': 3925, 'buffalo': 3926, 'rooney': 3927, 'reign': 3928, 'loyalti': 3929, 'cyborg': 3930, 'labor': 3931, 'antwon': 3932, 'biko': 3933, 'startl': 3934, 'approv': 3935, 'vein': 3936, 'analysi': 3937, 'tunnel': 3938, 'baddi': 3939, 'nineti': 3940, 'chronicl': 3941, 'interior': 3942, 'incorpor': 3943, 'butler': 3944, 'pink': 3945, 'worn': 3946, 'attribut': 3947, 'inher': 3948, 'provoc': 3949, 'proce': 3950, 'basketbal': 3951, 'boxer': 3952, 'barrymor': 3953, 'exposur': 3954, 'ridden': 3955, 'unorigin': 3956, 'emphas': 3957, 'sailor': 3958, 'prey': 3959, 'keith': 3960, 'nicol': 3961, 'mormon': 3962, 'meg': 3963, 'robbin': 3964, 'degrad': 3965, 'undeni': 3966, 'barrel': 3967, 'er': 3968, 'improvis': 3969, 'unrel': 3970, 'underli': 3971, 'mighti': 3972, 'stalker': 3973, 'elm': 3974, 'julian': 3975, 'othello': 3976, 'substitut': 3977, 'condemn': 3978, 'fleet': 3979, 'bunni': 3980, 'carla': 3981, 'millionair': 3982, 'drift': 3983, 'simmon': 3984, 'meyer': 3985, 'indiffer': 3986, 'belushi': 3987, 'predat': 3988, 'walsh': 3989, 'hypnot': 3990, 'exquisit': 3991, 'edgi': 3992, 'unawar': 3993, 'alarm': 3994, 'disord': 3995, 'reid': 3996, 'shove': 3997, 'mtv': 3998, 'priceless': 3999, 'firm': 4000, 'roof': 4001, 'vital': 4002, 'agenda': 4003, 'lampoon': 4004, 'greed': 4005, 'watson': 4006, 'alison': 4007, 'rukh': 4008, 'nyc': 4009, '3d': 4010, 'palac': 4011, 'warmth': 4012, 'novak': 4013, 'errol': 4014, 'dolph': 4015, 'hay': 4016, 'marion': 4017, 'enthusiasm': 4018, 'distort': 4019, 'coup': 4020, 'orlean': 4021, 'showdown': 4022, 'angela': 4023, 'valentin': 4024, 'petti': 4025, 'preserv': 4026, 'testament': 4027, 'drip': 4028, 'gestur': 4029, 'profit': 4030, 'crown': 4031, 'glanc': 4032, 'what': 4033, 'unleash': 4034, 'randomli': 4035, 'spain': 4036, 'peril': 4037, 'campaign': 4038, 'peck': 4039, 'minimum': 4040, '1933': 4041, 'israel': 4042, 'session': 4043, 'ponder': 4044, '13th': 4045, 'thompson': 4046, 'simultan': 4047, 'cassidi': 4048, 'pamela': 4049, 'nun': 4050, 'championship': 4051, 'iraq': 4052, 'sergeant': 4053, 'zizek': 4054, 'eastern': 4055, 'beatl': 4056, 'bro': 4057, 'exposit': 4058, 'brenda': 4059, 'unimagin': 4060, 'scotland': 4061, 'rout': 4062, 'quinn': 4063, 'calib': 4064, '1984': 4065, 'wig': 4066, 'sabrina': 4067, 'contradict': 4068, 'restrain': 4069, 'reson': 4070, 'regist': 4071, 'cooki': 4072, 'din': 4073, 'buster': 4074, 'crow': 4075, 'miyazaki': 4076, 'perpetu': 4077, 'gentleman': 4078, 'shootout': 4079, 'han': 4080, 'represent': 4081, 'cream': 4082, 'jan': 4083, 'kurosawa': 4084, 'empathi': 4085, 'stroke': 4086, 'realm': 4087, 'travesti': 4088, 'valley': 4089, 'crawl': 4090, 'stake': 4091, 'climat': 4092, 'mon': 4093, 'fido': 4094, 'distress': 4095, 'passabl': 4096, 'shoddi': 4097, 'wax': 4098, 'absent': 4099, 'mclaglen': 4100, '1997': 4101, 'abomin': 4102, 'geek': 4103, 'perceiv': 4104, 'crawford': 4105, 'traumat': 4106, 'businessman': 4107, 'meryl': 4108, 'monoton': 4109, 'greg': 4110, 'delic': 4111, 'cloud': 4112, 'ustinov': 4113, 'darren': 4114, 'derang': 4115, 'painter': 4116, 'baldwin': 4117, 'unsatisfi': 4118, 'femm': 4119, 'shaki': 4120, 'fuller': 4121, 'tacki': 4122, 'compromis': 4123, 'demis': 4124, 'ross': 4125, 'spacey': 4126, 'stargat': 4127, 'pretens': 4128, 'josh': 4129, 'unseen': 4130, 'sammi': 4131, 'censor': 4132, 'warrant': 4133, 'pole': 4134, '1987': 4135, 'sucker': 4136, 'soderbergh': 4137, 'dana': 4138, 'verbal': 4139, 'exclus': 4140, 'tarantino': 4141, 'antonioni': 4142, 'correctli': 4143, 'fog': 4144, 'furiou': 4145, 'seal': 4146, 'click': 4147, '1993': 4148, 'accuraci': 4149, 'judgment': 4150, 'valid': 4151, 'deniro': 4152, 'uncov': 4153, 'unravel': 4154, 'norm': 4155, 'clash': 4156, 'expedit': 4157, 'jewel': 4158, 'polici': 4159, 'primit': 4160, 'anchor': 4161, 'nathan': 4162, 'deceas': 4163, 'reluct': 4164, 'dee': 4165, 'tech': 4166, 'kumar': 4167, 'austin': 4168, 'wholli': 4169, 'sid': 4170, 'fenc': 4171, 'darn': 4172, 'seldom': 4173, 'crippl': 4174, 'ritual': 4175, 'clerk': 4176, 'sunni': 4177, 'unfair': 4178, 'hallucin': 4179, 'sustain': 4180, 'fought': 4181, 'enforc': 4182, 'tax': 4183, 'patienc': 4184, 'conduct': 4185, 'bake': 4186, 'pocket': 4187, '1995': 4188, 'nicola': 4189, 'sand': 4190, 'behold': 4191, 'slam': 4192, 'sheet': 4193, 'fart': 4194, 'dreck': 4195, '3000': 4196, 'joel': 4197, '1971': 4198, 'temper': 4199, 'logan': 4200, 'roller': 4201, 'shanghai': 4202, 'malon': 4203, 'debt': 4204, 'trait': 4205, '2008': 4206, 'alec': 4207, 'fabric': 4208, 'wretch': 4209, 'wang': 4210, 'murray': 4211, 'mode': 4212, 'vanc': 4213, 'squad': 4214, 'bridget': 4215, 'sweep': 4216, 'isabel': 4217, 'scriptwrit': 4218, 'canyon': 4219, 'phil': 4220, 'tactic': 4221, 'guitar': 4222, 'pete': 4223, 'robber': 4224, 'grief': 4225, 'preposter': 4226, 'fundament': 4227, 'runner': 4228, 'shell': 4229, 'helpless': 4230, 'exhaust': 4231, 'technicolor': 4232, 'bias': 4233, 'stuart': 4234, 'clau': 4235, 'conscious': 4236, 'soup': 4237, 'despis': 4238, 'outlin': 4239, 'penni': 4240, 'stark': 4241, 'legaci': 4242, 'divid': 4243, 'schedul': 4244, 'critiqu': 4245, 'rita': 4246, 'preston': 4247, 'propos': 4248, 'drove': 4249, 'culmin': 4250, 'passag': 4251, 'russia': 4252, 'invad': 4253, 'vomit': 4254, 'consciou': 4255, 'connor': 4256, 'cigarett': 4257, 'sugar': 4258, 'jacket': 4259, 'newman': 4260, 'unexpectedli': 4261, 'lacklust': 4262, 'agenc': 4263, 'liberti': 4264, 'alley': 4265, 'restrict': 4266, 'rear': 4267, 'downey': 4268, 'inabl': 4269, 'implic': 4270, 'sentinel': 4271, 'marc': 4272, 'bloom': 4273, 'palanc': 4274, 'delv': 4275, 'gregori': 4276, 'rehash': 4277, 'sniper': 4278, 'jodi': 4279, 'boyl': 4280, 'flair': 4281, 'kansa': 4282, 'alicia': 4283, 'tripe': 4284, 'improb': 4285, 'delet': 4286, 'behaviour': 4287, 'cap': 4288, 'feat': 4289, 'rehears': 4290, 'rampag': 4291, 'yeti': 4292, 'vet': 4293, 'karl': 4294, 'ladder': 4295, 'asylum': 4296, 'tendenc': 4297, 'kolchak': 4298, 'awhil': 4299, '1936': 4300, 'bacon': 4301, 'pale': 4302, 'horn': 4303, 'arrow': 4304, '22': 4305, 'aesthet': 4306, 'mccoy': 4307, 'wrench': 4308, 'lush': 4309, 'rod': 4310, 'sharon': 4311, 'foxx': 4312, 'chainsaw': 4313, 'newcom': 4314, 'hackney': 4315, 'rumor': 4316, 'conscienc': 4317, 'loneli': 4318, 'elit': 4319, 'amazon': 4320, 'filler': 4321, 'wagner': 4322, 'thunderbird': 4323, 'hulk': 4324, 'suffici': 4325, 'aristocrat': 4326, 'spice': 4327, 'paramount': 4328, 'hungri': 4329, 'suspicion': 4330, 'wildli': 4331, 'rhythm': 4332, 'scoop': 4333, 'paradis': 4334, 'lurk': 4335, 'tasteless': 4336, 'prank': 4337, 'fright': 4338, 'financ': 4339, 'shortcom': 4340, 'underneath': 4341, 'tomorrow': 4342, '1978': 4343, 'sung': 4344, 'el': 4345, 'weav': 4346, '1920': 4347, 'globe': 4348, 'visitor': 4349, 'minu': 4350, 'coaster': 4351, 'stream': 4352, 'basing': 4353, '19th': 4354, '1988': 4355, 'chavez': 4356, 'abrupt': 4357, 'dirt': 4358, 'entranc': 4359, 'immers': 4360, 'lectur': 4361, 'literari': 4362, 'minist': 4363, 'bread': 4364, 'beverli': 4365, 'atroc': 4366, 'paxton': 4367, 'ram': 4368, 'heist': 4369, 'choppi': 4370, 'worship': 4371, 'hopkin': 4372, 'naughti': 4373, 'posey': 4374, 'en': 4375, '1939': 4376, 'quietli': 4377, 'leigh': 4378, 'brit': 4379, 'counterpart': 4380, 'springer': 4381, 'smell': 4382, 'couch': 4383, '1989': 4384, 'teas': 4385, 'inmat': 4386, '75': 4387, 'standout': 4388, 'straightforward': 4389, 'ingeni': 4390, 'rub': 4391, 'cancer': 4392, 'wwe': 4393, 'recogniz': 4394, 'secondari': 4395, 'impos': 4396, 'chamberlain': 4397, 'curli': 4398, 'penn': 4399, 'grudg': 4400, 'tierney': 4401, 'iv': 4402, 'skeptic': 4403, 'attenborough': 4404, 'duel': 4405, 'cattl': 4406, 'entitl': 4407, 'enthral': 4408, 'heartfelt': 4409, '1986': 4410, 'bernard': 4411, 'ace': 4412, 'yearn': 4413, 'nolan': 4414, 'sublim': 4415, 'missil': 4416, 'quaid': 4417, 'transcend': 4418, 'convert': 4419, 'injuri': 4420, 'esther': 4421, 'moreov': 4422, 'variat': 4423, 'watcher': 4424, 'nemesi': 4425, 'laurenc': 4426, 'lindsay': 4427, 'net': 4428, 'sassi': 4429, 'misguid': 4430, 'policeman': 4431, 'clan': 4432, 'ratso': 4433, 'morbid': 4434, 'geni': 4435, 'grin': 4436, 'puppi': 4437, 'bean': 4438, 'characteris': 4439, 'unexplain': 4440, 'kidman': 4441, 'tyler': 4442, 'diari': 4443, 'artsi': 4444, 'dont': 4445, 'enabl': 4446, 'youngest': 4447, 'brood': 4448, 'reliabl': 4449, 'steadi': 4450, 'spiral': 4451, 'facil': 4452, 'cruelti': 4453, 'buzz': 4454, 'kitti': 4455, 'moder': 4456, 'hopelessli': 4457, 'out': 4458, 'vader': 4459, 'egg': 4460, 'rosemari': 4461, 'graini': 4462, 'bye': 4463, '1979': 4464, 'uncut': 4465, 'mytholog': 4466, 'obstacl': 4467, 'setup': 4468, 'hk': 4469, 'poe': 4470, 'carlito': 4471, 'martha': 4472, 'spontan': 4473, 'preming': 4474, 'underworld': 4475, 'decept': 4476, 'gillian': 4477, 'baffl': 4478, 'niec': 4479, 'hain': 4480, 'bronson': 4481, 'hammi': 4482, 'bewar': 4483, 'clueless': 4484, 'despic': 4485, 'fuel': 4486, 'gina': 4487, 'disastr': 4488, 'weather': 4489, 'acquaint': 4490, 'heap': 4491, 'narrow': 4492, 'oblig': 4493, 'sweat': 4494, '1969': 4495, 'athlet': 4496, 'effici': 4497, 'kline': 4498, 'bounc': 4499, 'patricia': 4500, 'christin': 4501, 'brendan': 4502, 'exterior': 4503, 'mayhem': 4504, 'fontain': 4505, 'shatter': 4506, 'rome': 4507, 'sleepwalk': 4508, 'analyz': 4509, 'taboo': 4510, 'harmless': 4511, 'circu': 4512, 'tick': 4513, 'goof': 4514, 'sooner': 4515, 'injur': 4516, '19': 4517, 'biker': 4518, 'housewif': 4519, 'enlist': 4520, 'candl': 4521, 'headach': 4522, 'hepburn': 4523, 'suprem': 4524, 'dilemma': 4525, 'trigger': 4526, 'preachi': 4527, 'mermaid': 4528, 'insipid': 4529, 'viewpoint': 4530, 'loi': 4531, 'astound': 4532, 'dandi': 4533, 'scar': 4534, '73': 4535, 'virtu': 4536, 'angst': 4537, 'uh': 4538, 'loath': 4539, 'outlaw': 4540, 'renaiss': 4541, 'lester': 4542, 'spade': 4543, 'idol': 4544, 'whore': 4545, 'amor': 4546, 'dish': 4547, 'intric': 4548, 'contempt': 4549, 'oldest': 4550, 'hostag': 4551, 'filth': 4552, 'zoom': 4553, 'overlong': 4554, 'claustrophob': 4555, 'slimi': 4556, 'hokey': 4557, 'sox': 4558, 'gere': 4559, 'camcord': 4560, 'phenomenon': 4561, 'macho': 4562, 'steer': 4563, 'stair': 4564, 'bent': 4565, 'immatur': 4566, 'stimul': 4567, 'ebert': 4568, 'boston': 4569, 'hooker': 4570, 'surgeri': 4571, 'tripl': 4572, 'glorifi': 4573, 'redund': 4574, 'cassavet': 4575, 'foolish': 4576, 'fluff': 4577, 'dismal': 4578, 'scorses': 4579, 'guin': 4580, 'corbett': 4581, 'salt': 4582, 'ariel': 4583, 'keen': 4584, 'antagonist': 4585, 'shield': 4586, 'preced': 4587, 'cush': 4588, 'margin': 4589, 'strongest': 4590, 'flag': 4591, 'shred': 4592, 'down': 4593, 'perman': 4594, 'nolt': 4595, 'cow': 4596, 'zane': 4597, 'flashi': 4598, 'widescreen': 4599, 'dwarf': 4600, 'spinal': 4601, 'rhyme': 4602, 'astronaut': 4603, 'radiat': 4604, 'muscl': 4605, 'gasp': 4606, 'flirt': 4607, 'conquer': 4608, 'transplant': 4609, 'schlock': 4610, 'remad': 4611, 'beard': 4612, 'gabl': 4613, 'harold': 4614, 'corman': 4615, '1976': 4616, 'frantic': 4617, 'proport': 4618, 'fascist': 4619, 'trivia': 4620, 'spree': 4621, 'messi': 4622, 'mount': 4623, 'assert': 4624, 'joker': 4625, 'obligatori': 4626, 'mutual': 4627, 'faint': 4628, '1981': 4629, 'naschi': 4630, 'cohen': 4631, 'alvin': 4632, 'instruct': 4633, '28': 4634, 'ritchi': 4635, 'discern': 4636, 'scandal': 4637, 'departur': 4638, 'carey': 4639, 'archiv': 4640, 'neurot': 4641, 'claud': 4642, 'deer': 4643, 'interestingli': 4644, 'brush': 4645, 'info': 4646, 'www': 4647, 'wield': 4648, 'boob': 4649, 'fishburn': 4650, 'off': 4651, '1945': 4652, 'flock': 4653, 'vaniti': 4654, 'mobil': 4655, 'resum': 4656, 'divin': 4657, 'inflict': 4658, 'hara': 4659, 'sensual': 4660, 'repris': 4661, 'triangl': 4662, 'raj': 4663, 'strive': 4664, 'bitten': 4665, 'barn': 4666, 'bachelor': 4667, 'danish': 4668, 'persuad': 4669, '95': 4670, 'someday': 4671, 'mol': 4672, 'aborigin': 4673, 'timberlak': 4674, 'dim': 4675, 'pixar': 4676, 'cb': 4677, 'banter': 4678, 'carlo': 4679, 'undermin': 4680, 'miracul': 4681, 'clad': 4682, 'fragil': 4683, 'rot': 4684, 'vibrant': 4685, 'submit': 4686, 'helm': 4687, 'melissa': 4688, 'recit': 4689, 'traffic': 4690, 'cliffhang': 4691, 'casino': 4692, 'harrison': 4693, 'artwork': 4694, 'cycl': 4695, 'hug': 4696, 'axe': 4697, 'kathryn': 4698, 'hapless': 4699, 'heartwarm': 4700, 'mobster': 4701, 'anton': 4702, 'ish': 4703, 'dame': 4704, 'prophet': 4705, 'biblic': 4706, 'colin': 4707, 'earnest': 4708, 'dylan': 4709, 'pacif': 4710, 'hilar': 4711, 'senior': 4712, 'europa': 4713, 'frontier': 4714, 'luka': 4715, 'parson': 4716, 'proclaim': 4717, 'cher': 4718, 'pickford': 4719, 'neill': 4720, 'loretta': 4721, 'jade': 4722, 'wendigo': 4723, 'bate': 4724, 'jordan': 4725, 'aris': 4726, 'articl': 4727, 'blatantli': 4728, 'toronto': 4729, 'mason': 4730, 'wardrob': 4731, 'holocaust': 4732, 'antholog': 4733, 'illus': 4734, 'vile': 4735, 'flavor': 4736, 'misfortun': 4737, 'jo': 4738, 'feast': 4739, 'http': 4740, 'vanessa': 4741, 'pc': 4742, 'akin': 4743, 'isra': 4744, 'razor': 4745, 'rooki': 4746, 'shepherd': 4747, 'bondag': 4748, 'foil': 4749, 'venom': 4750, 'orphan': 4751, 'sicken': 4752, 'trier': 4753, 'eli': 4754, 'northern': 4755, 'electron': 4756, 'winchest': 4757, 'legitim': 4758, 'marlon': 4759, 'uma': 4760, 'static': 4761, 'bikini': 4762, 'lucil': 4763, 'breakfast': 4764, 'alexandr': 4765, 'cerebr': 4766, 'token': 4767, 'milo': 4768, 'seedi': 4769, 'redneck': 4770, 'choke': 4771, 'lui': 4772, 'mathieu': 4773, 'nope': 4774, 'estrang': 4775, 'peer': 4776, 'tack': 4777, 'gilbert': 4778, 'glare': 4779, 'outdat': 4780, 'fifth': 4781, 'smack': 4782, 'psych': 4783, 'swept': 4784, 'linear': 4785, 'leather': 4786, 'feminin': 4787, 'clinic': 4788, 'gunga': 4789, 'audrey': 4790, 'ceremoni': 4791, 'huston': 4792, 'deem': 4793, 'abund': 4794, 'nightclub': 4795, 'ideolog': 4796, 'comprehend': 4797, 'wrestler': 4798, 'retriev': 4799, 'boyer': 4800, 'styliz': 4801, 'dudley': 4802, 'frog': 4803, 'magician': 4804, 'affleck': 4805, 'cartoonish': 4806, 'disregard': 4807, 'shorter': 4808, 'charlton': 4809, 'oppon': 4810, 'highway': 4811, 'howl': 4812, 'knightley': 4813, 'turd': 4814, 'snatch': 4815, 'summar': 4816, 'plate': 4817, 'einstein': 4818, 'deliver': 4819, 'btw': 4820, 'durat': 4821, 'client': 4822, 'spine': 4823, 'newer': 4824, 'phenomen': 4825, 'senat': 4826, 'breakdown': 4827, '1994': 4828, 'lighter': 4829, 'chip': 4830, 'bogu': 4831, 'energet': 4832, 'boo': 4833, 'cuban': 4834, 'sleaz': 4835, 'lavish': 4836, 'corn': 4837, 'evolut': 4838, 'collector': 4839, 'toe': 4840, '4th': 4841, 'bastard': 4842, 'braveheart': 4843, 'monument': 4844, 'lifeless': 4845, 'salman': 4846, 'whack': 4847, 'spawn': 4848, 'moe': 4849, 'cemeteri': 4850, '1991': 4851, 'greet': 4852, 'compris': 4853, 'tara': 4854, 'conrad': 4855, 'potter': 4856, 'uniformli': 4857, 'mitch': 4858, 'goldsworthi': 4859, 'spectacl': 4860, 'bori': 4861, 'inaccuraci': 4862, 'signal': 4863, 'creek': 4864, 'trauma': 4865, 'occup': 4866, 'neatli': 4867, 'outright': 4868, 'kazan': 4869, 'luxuri': 4870, 'appl': 4871, 'undead': 4872, 'jare': 4873, 'belli': 4874, 'pronounc': 4875, 'wtf': 4876, 'healthi': 4877, '1974': 4878, 'undertak': 4879, 'ie': 4880, 'constitut': 4881, 'randolph': 4882, 'nina': 4883, 'judd': 4884, 'capot': 4885, 'embark': 4886, 'kent': 4887, 'bulk': 4888, 'historian': 4889, 'replay': 4890, 'gilliam': 4891, 'fluid': 4892, 'sorrow': 4893, 'lex': 4894, '1977': 4895, 'firmli': 4896, 'eleven': 4897, 'jedi': 4898, 'liu': 4899, 'armstrong': 4900, 'mcqueen': 4901, 'clara': 4902, 'alleg': 4903, 'evelyn': 4904, 'cecil': 4905, 'jam': 4906, 'jule': 4907, 'ol': 4908, 'groan': 4909, 'propheci': 4910, 'spray': 4911, 'bsg': 4912, 'vignett': 4913, 'inaccur': 4914, 'roar': 4915, 'tokyo': 4916, 'genet': 4917, 'sacrif': 4918, 'abound': 4919, 'porter': 4920, 'truman': 4921, 'paula': 4922, 'meal': 4923, 'miniseri': 4924, 'comprehens': 4925, 'id': 4926, 'walt': 4927, 'lauren': 4928, 'vain': 4929, 'miami': 4930, 'pepper': 4931, 'unsuspect': 4932, 'kiddi': 4933, 'carmen': 4934, 'relentless': 4935, 'conan': 4936, 'congratul': 4937, 'poker': 4938, 'subtli': 4939, 'blur': 4940, 'galaxi': 4941, 'fruit': 4942, 'curtain': 4943, '1985': 4944, 'pioneer': 4945, 'knee': 4946, 'decapit': 4947, 'mum': 4948, 'cape': 4949, 'inclus': 4950, 'lanc': 4951, 'sidewalk': 4952, 'goldblum': 4953, 'bait': 4954, 'antonio': 4955, 'aussi': 4956, 'forgiven': 4957, 'palm': 4958, 'unattract': 4959, 'basket': 4960, 'ash': 4961, 'comb': 4962, 'rosario': 4963, 'asset': 4964, 'verg': 4965, 'sparkl': 4966, 'optimist': 4967, 'omin': 4968, 'orchestr': 4969, '21st': 4970, 'ingrid': 4971, 'macabr': 4972, 'weaker': 4973, 'modest': 4974, 'assort': 4975, 'hostil': 4976, 'hackman': 4977, 'substanti': 4978, 'weari': 4979, 'dubiou': 4980, 'motorcycl': 4981, 'detach': 4982, 'jill': 4983, 'spill': 4984, 'scarfac': 4985, 'sophi': 4986, 'reincarn': 4987, 'frontal': 4988, 'vastli': 4989, 'rapidli': 4990, 'monti': 4991, 'bach': 4992, 'scariest': 4993, 'evan': 4994, 'victorian': 4995, 'masterson': 4996, 'handicap': 4997, 'mice': 4998, 'profil': 4999}\n"
     ]
    }
   ],
   "source": [
    "print(word_dict)"
   ]
  },
  {
   "cell_type": "code",
   "execution_count": 103,
   "metadata": {
    "scrolled": true
   },
   "outputs": [
    {
     "name": "stdout",
     "output_type": "stream",
     "text": [
      "movi\n",
      "film\n",
      "one\n",
      "like\n",
      "time\n"
     ]
    }
   ],
   "source": [
    "# Determine the five most frequently appearing words in the training set.\n",
    "count = 0\n",
    "for word in word_dict:\n",
    "    print(word)\n",
    "    if count < 4:\n",
    "        count += 1\n",
    "    else:\n",
    "        break\n"
   ]
  },
  {
   "cell_type": "markdown",
   "metadata": {},
   "source": [
    "### Save `word_dict`\n",
    "\n",
    "Later on when we construct an endpoint which processes a submitted review we will need to make use of the `word_dict` which we have created. As such, we will save it to a file now for future use."
   ]
  },
  {
   "cell_type": "code",
   "execution_count": 104,
   "metadata": {},
   "outputs": [],
   "source": [
    "data_dir = '../data/pytorch' # The folder we will use for storing data\n",
    "if not os.path.exists(data_dir): # Make sure that the folder exists\n",
    "    os.makedirs(data_dir)"
   ]
  },
  {
   "cell_type": "code",
   "execution_count": 105,
   "metadata": {},
   "outputs": [],
   "source": [
    "with open(os.path.join(data_dir, 'word_dict.pkl'), \"wb\") as f:\n",
    "    pickle.dump(word_dict, f)"
   ]
  },
  {
   "cell_type": "markdown",
   "metadata": {},
   "source": [
    "### Transform the reviews\n",
    "\n",
    "Now that we have our word dictionary which allows us to transform the words appearing in the reviews into integers, it is time to make use of it and convert our reviews to their integer sequence representation, making sure to pad or truncate to a fixed length, which in our case is `500`."
   ]
  },
  {
   "cell_type": "code",
   "execution_count": 106,
   "metadata": {},
   "outputs": [],
   "source": [
    "def convert_and_pad(word_dict, sentence, pad=500):\n",
    "    NOWORD = 0 # We will use 0 to represent the 'no word' category\n",
    "    INFREQ = 1 # and we use 1 to represent the infrequent words, i.e., words not appearing in word_dict\n",
    "    \n",
    "    working_sentence = [NOWORD] * pad\n",
    "    \n",
    "    for word_index, word in enumerate(sentence[:pad]):\n",
    "        if word in word_dict:\n",
    "            working_sentence[word_index] = word_dict[word]\n",
    "        else:\n",
    "            working_sentence[word_index] = INFREQ\n",
    "            \n",
    "    return working_sentence, min(len(sentence), pad)\n",
    "\n",
    "def convert_and_pad_data(word_dict, data, pad=500):\n",
    "    result = []\n",
    "    lengths = []\n",
    "    \n",
    "    for sentence in data:\n",
    "        converted, leng = convert_and_pad(word_dict, sentence, pad)\n",
    "        result.append(converted)\n",
    "        lengths.append(leng)\n",
    "        \n",
    "    return np.array(result), np.array(lengths)"
   ]
  },
  {
   "cell_type": "code",
   "execution_count": 107,
   "metadata": {},
   "outputs": [],
   "source": [
    "train_X, train_X_len = convert_and_pad_data(word_dict, train_X)\n",
    "test_X, test_X_len = convert_and_pad_data(word_dict, test_X)"
   ]
  },
  {
   "cell_type": "markdown",
   "metadata": {},
   "source": [
    "As a quick check to make sure that things are working as intended, check to see what one of the reviews in the training set looks like after having been processeed. "
   ]
  },
  {
   "cell_type": "code",
   "execution_count": 108,
   "metadata": {
    "scrolled": true
   },
   "outputs": [
    {
     "name": "stdout",
     "output_type": "stream",
     "text": [
      "Total number of processed reviews in the training dataset = 500\n",
      "\n",
      "Processed review info of one element in the training dataset\n",
      "\n",
      "[   3 3058  424  212  168  114  373 3447  200  852  114 1426  332   52\n",
      " 1198  433    1    6  848  662    2    0    0    0    0    0    0    0\n",
      "    0    0    0    0    0    0    0    0    0    0    0    0    0    0\n",
      "    0    0    0    0    0    0    0    0    0    0    0    0    0    0\n",
      "    0    0    0    0    0    0    0    0    0    0    0    0    0    0\n",
      "    0    0    0    0    0    0    0    0    0    0    0    0    0    0\n",
      "    0    0    0    0    0    0    0    0    0    0    0    0    0    0\n",
      "    0    0    0    0    0    0    0    0    0    0    0    0    0    0\n",
      "    0    0    0    0    0    0    0    0    0    0    0    0    0    0\n",
      "    0    0    0    0    0    0    0    0    0    0    0    0    0    0\n",
      "    0    0    0    0    0    0    0    0    0    0    0    0    0    0\n",
      "    0    0    0    0    0    0    0    0    0    0    0    0    0    0\n",
      "    0    0    0    0    0    0    0    0    0    0    0    0    0    0\n",
      "    0    0    0    0    0    0    0    0    0    0    0    0    0    0\n",
      "    0    0    0    0    0    0    0    0    0    0    0    0    0    0\n",
      "    0    0    0    0    0    0    0    0    0    0    0    0    0    0\n",
      "    0    0    0    0    0    0    0    0    0    0    0    0    0    0\n",
      "    0    0    0    0    0    0    0    0    0    0    0    0    0    0\n",
      "    0    0    0    0    0    0    0    0    0    0    0    0    0    0\n",
      "    0    0    0    0    0    0    0    0    0    0    0    0    0    0\n",
      "    0    0    0    0    0    0    0    0    0    0    0    0    0    0\n",
      "    0    0    0    0    0    0    0    0    0    0    0    0    0    0\n",
      "    0    0    0    0    0    0    0    0    0    0    0    0    0    0\n",
      "    0    0    0    0    0    0    0    0    0    0    0    0    0    0\n",
      "    0    0    0    0    0    0    0    0    0    0    0    0    0    0\n",
      "    0    0    0    0    0    0    0    0    0    0    0    0    0    0\n",
      "    0    0    0    0    0    0    0    0    0    0    0    0    0    0\n",
      "    0    0    0    0    0    0    0    0    0    0    0    0    0    0\n",
      "    0    0    0    0    0    0    0    0    0    0    0    0    0    0\n",
      "    0    0    0    0    0    0    0    0    0    0    0    0    0    0\n",
      "    0    0    0    0    0    0    0    0    0    0    0    0    0    0\n",
      "    0    0    0    0    0    0    0    0    0    0    0    0    0    0\n",
      "    0    0    0    0    0    0    0    0    0    0    0    0    0    0\n",
      "    0    0    0    0    0    0    0    0    0    0    0    0    0    0\n",
      "    0    0    0    0    0    0    0    0    0    0    0    0    0    0\n",
      "    0    0    0    0    0    0    0    0    0    0]\n"
     ]
    }
   ],
   "source": [
    "# examining one of the processed reviews to make sure everything is working as intended.\n",
    "print(\"Total number of processed reviews in the training dataset = {}\".format(len(train_X[100])))\n",
    "print(\"\\nProcessed review info of one element in the training dataset\\n\\n{}\".format(train_X[100]))"
   ]
  },
  {
   "cell_type": "markdown",
   "metadata": {},
   "source": [
    "## Step 3: Upload the data to S3\n",
    "\n",
    "Upload the training dataset to S3 in order for our training code to access it. For now we will save it locally and we will upload to S3 later on.\n",
    "\n",
    "### Save the processed training dataset locally\n",
    "\n",
    "It is important to note the format of the data that we are saving as we will need to know it when we write the training code. In our case, each row of the dataset has the form `label`, `length`, `review[500]` where `review[500]` is a sequence of `500` integers representing the words in the review."
   ]
  },
  {
   "cell_type": "code",
   "execution_count": 75,
   "metadata": {},
   "outputs": [],
   "source": [
    "import pandas as pd\n",
    "    \n",
    "pd.concat([pd.DataFrame(train_y), pd.DataFrame(train_X_len), pd.DataFrame(train_X)], axis=1) \\\n",
    "        .to_csv(os.path.join(data_dir, 'train.csv'), header=False, index=False)"
   ]
  },
  {
   "cell_type": "markdown",
   "metadata": {},
   "source": [
    "### Uploading the training data\n",
    "\n",
    "\n",
    "Next, we need to upload the training data to the SageMaker default S3 bucket so that we can provide access to it while training our model."
   ]
  },
  {
   "cell_type": "code",
   "execution_count": 109,
   "metadata": {},
   "outputs": [
    {
     "data": {
      "text/plain": [
       "'2.45.0'"
      ]
     },
     "execution_count": 109,
     "metadata": {},
     "output_type": "execute_result"
    }
   ],
   "source": [
    "import sagemaker, boto3\n",
    "\n",
    "sagemaker_session = sagemaker.Session()\n",
    "my_region = boto3.session.Session().region_name # set the region of the instance\n",
    "bucket = sagemaker_session.default_bucket()\n",
    "prefix = 'sagemaker/sentiment_rnn'\n",
    "role = sagemaker.get_execution_role()\n",
    "my_region\n",
    "sagemaker.__version__"
   ]
  },
  {
   "cell_type": "code",
   "execution_count": 110,
   "metadata": {},
   "outputs": [],
   "source": [
    "input_data = sagemaker_session.upload_data(path=data_dir, bucket=bucket, key_prefix=prefix)"
   ]
  },
  {
   "cell_type": "markdown",
   "metadata": {},
   "source": [
    "**NOTE:** The cell above uploads the entire contents of our data directory. This includes the `word_dict.pkl` file. This is fortunate as we will need this later on when we create an endpoint that accepts an arbitrary review. For now, we will just take note of the fact that it resides in the data directory (and so also in the S3 training bucket) and that we will need to make sure it gets saved in the model directory."
   ]
  },
  {
   "cell_type": "markdown",
   "metadata": {},
   "source": [
    "### Step 4: Build and Train the PyTorch Model\n",
    "\n",
    "A model comprises three objects\n",
    "\n",
    " - Model Artifacts,\n",
    " - Training Code, and\n",
    " - Inference Code,\n",
    " \n",
    "each of which interact with one another. Here we will still be using containers provided by Amazon with the added benefit of being able to include our own custom code.\n",
    "\n",
    "We will start by implementing our own neural network in PyTorch along with a training script (train/model.py)."
   ]
  },
  {
   "cell_type": "code",
   "execution_count": 23,
   "metadata": {
    "scrolled": false
   },
   "outputs": [
    {
     "name": "stdout",
     "output_type": "stream",
     "text": [
      "\u001b[34mimport\u001b[39;49;00m \u001b[04m\u001b[36mtorch\u001b[39;49;00m\u001b[04m\u001b[36m.\u001b[39;49;00m\u001b[04m\u001b[36mnn\u001b[39;49;00m \u001b[34mas\u001b[39;49;00m \u001b[04m\u001b[36mnn\u001b[39;49;00m\r\n",
      "\r\n",
      "\u001b[34mclass\u001b[39;49;00m \u001b[04m\u001b[32mLSTMClassifier\u001b[39;49;00m(nn.Module):\r\n",
      "    \u001b[33m\"\"\"\u001b[39;49;00m\r\n",
      "\u001b[33m    This is the simple RNN model we will be using to perform Sentiment Analysis.\u001b[39;49;00m\r\n",
      "\u001b[33m    \"\"\"\u001b[39;49;00m\r\n",
      "\r\n",
      "    \u001b[34mdef\u001b[39;49;00m \u001b[32m__init__\u001b[39;49;00m(\u001b[36mself\u001b[39;49;00m, embedding_dim, hidden_dim, vocab_size):\r\n",
      "        \u001b[33m\"\"\"\u001b[39;49;00m\r\n",
      "\u001b[33m        Initialize the model by settingg up the various layers.\u001b[39;49;00m\r\n",
      "\u001b[33m        \"\"\"\u001b[39;49;00m\r\n",
      "        \u001b[36msuper\u001b[39;49;00m(LSTMClassifier, \u001b[36mself\u001b[39;49;00m).\u001b[32m__init__\u001b[39;49;00m()\r\n",
      "\r\n",
      "        \u001b[36mself\u001b[39;49;00m.embedding = nn.Embedding(vocab_size, embedding_dim, padding_idx=\u001b[34m0\u001b[39;49;00m)\r\n",
      "        \u001b[36mself\u001b[39;49;00m.lstm = nn.LSTM(embedding_dim, hidden_dim)\r\n",
      "        \u001b[36mself\u001b[39;49;00m.dense = nn.Linear(in_features=hidden_dim, out_features=\u001b[34m1\u001b[39;49;00m)\r\n",
      "        \u001b[36mself\u001b[39;49;00m.sig = nn.Sigmoid()\r\n",
      "        \r\n",
      "        \u001b[36mself\u001b[39;49;00m.word_dict = \u001b[34mNone\u001b[39;49;00m\r\n",
      "\r\n",
      "    \u001b[34mdef\u001b[39;49;00m \u001b[32mforward\u001b[39;49;00m(\u001b[36mself\u001b[39;49;00m, x):\r\n",
      "        \u001b[33m\"\"\"\u001b[39;49;00m\r\n",
      "\u001b[33m        Perform a forward pass of our model on some input.\u001b[39;49;00m\r\n",
      "\u001b[33m        \"\"\"\u001b[39;49;00m\r\n",
      "        x = x.t()\r\n",
      "        lengths = x[\u001b[34m0\u001b[39;49;00m,:]\r\n",
      "        reviews = x[\u001b[34m1\u001b[39;49;00m:,:]\r\n",
      "        embeds = \u001b[36mself\u001b[39;49;00m.embedding(reviews)\r\n",
      "        lstm_out, _ = \u001b[36mself\u001b[39;49;00m.lstm(embeds)\r\n",
      "        out = \u001b[36mself\u001b[39;49;00m.dense(lstm_out)\r\n",
      "        out = out[lengths - \u001b[34m1\u001b[39;49;00m, \u001b[36mrange\u001b[39;49;00m(\u001b[36mlen\u001b[39;49;00m(lengths))]\r\n",
      "        \u001b[34mreturn\u001b[39;49;00m \u001b[36mself\u001b[39;49;00m.sig(out.squeeze())\r\n"
     ]
    }
   ],
   "source": [
    "!pygmentize train/model.py"
   ]
  },
  {
   "cell_type": "code",
   "execution_count": 78,
   "metadata": {},
   "outputs": [],
   "source": [
    "import torch\n",
    "import torch.utils.data\n",
    "# Read in only the first 250 rows\n",
    "train_sample = pd.read_csv(os.path.join(data_dir, 'train.csv'), header=None, names=None, nrows=250)\n",
    "\n",
    "# Turn the input pandas dataframe into tensors\n",
    "train_sample_y = torch.from_numpy(train_sample[[0]].values).float().squeeze()\n",
    "train_sample_X = torch.from_numpy(train_sample.drop([0], axis=1).values).long()\n",
    "\n",
    "# Build the dataset\n",
    "train_sample_ds = torch.utils.data.TensorDataset(train_sample_X, train_sample_y)\n",
    "# Build the dataloader\n",
    "train_sample_dl = torch.utils.data.DataLoader(train_sample_ds, batch_size=50)"
   ]
  },
  {
   "cell_type": "markdown",
   "metadata": {},
   "source": [
    "### Writing the training method\n",
    "\n",
    "Next we need to write the training code itself. For nowm we will not tackle aspects like model saving / loading and parameter loading, we'll get it to out it a little later."
   ]
  },
  {
   "cell_type": "code",
   "execution_count": 79,
   "metadata": {},
   "outputs": [],
   "source": [
    "def train(model, train_loader, epochs, optimizer, loss_fn, device):\n",
    "    for epoch in range(1, epochs + 1):\n",
    "        model.train()\n",
    "        total_loss = 0\n",
    "        for batch in train_loader:         \n",
    "            batch_X, batch_y = batch\n",
    "            \n",
    "            batch_X = batch_X.to(device)\n",
    "            batch_y = batch_y.to(device)\n",
    "            \n",
    "            # TODO: Complete this train method to train the model provided.\n",
    "            optimizer.zero_grad()\n",
    "            out = model.forward(batch_X)\n",
    "            loss = loss_fn(out, batch_y)\n",
    "            loss.backward()\n",
    "            optimizer.step()\n",
    "            \n",
    "            total_loss += loss.data.item()\n",
    "        print(\"Epoch: {}, BCELoss: {}\".format(epoch, total_loss / len(train_loader)))"
   ]
  },
  {
   "cell_type": "markdown",
   "metadata": {},
   "source": [
    "Supposing we have the training method above, we will test that it is working by writing a bit of code in the notebook that executes our training method on the small sample training set that we loaded earlier. The reason for doing this in the notebook is so that we have an opportunity to fix any errors that arise early when they are easier to diagnose."
   ]
  },
  {
   "cell_type": "code",
   "execution_count": 80,
   "metadata": {},
   "outputs": [
    {
     "name": "stdout",
     "output_type": "stream",
     "text": [
      "Epoch: 1, BCELoss: 0.693156611919403\n",
      "Epoch: 2, BCELoss: 0.6844824194908142\n",
      "Epoch: 3, BCELoss: 0.6770962595939636\n",
      "Epoch: 4, BCELoss: 0.6686334133148193\n",
      "Epoch: 5, BCELoss: 0.657835054397583\n"
     ]
    }
   ],
   "source": [
    "import torch.optim as optim\n",
    "from train.model import LSTMClassifier\n",
    "\n",
    "device = torch.device(\"cuda\" if torch.cuda.is_available() else \"cpu\")\n",
    "model = LSTMClassifier(32, 100, 5000).to(device)\n",
    "optimizer = optim.Adam(model.parameters())\n",
    "loss_fn = torch.nn.BCELoss()\n",
    "\n",
    "train(model, train_sample_dl, 5, optimizer, loss_fn, device)"
   ]
  },
  {
   "cell_type": "markdown",
   "metadata": {},
   "source": [
    "In order to construct a PyTorch model using SageMaker we must provide SageMaker with a training script. We may optionally include a directory which will be copied to the container and from which our training code will be run. When the training container is executed it will check the uploaded directory (if there is one) for a `requirements.txt` file and install any required Python libraries, after which the training script will be run."
   ]
  },
  {
   "cell_type": "markdown",
   "metadata": {},
   "source": [
    "### Training the model\n",
    "\n",
    "When a PyTorch model is constructed in SageMaker, an entry point must be specified. This is the Python file which will be executed when the model is trained. "
   ]
  },
  {
   "cell_type": "code",
   "execution_count": 81,
   "metadata": {},
   "outputs": [],
   "source": [
    "from sagemaker.pytorch import PyTorch\n",
    "\n",
    "estimator = PyTorch(entry_point=\"train.py\",\n",
    "                    source_dir=\"./train\",\n",
    "                    role=role,\n",
    "                    framework_version='1.6.0',\n",
    "                    py_version='py3',                    \n",
    "                    instance_count=1,\n",
    "                    instance_type='ml.p2.xlarge',\n",
    "                    hyperparameters={\n",
    "                        'epochs': 10,\n",
    "                        'hidden_dim': 200,\n",
    "                    })"
   ]
  },
  {
   "cell_type": "code",
   "execution_count": 82,
   "metadata": {
    "scrolled": true
   },
   "outputs": [
    {
     "name": "stdout",
     "output_type": "stream",
     "text": [
      "2021-08-10 19:16:06 Starting - Starting the training job...\n",
      "2021-08-10 19:16:31 Starting - Launching requested ML instancesProfilerReport-1628622965: InProgress\n",
      "......\n",
      "2021-08-10 19:17:31 Starting - Preparing the instances for training............\n",
      "2021-08-10 19:19:32 Downloading - Downloading input data...\n",
      "2021-08-10 19:19:57 Training - Downloading the training image.........\n",
      "2021-08-10 19:21:33 Training - Training image download completed. Training in progress..\u001b[34mbash: cannot set terminal process group (-1): Inappropriate ioctl for device\u001b[0m\n",
      "\u001b[34mbash: no job control in this shell\u001b[0m\n",
      "\u001b[34m2021-08-10 19:21:32,184 sagemaker-training-toolkit INFO     Imported framework sagemaker_pytorch_container.training\u001b[0m\n",
      "\u001b[34m2021-08-10 19:21:32,211 sagemaker_pytorch_container.training INFO     Block until all host DNS lookups succeed.\u001b[0m\n",
      "\u001b[34m2021-08-10 19:21:32,432 sagemaker_pytorch_container.training INFO     Invoking user training script.\u001b[0m\n",
      "\u001b[34m2021-08-10 19:21:32,883 sagemaker-training-toolkit INFO     Installing dependencies from requirements.txt:\u001b[0m\n",
      "\u001b[34m/opt/conda/bin/python3.6 -m pip install -r requirements.txt\u001b[0m\n",
      "\u001b[34mRequirement already satisfied: pandas in /opt/conda/lib/python3.6/site-packages (from -r requirements.txt (line 1)) (1.1.5)\u001b[0m\n",
      "\u001b[34mRequirement already satisfied: numpy in /opt/conda/lib/python3.6/site-packages (from -r requirements.txt (line 2)) (1.19.1)\u001b[0m\n",
      "\u001b[34mCollecting nltk\n",
      "  Downloading nltk-3.6.2-py3-none-any.whl (1.5 MB)\u001b[0m\n",
      "\u001b[34mRequirement already satisfied: beautifulsoup4 in /opt/conda/lib/python3.6/site-packages (from -r requirements.txt (line 4)) (4.9.3)\u001b[0m\n",
      "\u001b[34mCollecting html5lib\n",
      "  Downloading html5lib-1.1-py2.py3-none-any.whl (112 kB)\u001b[0m\n",
      "\u001b[34mRequirement already satisfied: soupsieve>1.2 in /opt/conda/lib/python3.6/site-packages (from beautifulsoup4->-r requirements.txt (line 4)) (2.2.1)\u001b[0m\n",
      "\u001b[34mRequirement already satisfied: six>=1.9 in /opt/conda/lib/python3.6/site-packages (from html5lib->-r requirements.txt (line 5)) (1.15.0)\u001b[0m\n",
      "\u001b[34mCollecting webencodings\n",
      "  Downloading webencodings-0.5.1-py2.py3-none-any.whl (11 kB)\u001b[0m\n",
      "\u001b[34mRequirement already satisfied: joblib in /opt/conda/lib/python3.6/site-packages (from nltk->-r requirements.txt (line 3)) (1.0.1)\u001b[0m\n",
      "\u001b[34mRequirement already satisfied: click in /opt/conda/lib/python3.6/site-packages (from nltk->-r requirements.txt (line 3)) (7.1.2)\u001b[0m\n",
      "\u001b[34mRequirement already satisfied: tqdm in /opt/conda/lib/python3.6/site-packages (from nltk->-r requirements.txt (line 3)) (4.51.0)\u001b[0m\n",
      "\u001b[34mCollecting regex\n",
      "  Downloading regex-2021.8.3-cp36-cp36m-manylinux_2_17_x86_64.manylinux2014_x86_64.whl (722 kB)\u001b[0m\n",
      "\u001b[34mRequirement already satisfied: python-dateutil>=2.7.3 in /opt/conda/lib/python3.6/site-packages (from pandas->-r requirements.txt (line 1)) (2.8.1)\u001b[0m\n",
      "\u001b[34mRequirement already satisfied: pytz>=2017.2 in /opt/conda/lib/python3.6/site-packages (from pandas->-r requirements.txt (line 1)) (2021.1)\u001b[0m\n",
      "\u001b[34mInstalling collected packages: webencodings, regex, nltk, html5lib\u001b[0m\n",
      "\u001b[34mSuccessfully installed html5lib-1.1 nltk-3.6.2 regex-2021.8.3 webencodings-0.5.1\u001b[0m\n",
      "\u001b[34m2021-08-10 19:21:37,407 sagemaker-training-toolkit INFO     Invoking user script\n",
      "\u001b[0m\n",
      "\u001b[34mTraining Env:\n",
      "\u001b[0m\n",
      "\u001b[34m{\n",
      "    \"additional_framework_parameters\": {},\n",
      "    \"channel_input_dirs\": {\n",
      "        \"training\": \"/opt/ml/input/data/training\"\n",
      "    },\n",
      "    \"current_host\": \"algo-1\",\n",
      "    \"framework_module\": \"sagemaker_pytorch_container.training:main\",\n",
      "    \"hosts\": [\n",
      "        \"algo-1\"\n",
      "    ],\n",
      "    \"hyperparameters\": {\n",
      "        \"hidden_dim\": 200,\n",
      "        \"epochs\": 10\n",
      "    },\n",
      "    \"input_config_dir\": \"/opt/ml/input/config\",\n",
      "    \"input_data_config\": {\n",
      "        \"training\": {\n",
      "            \"TrainingInputMode\": \"File\",\n",
      "            \"S3DistributionType\": \"FullyReplicated\",\n",
      "            \"RecordWrapperType\": \"None\"\n",
      "        }\n",
      "    },\n",
      "    \"input_dir\": \"/opt/ml/input\",\n",
      "    \"is_master\": true,\n",
      "    \"job_name\": \"pytorch-training-2021-08-10-19-16-05-718\",\n",
      "    \"log_level\": 20,\n",
      "    \"master_hostname\": \"algo-1\",\n",
      "    \"model_dir\": \"/opt/ml/model\",\n",
      "    \"module_dir\": \"s3://sagemaker-us-east-1-804604702169/pytorch-training-2021-08-10-19-16-05-718/source/sourcedir.tar.gz\",\n",
      "    \"module_name\": \"train\",\n",
      "    \"network_interface_name\": \"eth0\",\n",
      "    \"num_cpus\": 4,\n",
      "    \"num_gpus\": 1,\n",
      "    \"output_data_dir\": \"/opt/ml/output/data\",\n",
      "    \"output_dir\": \"/opt/ml/output\",\n",
      "    \"output_intermediate_dir\": \"/opt/ml/output/intermediate\",\n",
      "    \"resource_config\": {\n",
      "        \"current_host\": \"algo-1\",\n",
      "        \"hosts\": [\n",
      "            \"algo-1\"\n",
      "        ],\n",
      "        \"network_interface_name\": \"eth0\"\n",
      "    },\n",
      "    \"user_entry_point\": \"train.py\"\u001b[0m\n",
      "\u001b[34m}\n",
      "\u001b[0m\n",
      "\u001b[34mEnvironment variables:\n",
      "\u001b[0m\n",
      "\u001b[34mSM_HOSTS=[\"algo-1\"]\u001b[0m\n",
      "\u001b[34mSM_NETWORK_INTERFACE_NAME=eth0\u001b[0m\n",
      "\u001b[34mSM_HPS={\"epochs\":10,\"hidden_dim\":200}\u001b[0m\n",
      "\u001b[34mSM_USER_ENTRY_POINT=train.py\u001b[0m\n",
      "\u001b[34mSM_FRAMEWORK_PARAMS={}\u001b[0m\n",
      "\u001b[34mSM_RESOURCE_CONFIG={\"current_host\":\"algo-1\",\"hosts\":[\"algo-1\"],\"network_interface_name\":\"eth0\"}\u001b[0m\n",
      "\u001b[34mSM_INPUT_DATA_CONFIG={\"training\":{\"RecordWrapperType\":\"None\",\"S3DistributionType\":\"FullyReplicated\",\"TrainingInputMode\":\"File\"}}\u001b[0m\n",
      "\u001b[34mSM_OUTPUT_DATA_DIR=/opt/ml/output/data\u001b[0m\n",
      "\u001b[34mSM_CHANNELS=[\"training\"]\u001b[0m\n",
      "\u001b[34mSM_CURRENT_HOST=algo-1\u001b[0m\n",
      "\u001b[34mSM_MODULE_NAME=train\u001b[0m\n",
      "\u001b[34mSM_LOG_LEVEL=20\u001b[0m\n",
      "\u001b[34mSM_FRAMEWORK_MODULE=sagemaker_pytorch_container.training:main\u001b[0m\n",
      "\u001b[34mSM_INPUT_DIR=/opt/ml/input\u001b[0m\n",
      "\u001b[34mSM_INPUT_CONFIG_DIR=/opt/ml/input/config\u001b[0m\n",
      "\u001b[34mSM_OUTPUT_DIR=/opt/ml/output\u001b[0m\n",
      "\u001b[34mSM_NUM_CPUS=4\u001b[0m\n",
      "\u001b[34mSM_NUM_GPUS=1\u001b[0m\n",
      "\u001b[34mSM_MODEL_DIR=/opt/ml/model\u001b[0m\n",
      "\u001b[34mSM_MODULE_DIR=s3://sagemaker-us-east-1-804604702169/pytorch-training-2021-08-10-19-16-05-718/source/sourcedir.tar.gz\u001b[0m\n",
      "\u001b[34mSM_TRAINING_ENV={\"additional_framework_parameters\":{},\"channel_input_dirs\":{\"training\":\"/opt/ml/input/data/training\"},\"current_host\":\"algo-1\",\"framework_module\":\"sagemaker_pytorch_container.training:main\",\"hosts\":[\"algo-1\"],\"hyperparameters\":{\"epochs\":10,\"hidden_dim\":200},\"input_config_dir\":\"/opt/ml/input/config\",\"input_data_config\":{\"training\":{\"RecordWrapperType\":\"None\",\"S3DistributionType\":\"FullyReplicated\",\"TrainingInputMode\":\"File\"}},\"input_dir\":\"/opt/ml/input\",\"is_master\":true,\"job_name\":\"pytorch-training-2021-08-10-19-16-05-718\",\"log_level\":20,\"master_hostname\":\"algo-1\",\"model_dir\":\"/opt/ml/model\",\"module_dir\":\"s3://sagemaker-us-east-1-804604702169/pytorch-training-2021-08-10-19-16-05-718/source/sourcedir.tar.gz\",\"module_name\":\"train\",\"network_interface_name\":\"eth0\",\"num_cpus\":4,\"num_gpus\":1,\"output_data_dir\":\"/opt/ml/output/data\",\"output_dir\":\"/opt/ml/output\",\"output_intermediate_dir\":\"/opt/ml/output/intermediate\",\"resource_config\":{\"current_host\":\"algo-1\",\"hosts\":[\"algo-1\"],\"network_interface_name\":\"eth0\"},\"user_entry_point\":\"train.py\"}\u001b[0m\n",
      "\u001b[34mSM_USER_ARGS=[\"--epochs\",\"10\",\"--hidden_dim\",\"200\"]\u001b[0m\n",
      "\u001b[34mSM_OUTPUT_INTERMEDIATE_DIR=/opt/ml/output/intermediate\u001b[0m\n",
      "\u001b[34mSM_CHANNEL_TRAINING=/opt/ml/input/data/training\u001b[0m\n",
      "\u001b[34mSM_HP_HIDDEN_DIM=200\u001b[0m\n",
      "\u001b[34mSM_HP_EPOCHS=10\u001b[0m\n",
      "\u001b[34mPYTHONPATH=/opt/ml/code:/opt/conda/bin:/opt/conda/lib/python36.zip:/opt/conda/lib/python3.6:/opt/conda/lib/python3.6/lib-dynload:/opt/conda/lib/python3.6/site-packages\n",
      "\u001b[0m\n",
      "\u001b[34mInvoking script with the following command:\n",
      "\u001b[0m\n",
      "\u001b[34m/opt/conda/bin/python3.6 train.py --epochs 10 --hidden_dim 200\n",
      "\n",
      "\u001b[0m\n",
      "\u001b[34mUsing device cuda.\u001b[0m\n",
      "\u001b[34mGet train data loader.\u001b[0m\n",
      "\u001b[34mModel loaded with embedding_dim 32, hidden_dim 200, vocab_size 5000.\u001b[0m\n",
      "\u001b[34m[2021-08-10 19:21:45.521 algo-1:31 INFO utils.py:27] RULE_JOB_STOP_SIGNAL_FILENAME: None\u001b[0m\n",
      "\u001b[34m[2021-08-10 19:21:45.843 algo-1:31 INFO profiler_config_parser.py:102] User has disabled profiler.\u001b[0m\n",
      "\u001b[34m[2021-08-10 19:21:45.843 algo-1:31 INFO json_config.py:91] Creating hook from json_config at /opt/ml/input/config/debughookconfig.json.\u001b[0m\n",
      "\u001b[34m[2021-08-10 19:21:45.844 algo-1:31 INFO hook.py:199] tensorboard_dir has not been set for the hook. SMDebug will not be exporting tensorboard summaries.\u001b[0m\n",
      "\u001b[34m[2021-08-10 19:21:45.844 algo-1:31 INFO hook.py:253] Saving to /opt/ml/output/tensors\u001b[0m\n",
      "\u001b[34m[2021-08-10 19:21:45.845 algo-1:31 INFO state_store.py:77] The checkpoint config file /opt/ml/input/config/checkpointconfig.json does not exist.\u001b[0m\n",
      "\u001b[34m[2021-08-10 19:21:45.845 algo-1:31 INFO hook.py:584] name:embedding.weight count_params:160000\u001b[0m\n",
      "\u001b[34m[2021-08-10 19:21:45.845 algo-1:31 INFO hook.py:584] name:lstm.weight_ih_l0 count_params:25600\u001b[0m\n",
      "\u001b[34m[2021-08-10 19:21:45.845 algo-1:31 INFO hook.py:584] name:lstm.weight_hh_l0 count_params:160000\u001b[0m\n",
      "\u001b[34m[2021-08-10 19:21:45.845 algo-1:31 INFO hook.py:584] name:lstm.bias_ih_l0 count_params:800\u001b[0m\n",
      "\u001b[34m[2021-08-10 19:21:45.846 algo-1:31 INFO hook.py:584] name:lstm.bias_hh_l0 count_params:800\u001b[0m\n",
      "\u001b[34m[2021-08-10 19:21:45.846 algo-1:31 INFO hook.py:584] name:dense.weight count_params:200\u001b[0m\n",
      "\u001b[34m[2021-08-10 19:21:45.846 algo-1:31 INFO hook.py:584] name:dense.bias count_params:1\u001b[0m\n",
      "\u001b[34m[2021-08-10 19:21:45.846 algo-1:31 INFO hook.py:586] Total Trainable Params: 347401\u001b[0m\n",
      "\u001b[34m[2021-08-10 19:21:45.846 algo-1:31 INFO hook.py:413] Monitoring the collections: losses\u001b[0m\n",
      "\u001b[34m[2021-08-10 19:21:45.848 algo-1:31 INFO hook.py:476] Hook is writing from the hook with pid: 31\n",
      "\u001b[0m\n"
     ]
    },
    {
     "name": "stdout",
     "output_type": "stream",
     "text": [
      "\u001b[34mEpoch: 1, BCELoss: 0.6740543088134454\u001b[0m\n",
      "\u001b[34mEpoch: 2, BCELoss: 0.6022386648217026\u001b[0m\n",
      "\u001b[34mEpoch: 3, BCELoss: 0.4997656838018067\u001b[0m\n",
      "\u001b[34mEpoch: 4, BCELoss: 0.4238818397327345\u001b[0m\n",
      "\u001b[34mEpoch: 5, BCELoss: 0.38591035227386317\u001b[0m\n",
      "\u001b[34mEpoch: 6, BCELoss: 0.3637635330764615\u001b[0m\n",
      "\u001b[34mEpoch: 7, BCELoss: 0.3529281938562588\u001b[0m\n",
      "\u001b[34mEpoch: 8, BCELoss: 0.30158030925964824\u001b[0m\n",
      "\u001b[34mEpoch: 9, BCELoss: 0.30744082191768957\u001b[0m\n",
      "\n",
      "2021-08-10 19:24:41 Uploading - Uploading generated training model\u001b[34mEpoch: 10, BCELoss: 0.28836183219539874\n",
      "\u001b[0m\n",
      "\u001b[34m2021-08-10 19:24:39,001 sagemaker-training-toolkit INFO     Reporting training SUCCESS\u001b[0m\n",
      "\n",
      "2021-08-10 19:24:54 Completed - Training job completed\n",
      "Training seconds: 320\n",
      "Billable seconds: 320\n"
     ]
    }
   ],
   "source": [
    "estimator.fit({'training': input_data})"
   ]
  },
  {
   "cell_type": "markdown",
   "metadata": {},
   "source": [
    "## Step 5: Testing the model\n",
    "\n",
    "As mentioned at the top of this notebook, we will be testing this model by first deploying it and then sending the testing data to the deployed endpoint. We will do this so that we can make sure that the deployed model is working correctly.\n",
    "\n",
    "## Step 6: Deploy the model for testing\n",
    "\n",
    "Now that we have trained our model, we would like to test it to see how it performs. Currently our model takes input of the form `review_length, review[500]` where `review[500]` is a sequence of `500` integers which describe the words present in the review, encoded using `word_dict`. Fortunately for us, SageMaker provides built-in inference code for models with simple inputs such as this.\n"
   ]
  },
  {
   "cell_type": "code",
   "execution_count": 32,
   "metadata": {
    "scrolled": true
   },
   "outputs": [
    {
     "name": "stdout",
     "output_type": "stream",
     "text": [
      "---------------------!"
     ]
    }
   ],
   "source": [
    "# Deploy the trained model\n",
    "predictor = estimator.deploy(initial_instance_count=1, instance_type='ml.m4.xlarge')"
   ]
  },
  {
   "cell_type": "markdown",
   "metadata": {},
   "source": [
    "## Step 7 - Use the model for testing\n",
    "\n",
    "Once deployed, we can read in the test data and send it off to our deployed model to get some results. Once we collect all of the results we can determine how accurate our model is."
   ]
  },
  {
   "cell_type": "code",
   "execution_count": 33,
   "metadata": {},
   "outputs": [],
   "source": [
    "test_X = pd.concat([pd.DataFrame(test_X_len), pd.DataFrame(test_X)], axis=1)"
   ]
  },
  {
   "cell_type": "code",
   "execution_count": 34,
   "metadata": {},
   "outputs": [],
   "source": [
    "# We split the data into chunks and send each chunk seperately, accumulating the results.\n",
    "\n",
    "def predict(data, rows=512):\n",
    "    split_array = np.array_split(data, int(data.shape[0] / float(rows) + 1))\n",
    "    predictions = np.array([])\n",
    "    for array in split_array:\n",
    "        predictions = np.append(predictions, predictor.predict(array))\n",
    "    \n",
    "    return predictions"
   ]
  },
  {
   "cell_type": "code",
   "execution_count": 35,
   "metadata": {},
   "outputs": [
    {
     "ename": "ModelError",
     "evalue": "An error occurred (ModelError) when calling the InvokeEndpoint operation: Received server error (0) from model with message \"Your invocation timed out while waiting for a response from container model. Review the latency metrics for each container in Amazon CloudWatch, resolve the issue, and try again.\". See https://us-east-1.console.aws.amazon.com/cloudwatch/home?region=us-east-1#logEventViewer:group=/aws/sagemaker/Endpoints/pytorch-training-2021-08-10-13-33-31-966 in account 804604702169 for more information.",
     "output_type": "error",
     "traceback": [
      "\u001b[0;31m---------------------------------------------------------------------------\u001b[0m",
      "\u001b[0;31mModelError\u001b[0m                                Traceback (most recent call last)",
      "\u001b[0;32m<ipython-input-35-46108efe51ea>\u001b[0m in \u001b[0;36m<module>\u001b[0;34m\u001b[0m\n\u001b[0;32m----> 1\u001b[0;31m \u001b[0mpredictions\u001b[0m \u001b[0;34m=\u001b[0m \u001b[0mpredict\u001b[0m\u001b[0;34m(\u001b[0m\u001b[0mtest_X\u001b[0m\u001b[0;34m.\u001b[0m\u001b[0mvalues\u001b[0m\u001b[0;34m)\u001b[0m\u001b[0;34m\u001b[0m\u001b[0;34m\u001b[0m\u001b[0m\n\u001b[0m\u001b[1;32m      2\u001b[0m \u001b[0mpredictions\u001b[0m \u001b[0;34m=\u001b[0m \u001b[0;34m[\u001b[0m\u001b[0mround\u001b[0m\u001b[0;34m(\u001b[0m\u001b[0mnum\u001b[0m\u001b[0;34m)\u001b[0m \u001b[0;32mfor\u001b[0m \u001b[0mnum\u001b[0m \u001b[0;32min\u001b[0m \u001b[0mpredictions\u001b[0m\u001b[0;34m]\u001b[0m\u001b[0;34m\u001b[0m\u001b[0;34m\u001b[0m\u001b[0m\n",
      "\u001b[0;32m<ipython-input-34-215b27c43941>\u001b[0m in \u001b[0;36mpredict\u001b[0;34m(data, rows)\u001b[0m\n\u001b[1;32m      5\u001b[0m     \u001b[0mpredictions\u001b[0m \u001b[0;34m=\u001b[0m \u001b[0mnp\u001b[0m\u001b[0;34m.\u001b[0m\u001b[0marray\u001b[0m\u001b[0;34m(\u001b[0m\u001b[0;34m[\u001b[0m\u001b[0;34m]\u001b[0m\u001b[0;34m)\u001b[0m\u001b[0;34m\u001b[0m\u001b[0;34m\u001b[0m\u001b[0m\n\u001b[1;32m      6\u001b[0m     \u001b[0;32mfor\u001b[0m \u001b[0marray\u001b[0m \u001b[0;32min\u001b[0m \u001b[0msplit_array\u001b[0m\u001b[0;34m:\u001b[0m\u001b[0;34m\u001b[0m\u001b[0;34m\u001b[0m\u001b[0m\n\u001b[0;32m----> 7\u001b[0;31m         \u001b[0mpredictions\u001b[0m \u001b[0;34m=\u001b[0m \u001b[0mnp\u001b[0m\u001b[0;34m.\u001b[0m\u001b[0mappend\u001b[0m\u001b[0;34m(\u001b[0m\u001b[0mpredictions\u001b[0m\u001b[0;34m,\u001b[0m \u001b[0mpredictor\u001b[0m\u001b[0;34m.\u001b[0m\u001b[0mpredict\u001b[0m\u001b[0;34m(\u001b[0m\u001b[0marray\u001b[0m\u001b[0;34m)\u001b[0m\u001b[0;34m)\u001b[0m\u001b[0;34m\u001b[0m\u001b[0;34m\u001b[0m\u001b[0m\n\u001b[0m\u001b[1;32m      8\u001b[0m \u001b[0;34m\u001b[0m\u001b[0m\n\u001b[1;32m      9\u001b[0m     \u001b[0;32mreturn\u001b[0m \u001b[0mpredictions\u001b[0m\u001b[0;34m\u001b[0m\u001b[0;34m\u001b[0m\u001b[0m\n",
      "\u001b[0;32m~/anaconda3/envs/amazonei_pytorch_latest_p36/lib/python3.6/site-packages/sagemaker/predictor.py\u001b[0m in \u001b[0;36mpredict\u001b[0;34m(self, data, initial_args, target_model, target_variant, inference_id)\u001b[0m\n\u001b[1;32m    134\u001b[0m             \u001b[0mdata\u001b[0m\u001b[0;34m,\u001b[0m \u001b[0minitial_args\u001b[0m\u001b[0;34m,\u001b[0m \u001b[0mtarget_model\u001b[0m\u001b[0;34m,\u001b[0m \u001b[0mtarget_variant\u001b[0m\u001b[0;34m,\u001b[0m \u001b[0minference_id\u001b[0m\u001b[0;34m\u001b[0m\u001b[0;34m\u001b[0m\u001b[0m\n\u001b[1;32m    135\u001b[0m         )\n\u001b[0;32m--> 136\u001b[0;31m         \u001b[0mresponse\u001b[0m \u001b[0;34m=\u001b[0m \u001b[0mself\u001b[0m\u001b[0;34m.\u001b[0m\u001b[0msagemaker_session\u001b[0m\u001b[0;34m.\u001b[0m\u001b[0msagemaker_runtime_client\u001b[0m\u001b[0;34m.\u001b[0m\u001b[0minvoke_endpoint\u001b[0m\u001b[0;34m(\u001b[0m\u001b[0;34m**\u001b[0m\u001b[0mrequest_args\u001b[0m\u001b[0;34m)\u001b[0m\u001b[0;34m\u001b[0m\u001b[0;34m\u001b[0m\u001b[0m\n\u001b[0m\u001b[1;32m    137\u001b[0m         \u001b[0;32mreturn\u001b[0m \u001b[0mself\u001b[0m\u001b[0;34m.\u001b[0m\u001b[0m_handle_response\u001b[0m\u001b[0;34m(\u001b[0m\u001b[0mresponse\u001b[0m\u001b[0;34m)\u001b[0m\u001b[0;34m\u001b[0m\u001b[0;34m\u001b[0m\u001b[0m\n\u001b[1;32m    138\u001b[0m \u001b[0;34m\u001b[0m\u001b[0m\n",
      "\u001b[0;32m~/anaconda3/envs/amazonei_pytorch_latest_p36/lib/python3.6/site-packages/botocore/client.py\u001b[0m in \u001b[0;36m_api_call\u001b[0;34m(self, *args, **kwargs)\u001b[0m\n\u001b[1;32m    384\u001b[0m                     \"%s() only accepts keyword arguments.\" % py_operation_name)\n\u001b[1;32m    385\u001b[0m             \u001b[0;31m# The \"self\" in this scope is referring to the BaseClient.\u001b[0m\u001b[0;34m\u001b[0m\u001b[0;34m\u001b[0m\u001b[0;34m\u001b[0m\u001b[0m\n\u001b[0;32m--> 386\u001b[0;31m             \u001b[0;32mreturn\u001b[0m \u001b[0mself\u001b[0m\u001b[0;34m.\u001b[0m\u001b[0m_make_api_call\u001b[0m\u001b[0;34m(\u001b[0m\u001b[0moperation_name\u001b[0m\u001b[0;34m,\u001b[0m \u001b[0mkwargs\u001b[0m\u001b[0;34m)\u001b[0m\u001b[0;34m\u001b[0m\u001b[0;34m\u001b[0m\u001b[0m\n\u001b[0m\u001b[1;32m    387\u001b[0m \u001b[0;34m\u001b[0m\u001b[0m\n\u001b[1;32m    388\u001b[0m         \u001b[0m_api_call\u001b[0m\u001b[0;34m.\u001b[0m\u001b[0m__name__\u001b[0m \u001b[0;34m=\u001b[0m \u001b[0mstr\u001b[0m\u001b[0;34m(\u001b[0m\u001b[0mpy_operation_name\u001b[0m\u001b[0;34m)\u001b[0m\u001b[0;34m\u001b[0m\u001b[0;34m\u001b[0m\u001b[0m\n",
      "\u001b[0;32m~/anaconda3/envs/amazonei_pytorch_latest_p36/lib/python3.6/site-packages/botocore/client.py\u001b[0m in \u001b[0;36m_make_api_call\u001b[0;34m(self, operation_name, api_params)\u001b[0m\n\u001b[1;32m    703\u001b[0m             \u001b[0merror_code\u001b[0m \u001b[0;34m=\u001b[0m \u001b[0mparsed_response\u001b[0m\u001b[0;34m.\u001b[0m\u001b[0mget\u001b[0m\u001b[0;34m(\u001b[0m\u001b[0;34m\"Error\"\u001b[0m\u001b[0;34m,\u001b[0m \u001b[0;34m{\u001b[0m\u001b[0;34m}\u001b[0m\u001b[0;34m)\u001b[0m\u001b[0;34m.\u001b[0m\u001b[0mget\u001b[0m\u001b[0;34m(\u001b[0m\u001b[0;34m\"Code\"\u001b[0m\u001b[0;34m)\u001b[0m\u001b[0;34m\u001b[0m\u001b[0;34m\u001b[0m\u001b[0m\n\u001b[1;32m    704\u001b[0m             \u001b[0merror_class\u001b[0m \u001b[0;34m=\u001b[0m \u001b[0mself\u001b[0m\u001b[0;34m.\u001b[0m\u001b[0mexceptions\u001b[0m\u001b[0;34m.\u001b[0m\u001b[0mfrom_code\u001b[0m\u001b[0;34m(\u001b[0m\u001b[0merror_code\u001b[0m\u001b[0;34m)\u001b[0m\u001b[0;34m\u001b[0m\u001b[0;34m\u001b[0m\u001b[0m\n\u001b[0;32m--> 705\u001b[0;31m             \u001b[0;32mraise\u001b[0m \u001b[0merror_class\u001b[0m\u001b[0;34m(\u001b[0m\u001b[0mparsed_response\u001b[0m\u001b[0;34m,\u001b[0m \u001b[0moperation_name\u001b[0m\u001b[0;34m)\u001b[0m\u001b[0;34m\u001b[0m\u001b[0;34m\u001b[0m\u001b[0m\n\u001b[0m\u001b[1;32m    706\u001b[0m         \u001b[0;32melse\u001b[0m\u001b[0;34m:\u001b[0m\u001b[0;34m\u001b[0m\u001b[0;34m\u001b[0m\u001b[0m\n\u001b[1;32m    707\u001b[0m             \u001b[0;32mreturn\u001b[0m \u001b[0mparsed_response\u001b[0m\u001b[0;34m\u001b[0m\u001b[0;34m\u001b[0m\u001b[0m\n",
      "\u001b[0;31mModelError\u001b[0m: An error occurred (ModelError) when calling the InvokeEndpoint operation: Received server error (0) from model with message \"Your invocation timed out while waiting for a response from container model. Review the latency metrics for each container in Amazon CloudWatch, resolve the issue, and try again.\". See https://us-east-1.console.aws.amazon.com/cloudwatch/home?region=us-east-1#logEventViewer:group=/aws/sagemaker/Endpoints/pytorch-training-2021-08-10-13-33-31-966 in account 804604702169 for more information."
     ]
    }
   ],
   "source": [
    "predictions = predict(test_X.values)\n",
    "predictions = [round(num) for num in predictions]"
   ]
  },
  {
   "cell_type": "code",
   "execution_count": 104,
   "metadata": {},
   "outputs": [
    {
     "data": {
      "text/plain": [
       "0.85452"
      ]
     },
     "execution_count": 104,
     "metadata": {},
     "output_type": "execute_result"
    }
   ],
   "source": [
    "from sklearn.metrics import accuracy_score\n",
    "accuracy_score(test_y, predictions)"
   ]
  },
  {
   "cell_type": "markdown",
   "metadata": {},
   "source": [
    "We get an accuracy score on the test dataset of ~ 85.5%"
   ]
  },
  {
   "cell_type": "markdown",
   "metadata": {},
   "source": [
    "### More testing\n",
    "\n",
    "We now have a trained model which has been deployed and which we can send processed reviews to and which returns the predicted sentiment. However, ultimately we would like to be able to send our model an unprocessed review. That is, we would like to send the review itself as a string. For example, suppose we wish to send the following review to our model."
   ]
  },
  {
   "cell_type": "code",
   "execution_count": 83,
   "metadata": {},
   "outputs": [],
   "source": [
    "test_review = 'The simplest pleasures in life are the best, and this film is one of them. Combining a rather basic storyline of love and adventure this movie transcends the usual weekend fair with wit and unmitigated charm.'"
   ]
  },
  {
   "cell_type": "markdown",
   "metadata": {},
   "source": [
    "To send this review to our model, we need to:\n",
    "\n",
    " - Removed any html tags and stemmed the input\n",
    " - Encoded the review as a sequence of integers using `word_dict`\n",
    " "
   ]
  },
  {
   "cell_type": "code",
   "execution_count": 40,
   "metadata": {},
   "outputs": [],
   "source": [
    "# Convert test_review into a form usable by the model and save the results in test_data\n",
    "test_data = None\n",
    "test_data_tokenize = review_to_words(test_review)\n",
    "test_data = [np.array(convert_and_pad(word_dict, test_data_tokenize)[0])]"
   ]
  },
  {
   "cell_type": "markdown",
   "metadata": {},
   "source": [
    "Now that we have processed the review, we can send the resulting array to our model to predict the sentiment of the review."
   ]
  },
  {
   "cell_type": "code",
   "execution_count": 41,
   "metadata": {},
   "outputs": [
    {
     "ename": "ModelError",
     "evalue": "An error occurred (ModelError) when calling the InvokeEndpoint operation: Received server error (0) from model with message \"Your invocation timed out while waiting for a response from container model. Review the latency metrics for each container in Amazon CloudWatch, resolve the issue, and try again.\". See https://us-east-1.console.aws.amazon.com/cloudwatch/home?region=us-east-1#logEventViewer:group=/aws/sagemaker/Endpoints/pytorch-training-2021-08-07-14-19-28-937 in account 804604702169 for more information.",
     "output_type": "error",
     "traceback": [
      "\u001b[0;31m---------------------------------------------------------------------------\u001b[0m",
      "\u001b[0;31mModelError\u001b[0m                                Traceback (most recent call last)",
      "\u001b[0;32m<ipython-input-41-61ff0951d88d>\u001b[0m in \u001b[0;36m<module>\u001b[0;34m\u001b[0m\n\u001b[0;32m----> 1\u001b[0;31m \u001b[0mpredictor\u001b[0m\u001b[0;34m.\u001b[0m\u001b[0mpredict\u001b[0m\u001b[0;34m(\u001b[0m\u001b[0mtest_data\u001b[0m\u001b[0;34m)\u001b[0m\u001b[0;34m\u001b[0m\u001b[0;34m\u001b[0m\u001b[0m\n\u001b[0m",
      "\u001b[0;32m~/anaconda3/envs/amazonei_pytorch_latest_p36/lib/python3.6/site-packages/sagemaker/predictor.py\u001b[0m in \u001b[0;36mpredict\u001b[0;34m(self, data, initial_args, target_model, target_variant, inference_id)\u001b[0m\n\u001b[1;32m    134\u001b[0m             \u001b[0mdata\u001b[0m\u001b[0;34m,\u001b[0m \u001b[0minitial_args\u001b[0m\u001b[0;34m,\u001b[0m \u001b[0mtarget_model\u001b[0m\u001b[0;34m,\u001b[0m \u001b[0mtarget_variant\u001b[0m\u001b[0;34m,\u001b[0m \u001b[0minference_id\u001b[0m\u001b[0;34m\u001b[0m\u001b[0;34m\u001b[0m\u001b[0m\n\u001b[1;32m    135\u001b[0m         )\n\u001b[0;32m--> 136\u001b[0;31m         \u001b[0mresponse\u001b[0m \u001b[0;34m=\u001b[0m \u001b[0mself\u001b[0m\u001b[0;34m.\u001b[0m\u001b[0msagemaker_session\u001b[0m\u001b[0;34m.\u001b[0m\u001b[0msagemaker_runtime_client\u001b[0m\u001b[0;34m.\u001b[0m\u001b[0minvoke_endpoint\u001b[0m\u001b[0;34m(\u001b[0m\u001b[0;34m**\u001b[0m\u001b[0mrequest_args\u001b[0m\u001b[0;34m)\u001b[0m\u001b[0;34m\u001b[0m\u001b[0;34m\u001b[0m\u001b[0m\n\u001b[0m\u001b[1;32m    137\u001b[0m         \u001b[0;32mreturn\u001b[0m \u001b[0mself\u001b[0m\u001b[0;34m.\u001b[0m\u001b[0m_handle_response\u001b[0m\u001b[0;34m(\u001b[0m\u001b[0mresponse\u001b[0m\u001b[0;34m)\u001b[0m\u001b[0;34m\u001b[0m\u001b[0;34m\u001b[0m\u001b[0m\n\u001b[1;32m    138\u001b[0m \u001b[0;34m\u001b[0m\u001b[0m\n",
      "\u001b[0;32m~/anaconda3/envs/amazonei_pytorch_latest_p36/lib/python3.6/site-packages/botocore/client.py\u001b[0m in \u001b[0;36m_api_call\u001b[0;34m(self, *args, **kwargs)\u001b[0m\n\u001b[1;32m    384\u001b[0m                     \"%s() only accepts keyword arguments.\" % py_operation_name)\n\u001b[1;32m    385\u001b[0m             \u001b[0;31m# The \"self\" in this scope is referring to the BaseClient.\u001b[0m\u001b[0;34m\u001b[0m\u001b[0;34m\u001b[0m\u001b[0;34m\u001b[0m\u001b[0m\n\u001b[0;32m--> 386\u001b[0;31m             \u001b[0;32mreturn\u001b[0m \u001b[0mself\u001b[0m\u001b[0;34m.\u001b[0m\u001b[0m_make_api_call\u001b[0m\u001b[0;34m(\u001b[0m\u001b[0moperation_name\u001b[0m\u001b[0;34m,\u001b[0m \u001b[0mkwargs\u001b[0m\u001b[0;34m)\u001b[0m\u001b[0;34m\u001b[0m\u001b[0;34m\u001b[0m\u001b[0m\n\u001b[0m\u001b[1;32m    387\u001b[0m \u001b[0;34m\u001b[0m\u001b[0m\n\u001b[1;32m    388\u001b[0m         \u001b[0m_api_call\u001b[0m\u001b[0;34m.\u001b[0m\u001b[0m__name__\u001b[0m \u001b[0;34m=\u001b[0m \u001b[0mstr\u001b[0m\u001b[0;34m(\u001b[0m\u001b[0mpy_operation_name\u001b[0m\u001b[0;34m)\u001b[0m\u001b[0;34m\u001b[0m\u001b[0;34m\u001b[0m\u001b[0m\n",
      "\u001b[0;32m~/anaconda3/envs/amazonei_pytorch_latest_p36/lib/python3.6/site-packages/botocore/client.py\u001b[0m in \u001b[0;36m_make_api_call\u001b[0;34m(self, operation_name, api_params)\u001b[0m\n\u001b[1;32m    703\u001b[0m             \u001b[0merror_code\u001b[0m \u001b[0;34m=\u001b[0m \u001b[0mparsed_response\u001b[0m\u001b[0;34m.\u001b[0m\u001b[0mget\u001b[0m\u001b[0;34m(\u001b[0m\u001b[0;34m\"Error\"\u001b[0m\u001b[0;34m,\u001b[0m \u001b[0;34m{\u001b[0m\u001b[0;34m}\u001b[0m\u001b[0;34m)\u001b[0m\u001b[0;34m.\u001b[0m\u001b[0mget\u001b[0m\u001b[0;34m(\u001b[0m\u001b[0;34m\"Code\"\u001b[0m\u001b[0;34m)\u001b[0m\u001b[0;34m\u001b[0m\u001b[0;34m\u001b[0m\u001b[0m\n\u001b[1;32m    704\u001b[0m             \u001b[0merror_class\u001b[0m \u001b[0;34m=\u001b[0m \u001b[0mself\u001b[0m\u001b[0;34m.\u001b[0m\u001b[0mexceptions\u001b[0m\u001b[0;34m.\u001b[0m\u001b[0mfrom_code\u001b[0m\u001b[0;34m(\u001b[0m\u001b[0merror_code\u001b[0m\u001b[0;34m)\u001b[0m\u001b[0;34m\u001b[0m\u001b[0;34m\u001b[0m\u001b[0m\n\u001b[0;32m--> 705\u001b[0;31m             \u001b[0;32mraise\u001b[0m \u001b[0merror_class\u001b[0m\u001b[0;34m(\u001b[0m\u001b[0mparsed_response\u001b[0m\u001b[0;34m,\u001b[0m \u001b[0moperation_name\u001b[0m\u001b[0;34m)\u001b[0m\u001b[0;34m\u001b[0m\u001b[0;34m\u001b[0m\u001b[0m\n\u001b[0m\u001b[1;32m    706\u001b[0m         \u001b[0;32melse\u001b[0m\u001b[0;34m:\u001b[0m\u001b[0;34m\u001b[0m\u001b[0;34m\u001b[0m\u001b[0m\n\u001b[1;32m    707\u001b[0m             \u001b[0;32mreturn\u001b[0m \u001b[0mparsed_response\u001b[0m\u001b[0;34m\u001b[0m\u001b[0;34m\u001b[0m\u001b[0m\n",
      "\u001b[0;31mModelError\u001b[0m: An error occurred (ModelError) when calling the InvokeEndpoint operation: Received server error (0) from model with message \"Your invocation timed out while waiting for a response from container model. Review the latency metrics for each container in Amazon CloudWatch, resolve the issue, and try again.\". See https://us-east-1.console.aws.amazon.com/cloudwatch/home?region=us-east-1#logEventViewer:group=/aws/sagemaker/Endpoints/pytorch-training-2021-08-07-14-19-28-937 in account 804604702169 for more information."
     ]
    }
   ],
   "source": [
    "predictor.predict(test_data)"
   ]
  },
  {
   "cell_type": "markdown",
   "metadata": {},
   "source": [
    "### Delete the endpoint\n",
    "\n",
    "Since we are done using our endpoint for now, we can delete it."
   ]
  },
  {
   "cell_type": "code",
   "execution_count": 135,
   "metadata": {},
   "outputs": [],
   "source": [
    "predictor.delete_endpoint()"
   ]
  },
  {
   "cell_type": "markdown",
   "metadata": {},
   "source": [
    "## Step 6 (again) - Deploy the model for the web app\n",
    "\n",
    "Now that we know that our model is working, it's time to create some custom inference code so that we can send the model a review which has not been processed and have it determine the sentiment of the review.\n",
    "\n",
    "As we saw above, by default the estimator which we created, when deployed, will use the entry script and directory which we provided when creating the model. However, since we now wish to accept a string as input and our model expects a processed review, we need to write some custom inference code.\n",
    "\n",
    "We will store the code that we write in the `serve` directory. Provided in this directory is the `model.py` file that we used to construct our model, a `utils.py` file which contains the `review_to_words` and `convert_and_pad` pre-processing functions which we used during the initial data processing, and `predict.py`, the file which will contain our custom inference code. Note also that `requirements.txt` is present which will tell SageMaker what Python libraries are required by our custom inference code.\n",
    "\n",
    "When deploying a PyTorch model in SageMaker, you are expected to provide four functions which the SageMaker inference container will use.\n",
    " - `model_fn`: This function tells SageMaker how to load our model.\n",
    " - `input_fn`: This function receives the raw serialized input that has been sent to the model's endpoint and its job is to de-serialize and make the input available for the inference code.\n",
    " - `output_fn`: This function takes the output of the inference code and its job is to serialize this output and return it to the caller of the model's endpoint.\n",
    " - `predict_fn`: The heart of the inference script, this is where the actual prediction is done and is the function which you will need to complete.\n",
    "\n",
    "For the simple website that we are constructing during this project, the `input_fn` and `output_fn` methods are relatively straightforward. We only require being able to accept a string as input and we expect to return a single value as output. You might imagine though that in a more complex application the input or output may be image data or some other binary data which would require some effort to serialize.\n"
   ]
  },
  {
   "cell_type": "markdown",
   "metadata": {},
   "source": [
    "### Deploying the model\n",
    "\n",
    "We need to construct a new PyTorchModel object which points to the model artifacts created during training and also points to the inference code that we wish to use. Then we can call the deploy method to launch the deployment container.\n",
    "\n",
    "**NOTE**: The default behaviour for a deployed PyTorch model is to assume that any input passed to the predictor is a `numpy` array. In our case we want to send a string so we need to construct a simple wrapper around the `Predictor` class to accomodate simple strings. In a more complicated situation we may want to provide a serialization object, for example if we wanted to sent image data."
   ]
  },
  {
   "cell_type": "code",
   "execution_count": 84,
   "metadata": {},
   "outputs": [
    {
     "name": "stdout",
     "output_type": "stream",
     "text": [
      "---------------!"
     ]
    }
   ],
   "source": [
    "from sagemaker.predictor import Predictor\n",
    "from sagemaker.pytorch import PyTorchModel\n",
    "from sagemaker.serializers import CSVSerializer\n",
    "from sagemaker.deserializers import CSVDeserializer\n",
    "\n",
    "class StringPredictor(Predictor):\n",
    "    def __init__(self, endpoint_name, sagemaker_session):\n",
    "        super(StringPredictor, self).__init__(endpoint_name, sagemaker_session, CSVSerializer(), CSVDeserializer())\n",
    "\n",
    "#training_job_name = estimator.latest_training_job.name\n",
    "#desc = sagemaker_session.sagemaker_client.describe_training_job(TrainingJobName=training_job_name)\n",
    "#trained_model_location = desc[\"ModelArtifacts\"][\"S3ModelArtifacts\"]\n",
    "model = PyTorchModel(model_data=estimator.model_data,\n",
    "                     role = role,\n",
    "                     framework_version='1.6.0',\n",
    "                     py_version='py3',\n",
    "                     entry_point='predict.py',\n",
    "                     source_dir='serve',\n",
    "                     predictor_cls=StringPredictor)\n",
    "predictor = model.deploy(initial_instance_count=1, instance_type='ml.m4.xlarge', serializer=CSVSerializer(),\n",
    "    deserializer=CSVDeserializer(),)"
   ]
  },
  {
   "cell_type": "markdown",
   "metadata": {},
   "source": [
    "### Testing the model\n",
    "\n",
    "Now that we have deployed our model with the custom inference code, we should test to see if everything is working. Here we test our model by loading the first `250` positive and negative reviews and send them to the endpoint, then collect the results. The reason for only sending some of the data is that the amount of time it takes for our model to process the input and then perform inference is quite long and so testing the entire data set would be prohibitive."
   ]
  },
  {
   "cell_type": "code",
   "execution_count": 112,
   "metadata": {},
   "outputs": [],
   "source": [
    "import glob\n",
    "\n",
    "def test_reviews(data_dir='../data/aclImdb', stop=250):\n",
    "    \n",
    "    results = []\n",
    "    ground = []\n",
    "    \n",
    "    # We make sure to test both positive and negative reviews    \n",
    "    for sentiment in ['pos', 'neg']:\n",
    "        \n",
    "        path = os.path.join(data_dir, 'test', sentiment, '*.txt')\n",
    "        files = glob.glob(path)\n",
    "        \n",
    "        files_read = 0\n",
    "        \n",
    "        print('Starting ', sentiment, ' files')\n",
    "        \n",
    "        # Iterate through the files and send them to the predictor\n",
    "        for f in files:\n",
    "            with open(f) as review:\n",
    "                # First, we store the ground truth (was the review positive or negative)\n",
    "                if sentiment == 'pos':\n",
    "                    ground.append(1)\n",
    "                else:\n",
    "                    ground.append(0)\n",
    "                # Read in the review and convert to 'utf-8' for transmission via HTTP\n",
    "                #review_input = review.read().encode('utf-8')\n",
    "                review_input = review.read()\n",
    "                # Send the review to the predictor and store the results\n",
    "                #results.append(int(predictor.predict(review_input)))\n",
    "                results.append([float(s) for x in (predictor.predict(review_input)) for s in x])\n",
    "            # Sending reviews to our endpoint one at a time takes a while so we\n",
    "            # only send a small number of reviews\n",
    "            files_read += 1\n",
    "            if files_read == stop:\n",
    "                break\n",
    "            \n",
    "    return ground, results"
   ]
  },
  {
   "cell_type": "code",
   "execution_count": 113,
   "metadata": {},
   "outputs": [
    {
     "name": "stdout",
     "output_type": "stream",
     "text": [
      "Starting  pos  files\n",
      "Starting  neg  files\n"
     ]
    }
   ],
   "source": [
    "ground, results = test_reviews()"
   ]
  },
  {
   "cell_type": "code",
   "execution_count": 114,
   "metadata": {},
   "outputs": [
    {
     "data": {
      "text/plain": [
       "0.822"
      ]
     },
     "execution_count": 114,
     "metadata": {},
     "output_type": "execute_result"
    }
   ],
   "source": [
    "from sklearn.metrics import accuracy_score\n",
    "accuracy_score(ground, results)"
   ]
  },
  {
   "cell_type": "markdown",
   "metadata": {},
   "source": [
    "As an additional test, we can try sending the `test_review` that we looked at earlier."
   ]
  },
  {
   "cell_type": "code",
   "execution_count": 115,
   "metadata": {},
   "outputs": [
    {
     "data": {
      "text/plain": [
       "[['1.0']]"
      ]
     },
     "execution_count": 115,
     "metadata": {},
     "output_type": "execute_result"
    }
   ],
   "source": [
    "predictor.predict(test_review)"
   ]
  },
  {
   "cell_type": "markdown",
   "metadata": {},
   "source": [
    "Now that we know our endpoint is working as expected, we can set up the web page that will interact with it. If you don't have time to finish the project now, make sure to skip down to the end of this notebook and shut down your endpoint. You can deploy it again when you come back."
   ]
  },
  {
   "cell_type": "markdown",
   "metadata": {},
   "source": [
    "## Step 7 (again): Use the model for the web app\n",
    "\n",
    "> This section and the next are mostly done using the AWS console.\n",
    "\n",
    "So far we have been accessing our model endpoint by constructing a predictor object which uses the endpoint and then just using the predictor object to perform inference. What if we wanted to create a web app which accessed our model? The way things are set up currently makes that not possible since in order to access a SageMaker endpoint the app would first have to authenticate with AWS using an IAM role which included access to SageMaker endpoints. However, there is an easier way! We just need to use some additional AWS services.\n",
    "\n",
    "<img src=\"Web App Diagram.svg\">\n",
    "\n",
    "The diagram above gives an overview of how the various services will work together. On the far right is the model which we trained above and which is deployed using SageMaker. On the far left is our web app that collects a user's movie review, sends it off and expects a positive or negative sentiment in return.\n",
    "\n",
    "In the middle is where some of the magic happens. We will construct a Lambda function, which you can think of as a straightforward Python function that can be executed whenever a specified event occurs. We will give this function permission to send and recieve data from a SageMaker endpoint.\n",
    "\n",
    "Lastly, the method we will use to execute the Lambda function is a new endpoint that we will create using API Gateway. This endpoint will be a url that listens for data to be sent to it. Once it gets some data it will pass that data on to the Lambda function and then return whatever the Lambda function returns. Essentially it will act as an interface that lets our web app communicate with the Lambda function.\n",
    "\n",
    "### Setting up a Lambda function\n",
    "\n",
    "The first thing we are going to do is set up a Lambda function. This Lambda function will be executed whenever our public API has data sent to it. When it is executed it will receive the data, perform any sort of processing that is required, send the data (the review) to the SageMaker endpoint we've created and then return the result.\n",
    "\n",
    "#### Part A: Create an IAM Role for the Lambda function\n",
    "\n",
    "Since we want the Lambda function to call a SageMaker endpoint, we need to make sure that it has permission to do so. To do this, we will construct a role that we can later give the Lambda function.\n",
    "\n",
    "Using the AWS Console, navigate to the **IAM** page and click on **Roles**. Then, click on **Create role**. Make sure that the **AWS service** is the type of trusted entity selected and choose **Lambda** as the service that will use this role, then click **Next: Permissions**.\n",
    "\n",
    "In the search box type `sagemaker` and select the check box next to the **AmazonSageMakerFullAccess** policy. Then, click on **Next: Review**.\n",
    "\n",
    "Lastly, give this role a name. Make sure you use a name that you will remember later on, for example `LambdaSageMakerRole`. Then, click on **Create role**.\n",
    "\n",
    "#### Part B: Create a Lambda function\n",
    "\n",
    "Now it is time to actually create the Lambda function.\n",
    "\n",
    "Using the AWS Console, navigate to the AWS Lambda page and click on **Create a function**. When you get to the next page, make sure that **Author from scratch** is selected. Now, name your Lambda function, using a name that you will remember later on, for example `sentiment_analysis_func`. Make sure that the **Python 3.6** runtime is selected and then choose the role that you created in the previous part. Then, click on **Create Function**.\n",
    "\n",
    "On the next page you will see some information about the Lambda function you've just created. If you scroll down you should see an editor in which you can write the code that will be executed when your Lambda function is triggered. In our example, we will use the code below. \n",
    "\n",
    "```python\n",
    "# We need to use the low-level library to interact with SageMaker since the SageMaker API\n",
    "# is not available natively through Lambda.\n",
    "import boto3\n",
    "\n",
    "def lambda_handler(event, context):\n",
    "\n",
    "    # The SageMaker runtime is what allows us to invoke the endpoint that we've created.\n",
    "    runtime = boto3.Session().client('sagemaker-runtime')\n",
    "\n",
    "    # Now we use the SageMaker runtime to invoke our endpoint, sending the review we were given\n",
    "    response = runtime.invoke_endpoint(EndpointName = '**ENDPOINT NAME HERE**',    # The name of the endpoint we created\n",
    "                                       ContentType = 'text/plain',                 # The data format that is expected\n",
    "                                       Body = event['body'])                       # The actual review\n",
    "\n",
    "    # The response is an HTTP response whose body contains the result of our inference\n",
    "    result = response['Body'].read().decode('utf-8')\n",
    "\n",
    "    return {\n",
    "        'statusCode' : 200,\n",
    "        'headers' : { 'Content-Type' : 'text/plain', 'Access-Control-Allow-Origin' : '*' },\n",
    "        'body' : result\n",
    "    }\n",
    "```\n",
    "\n",
    "Once you have copy and pasted the code above into the Lambda code editor, replace the `**ENDPOINT NAME HERE**` portion with the name of the endpoint that we deployed earlier. You can determine the name of the endpoint using the code cell below."
   ]
  },
  {
   "cell_type": "code",
   "execution_count": 119,
   "metadata": {},
   "outputs": [
    {
     "data": {
      "text/plain": [
       "'pytorch-inference-2021-08-10-19-25-44-438'"
      ]
     },
     "execution_count": 119,
     "metadata": {},
     "output_type": "execute_result"
    }
   ],
   "source": [
    "predictor.endpoint_name"
   ]
  },
  {
   "cell_type": "markdown",
   "metadata": {},
   "source": [
    "Once you have added the endpoint name to the Lambda function, click on **Save**. Your Lambda function is now up and running. Next we need to create a way for our web app to execute the Lambda function.\n",
    "\n",
    "### Setting up API Gateway\n",
    "\n",
    "Now that our Lambda function is set up, it is time to create a new API using API Gateway that will trigger the Lambda function we have just created.\n",
    "\n",
    "Using AWS Console, navigate to **Amazon API Gateway** and then click on **Get started**.\n",
    "\n",
    "On the next page, make sure that **New API** is selected and give the new api a name, for example, `sentiment_analysis_api`. Then, click on **Create API**.\n",
    "\n",
    "Now we have created an API, however it doesn't currently do anything. What we want it to do is to trigger the Lambda function that we created earlier.\n",
    "\n",
    "Select the **Actions** dropdown menu and click **Create Method**. A new blank method will be created, select its dropdown menu and select **POST**, then click on the check mark beside it.\n",
    "\n",
    "For the integration point, make sure that **Lambda Function** is selected and click on the **Use Lambda Proxy integration**. This option makes sure that the data that is sent to the API is then sent directly to the Lambda function with no processing. It also means that the return value must be a proper response object as it will also not be processed by API Gateway.\n",
    "\n",
    "Type the name of the Lambda function you created earlier into the **Lambda Function** text entry box and then click on **Save**. Click on **OK** in the pop-up box that then appears, giving permission to API Gateway to invoke the Lambda function you created.\n",
    "\n",
    "The last step in creating the API Gateway is to select the **Actions** dropdown and click on **Deploy API**. You will need to create a new Deployment stage and name it anything you like, for example `prod`.\n",
    "\n",
    "You have now successfully set up a public API to access your SageMaker model. Make sure to copy or write down the URL provided to invoke your newly created public API as this will be needed in the next step. This URL can be found at the top of the page, highlighted in blue next to the text **Invoke URL**."
   ]
  },
  {
   "cell_type": "markdown",
   "metadata": {},
   "source": [
    "## Deploying our web app\n",
    "\n",
    "Now that we have a publicly available API, we can start using it in a web app."
   ]
  },
  {
   "cell_type": "markdown",
   "metadata": {},
   "source": [
    "### Delete the endpoint\n",
    "\n",
    "We are charged for the length of time that the endpoint is running so if we forget and leave it we could end up with an unexpectedly large bill from AWS."
   ]
  },
  {
   "cell_type": "code",
   "execution_count": 135,
   "metadata": {},
   "outputs": [],
   "source": [
    "predictor.delete_endpoint()"
   ]
  }
 ],
 "metadata": {
  "interpreter": {
   "hash": "843b354377648561a1458e86fbda6584c25181de78b081e87cc2f5330a07ae77"
  },
  "kernelspec": {
   "display_name": "conda_amazonei_pytorch_latest_p36",
   "language": "python",
   "name": "conda_amazonei_pytorch_latest_p36"
  },
  "language_info": {
   "codemirror_mode": {
    "name": "ipython",
    "version": 3
   },
   "file_extension": ".py",
   "mimetype": "text/x-python",
   "name": "python",
   "nbconvert_exporter": "python",
   "pygments_lexer": "ipython3",
   "version": "3.6.13"
  }
 },
 "nbformat": 4,
 "nbformat_minor": 2
}
